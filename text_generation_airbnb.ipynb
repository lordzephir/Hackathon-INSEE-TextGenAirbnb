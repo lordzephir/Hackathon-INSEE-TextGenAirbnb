{
 "cells": [
  {
   "cell_type": "markdown",
   "metadata": {},
   "source": [
    "# Génération de texte automatique"
   ]
  },
  {
   "cell_type": "markdown",
   "metadata": {},
   "source": [
    "#### Ce notebook contient le code pour générer des descriptions de biens de manière automatique."
   ]
  },
  {
   "cell_type": "code",
   "execution_count": 19,
   "metadata": {
    "collapsed": true,
    "jupyter": {
     "outputs_hidden": true
    }
   },
   "outputs": [
    {
     "name": "stdout",
     "output_type": "stream",
     "text": [
      "Requirement already satisfied: spacy in /opt/conda/lib/python3.7/site-packages (from -r requirements.txt (line 1)) (3.0.6)\n",
      "Requirement already satisfied: pycld3 in /opt/conda/lib/python3.7/site-packages (from -r requirements.txt (line 2)) (0.22)\n",
      "Requirement already satisfied: tensorflow in /opt/conda/lib/python3.7/site-packages (from -r requirements.txt (line 3)) (2.5.0)\n",
      "Requirement already satisfied: setuptools in /opt/conda/lib/python3.7/site-packages (from spacy->-r requirements.txt (line 1)) (45.2.0.post20200209)\n",
      "Requirement already satisfied: packaging>=20.0 in /opt/conda/lib/python3.7/site-packages (from spacy->-r requirements.txt (line 1)) (20.1)\n",
      "Requirement already satisfied: tqdm<5.0.0,>=4.38.0 in /opt/conda/lib/python3.7/site-packages (from spacy->-r requirements.txt (line 1)) (4.43.0)\n",
      "Requirement already satisfied: wasabi<1.1.0,>=0.8.1 in /opt/conda/lib/python3.7/site-packages (from spacy->-r requirements.txt (line 1)) (0.8.2)\n",
      "Requirement already satisfied: catalogue<2.1.0,>=2.0.3 in /opt/conda/lib/python3.7/site-packages (from spacy->-r requirements.txt (line 1)) (2.0.4)\n",
      "Requirement already satisfied: thinc<8.1.0,>=8.0.3 in /opt/conda/lib/python3.7/site-packages (from spacy->-r requirements.txt (line 1)) (8.0.6)\n",
      "Requirement already satisfied: typer<0.4.0,>=0.3.0 in /opt/conda/lib/python3.7/site-packages (from spacy->-r requirements.txt (line 1)) (0.3.2)\n",
      "Requirement already satisfied: jinja2 in /opt/conda/lib/python3.7/site-packages (from spacy->-r requirements.txt (line 1)) (2.11.1)\n",
      "Requirement already satisfied: spacy-legacy<3.1.0,>=3.0.4 in /opt/conda/lib/python3.7/site-packages (from spacy->-r requirements.txt (line 1)) (3.0.6)\n",
      "Requirement already satisfied: pydantic<1.8.0,>=1.7.1 in /opt/conda/lib/python3.7/site-packages (from spacy->-r requirements.txt (line 1)) (1.7.4)\n",
      "Requirement already satisfied: pathy>=0.3.5 in /opt/conda/lib/python3.7/site-packages (from spacy->-r requirements.txt (line 1)) (0.5.2)\n",
      "Requirement already satisfied: typing-extensions<4.0.0.0,>=3.7.4; python_version < \"3.8\" in /opt/conda/lib/python3.7/site-packages (from spacy->-r requirements.txt (line 1)) (3.7.4.3)\n",
      "Requirement already satisfied: srsly<3.0.0,>=2.4.1 in /opt/conda/lib/python3.7/site-packages (from spacy->-r requirements.txt (line 1)) (2.4.1)\n",
      "Requirement already satisfied: blis<0.8.0,>=0.4.0 in /opt/conda/lib/python3.7/site-packages (from spacy->-r requirements.txt (line 1)) (0.7.4)\n",
      "Requirement already satisfied: cymem<2.1.0,>=2.0.2 in /opt/conda/lib/python3.7/site-packages (from spacy->-r requirements.txt (line 1)) (2.0.5)\n",
      "Requirement already satisfied: murmurhash<1.1.0,>=0.28.0 in /opt/conda/lib/python3.7/site-packages (from spacy->-r requirements.txt (line 1)) (1.0.5)\n",
      "Requirement already satisfied: preshed<3.1.0,>=3.0.2 in /opt/conda/lib/python3.7/site-packages (from spacy->-r requirements.txt (line 1)) (3.0.5)\n",
      "Requirement already satisfied: numpy>=1.15.0 in /opt/conda/lib/python3.7/site-packages (from spacy->-r requirements.txt (line 1)) (1.18.1)\n",
      "Requirement already satisfied: requests<3.0.0,>=2.13.0 in /opt/conda/lib/python3.7/site-packages (from spacy->-r requirements.txt (line 1)) (2.23.0)\n",
      "Requirement already satisfied: google-pasta~=0.2 in /opt/conda/lib/python3.7/site-packages (from tensorflow->-r requirements.txt (line 3)) (0.2.0)\n",
      "Requirement already satisfied: six~=1.15.0 in /opt/conda/lib/python3.7/site-packages (from tensorflow->-r requirements.txt (line 3)) (1.15.0)\n",
      "Requirement already satisfied: protobuf>=3.9.2 in /opt/conda/lib/python3.7/site-packages (from tensorflow->-r requirements.txt (line 3)) (3.11.4)\n",
      "Requirement already satisfied: tensorboard~=2.5 in /opt/conda/lib/python3.7/site-packages (from tensorflow->-r requirements.txt (line 3)) (2.5.0)\n",
      "Requirement already satisfied: absl-py~=0.10 in /opt/conda/lib/python3.7/site-packages (from tensorflow->-r requirements.txt (line 3)) (0.13.0)\n",
      "Requirement already satisfied: gast==0.4.0 in /opt/conda/lib/python3.7/site-packages (from tensorflow->-r requirements.txt (line 3)) (0.4.0)\n",
      "Requirement already satisfied: grpcio~=1.34.0 in /opt/conda/lib/python3.7/site-packages (from tensorflow->-r requirements.txt (line 3)) (1.34.1)\n",
      "Requirement already satisfied: astunparse~=1.6.3 in /opt/conda/lib/python3.7/site-packages (from tensorflow->-r requirements.txt (line 3)) (1.6.3)\n",
      "Requirement already satisfied: flatbuffers~=1.12.0 in /opt/conda/lib/python3.7/site-packages (from tensorflow->-r requirements.txt (line 3)) (1.12)\n",
      "Requirement already satisfied: keras-nightly~=2.5.0.dev in /opt/conda/lib/python3.7/site-packages (from tensorflow->-r requirements.txt (line 3)) (2.5.0.dev2021032900)\n",
      "Requirement already satisfied: opt-einsum~=3.3.0 in /opt/conda/lib/python3.7/site-packages (from tensorflow->-r requirements.txt (line 3)) (3.3.0)\n",
      "Requirement already satisfied: wrapt~=1.12.1 in /opt/conda/lib/python3.7/site-packages (from tensorflow->-r requirements.txt (line 3)) (1.12.1)\n",
      "Requirement already satisfied: tensorflow-estimator<2.6.0,>=2.5.0rc0 in /opt/conda/lib/python3.7/site-packages (from tensorflow->-r requirements.txt (line 3)) (2.5.0)\n",
      "Requirement already satisfied: termcolor~=1.1.0 in /opt/conda/lib/python3.7/site-packages (from tensorflow->-r requirements.txt (line 3)) (1.1.0)\n",
      "Requirement already satisfied: keras-preprocessing~=1.1.2 in /opt/conda/lib/python3.7/site-packages (from tensorflow->-r requirements.txt (line 3)) (1.1.2)\n",
      "Requirement already satisfied: wheel~=0.35 in /opt/conda/lib/python3.7/site-packages (from tensorflow->-r requirements.txt (line 3)) (0.36.2)\n",
      "Requirement already satisfied: h5py~=3.1.0 in /opt/conda/lib/python3.7/site-packages (from tensorflow->-r requirements.txt (line 3)) (3.1.0)\n",
      "Requirement already satisfied: pyparsing>=2.0.2 in /opt/conda/lib/python3.7/site-packages (from packaging>=20.0->spacy->-r requirements.txt (line 1)) (2.4.6)\n",
      "Requirement already satisfied: zipp>=0.5; python_version < \"3.8\" in /opt/conda/lib/python3.7/site-packages (from catalogue<2.1.0,>=2.0.3->spacy->-r requirements.txt (line 1)) (3.1.0)\n",
      "Requirement already satisfied: click<7.2.0,>=7.1.1 in /opt/conda/lib/python3.7/site-packages (from typer<0.4.0,>=0.3.0->spacy->-r requirements.txt (line 1)) (7.1.2)\n",
      "Requirement already satisfied: MarkupSafe>=0.23 in /opt/conda/lib/python3.7/site-packages (from jinja2->spacy->-r requirements.txt (line 1)) (1.1.1)\n",
      "Requirement already satisfied: smart-open<4.0.0,>=2.2.0 in /opt/conda/lib/python3.7/site-packages (from pathy>=0.3.5->spacy->-r requirements.txt (line 1)) (3.0.0)\n",
      "Requirement already satisfied: certifi>=2017.4.17 in /opt/conda/lib/python3.7/site-packages (from requests<3.0.0,>=2.13.0->spacy->-r requirements.txt (line 1)) (2019.11.28)\n",
      "Requirement already satisfied: chardet<4,>=3.0.2 in /opt/conda/lib/python3.7/site-packages (from requests<3.0.0,>=2.13.0->spacy->-r requirements.txt (line 1)) (3.0.4)\n",
      "Requirement already satisfied: urllib3!=1.25.0,!=1.25.1,<1.26,>=1.21.1 in /opt/conda/lib/python3.7/site-packages (from requests<3.0.0,>=2.13.0->spacy->-r requirements.txt (line 1)) (1.25.7)\n",
      "Requirement already satisfied: idna<3,>=2.5 in /opt/conda/lib/python3.7/site-packages (from requests<3.0.0,>=2.13.0->spacy->-r requirements.txt (line 1)) (2.9)\n",
      "Requirement already satisfied: google-auth-oauthlib<0.5,>=0.4.1 in /opt/conda/lib/python3.7/site-packages (from tensorboard~=2.5->tensorflow->-r requirements.txt (line 3)) (0.4.4)\n",
      "Requirement already satisfied: werkzeug>=0.11.15 in /opt/conda/lib/python3.7/site-packages (from tensorboard~=2.5->tensorflow->-r requirements.txt (line 3)) (2.0.1)\n",
      "Requirement already satisfied: markdown>=2.6.8 in /opt/conda/lib/python3.7/site-packages (from tensorboard~=2.5->tensorflow->-r requirements.txt (line 3)) (3.3.4)\n",
      "Requirement already satisfied: tensorboard-plugin-wit>=1.6.0 in /opt/conda/lib/python3.7/site-packages (from tensorboard~=2.5->tensorflow->-r requirements.txt (line 3)) (1.8.0)\n",
      "Requirement already satisfied: tensorboard-data-server<0.7.0,>=0.6.0 in /opt/conda/lib/python3.7/site-packages (from tensorboard~=2.5->tensorflow->-r requirements.txt (line 3)) (0.6.1)\n",
      "Requirement already satisfied: google-auth<2,>=1.6.3 in /opt/conda/lib/python3.7/site-packages (from tensorboard~=2.5->tensorflow->-r requirements.txt (line 3)) (1.32.0)\n",
      "Requirement already satisfied: cached-property; python_version < \"3.8\" in /opt/conda/lib/python3.7/site-packages (from h5py~=3.1.0->tensorflow->-r requirements.txt (line 3)) (1.5.2)\n",
      "Requirement already satisfied: requests-oauthlib>=0.7.0 in /opt/conda/lib/python3.7/site-packages (from google-auth-oauthlib<0.5,>=0.4.1->tensorboard~=2.5->tensorflow->-r requirements.txt (line 3)) (1.3.0)\n",
      "Requirement already satisfied: importlib-metadata; python_version < \"3.8\" in /opt/conda/lib/python3.7/site-packages (from markdown>=2.6.8->tensorboard~=2.5->tensorflow->-r requirements.txt (line 3)) (1.5.0)\n",
      "Requirement already satisfied: pyasn1-modules>=0.2.1 in /opt/conda/lib/python3.7/site-packages (from google-auth<2,>=1.6.3->tensorboard~=2.5->tensorflow->-r requirements.txt (line 3)) (0.2.8)\n",
      "Requirement already satisfied: rsa<5,>=3.1.4; python_version >= \"3.6\" in /opt/conda/lib/python3.7/site-packages (from google-auth<2,>=1.6.3->tensorboard~=2.5->tensorflow->-r requirements.txt (line 3)) (4.7.2)\n",
      "Requirement already satisfied: cachetools<5.0,>=2.0.0 in /opt/conda/lib/python3.7/site-packages (from google-auth<2,>=1.6.3->tensorboard~=2.5->tensorflow->-r requirements.txt (line 3)) (4.2.2)\n",
      "Requirement already satisfied: oauthlib>=3.0.0 in /opt/conda/lib/python3.7/site-packages (from requests-oauthlib>=0.7.0->google-auth-oauthlib<0.5,>=0.4.1->tensorboard~=2.5->tensorflow->-r requirements.txt (line 3)) (3.0.1)\n",
      "Requirement already satisfied: pyasn1<0.5.0,>=0.4.6 in /opt/conda/lib/python3.7/site-packages (from pyasn1-modules>=0.2.1->google-auth<2,>=1.6.3->tensorboard~=2.5->tensorflow->-r requirements.txt (line 3)) (0.4.8)\n"
     ]
    }
   ],
   "source": [
    "! pip install -r requirements.txt"
   ]
  },
  {
   "cell_type": "code",
   "execution_count": null,
   "metadata": {},
   "outputs": [],
   "source": []
  },
  {
   "cell_type": "code",
   "execution_count": 1,
   "metadata": {},
   "outputs": [],
   "source": [
    "import os\n",
    "import pandas as pd\n",
    "import s3fs\n",
    "\n",
    "import re\n",
    "\n",
    "from bs4 import BeautifulSoup\n",
    "\n",
    "import spacy\n",
    "import cld3\n",
    "\n",
    "import numpy as np\n",
    "import tensorflow as tf\n",
    "from tensorflow.keras.preprocessing.sequence import pad_sequences\n",
    "from tensorflow.keras.layers import Embedding, LSTM, Dense, Dropout\n",
    "from tensorflow.keras.preprocessing.text import Tokenizer\n",
    "from tensorflow.keras.callbacks import EarlyStopping\n",
    "from tensorflow.keras.models import Sequential\n",
    "import tensorflow.keras.utils as ku "
   ]
  },
  {
   "cell_type": "code",
   "execution_count": 22,
   "metadata": {},
   "outputs": [],
   "source": [
    "#import shutil\n",
    "#shutil.make_archive(\"checkpoints_dir\", 'zip', \"checkpoints_dir\")\n",
    "#shutil.unpack_archive(\"checkpoints_dir.zip\", \"checkpoints_dir\", \"zip\")"
   ]
  },
  {
   "cell_type": "code",
   "execution_count": 5,
   "metadata": {},
   "outputs": [],
   "source": [
    "#fs = s3fs.S3FileSystem(client_kwargs={'endpoint_url': 'https://minio.lab.sspcloud.fr'}) \n",
    "#fs.get('projet-funathon/diffusion/data/paris/2021-04-10/listings.csv.gz', 'listings.csv.gz')"
   ]
  },
  {
   "cell_type": "code",
   "execution_count": 6,
   "metadata": {},
   "outputs": [],
   "source": [
    "listings_d = pd.read_csv('listings.csv.gz',compression='gzip')"
   ]
  },
  {
   "cell_type": "code",
   "execution_count": 7,
   "metadata": {},
   "outputs": [
    {
     "data": {
      "text/html": [
       "<div>\n",
       "<style scoped>\n",
       "    .dataframe tbody tr th:only-of-type {\n",
       "        vertical-align: middle;\n",
       "    }\n",
       "\n",
       "    .dataframe tbody tr th {\n",
       "        vertical-align: top;\n",
       "    }\n",
       "\n",
       "    .dataframe thead th {\n",
       "        text-align: right;\n",
       "    }\n",
       "</style>\n",
       "<table border=\"1\" class=\"dataframe\">\n",
       "  <thead>\n",
       "    <tr style=\"text-align: right;\">\n",
       "      <th></th>\n",
       "      <th>id</th>\n",
       "      <th>listing_url</th>\n",
       "      <th>scrape_id</th>\n",
       "      <th>last_scraped</th>\n",
       "      <th>name</th>\n",
       "      <th>description</th>\n",
       "      <th>neighborhood_overview</th>\n",
       "      <th>picture_url</th>\n",
       "      <th>host_id</th>\n",
       "      <th>host_url</th>\n",
       "      <th>host_name</th>\n",
       "      <th>host_since</th>\n",
       "      <th>host_location</th>\n",
       "      <th>host_about</th>\n",
       "      <th>host_response_time</th>\n",
       "      <th>host_response_rate</th>\n",
       "      <th>host_acceptance_rate</th>\n",
       "      <th>host_is_superhost</th>\n",
       "      <th>host_thumbnail_url</th>\n",
       "      <th>host_picture_url</th>\n",
       "      <th>host_neighbourhood</th>\n",
       "      <th>host_listings_count</th>\n",
       "      <th>host_total_listings_count</th>\n",
       "      <th>host_verifications</th>\n",
       "      <th>host_has_profile_pic</th>\n",
       "      <th>host_identity_verified</th>\n",
       "      <th>neighbourhood</th>\n",
       "      <th>neighbourhood_cleansed</th>\n",
       "      <th>neighbourhood_group_cleansed</th>\n",
       "      <th>latitude</th>\n",
       "      <th>longitude</th>\n",
       "      <th>property_type</th>\n",
       "      <th>room_type</th>\n",
       "      <th>accommodates</th>\n",
       "      <th>bathrooms</th>\n",
       "      <th>bathrooms_text</th>\n",
       "      <th>bedrooms</th>\n",
       "      <th>beds</th>\n",
       "      <th>amenities</th>\n",
       "      <th>price</th>\n",
       "      <th>minimum_nights</th>\n",
       "      <th>maximum_nights</th>\n",
       "      <th>minimum_minimum_nights</th>\n",
       "      <th>maximum_minimum_nights</th>\n",
       "      <th>minimum_maximum_nights</th>\n",
       "      <th>maximum_maximum_nights</th>\n",
       "      <th>minimum_nights_avg_ntm</th>\n",
       "      <th>maximum_nights_avg_ntm</th>\n",
       "      <th>calendar_updated</th>\n",
       "      <th>has_availability</th>\n",
       "      <th>availability_30</th>\n",
       "      <th>availability_60</th>\n",
       "      <th>availability_90</th>\n",
       "      <th>availability_365</th>\n",
       "      <th>calendar_last_scraped</th>\n",
       "      <th>number_of_reviews</th>\n",
       "      <th>number_of_reviews_ltm</th>\n",
       "      <th>number_of_reviews_l30d</th>\n",
       "      <th>first_review</th>\n",
       "      <th>last_review</th>\n",
       "      <th>review_scores_rating</th>\n",
       "      <th>review_scores_accuracy</th>\n",
       "      <th>review_scores_cleanliness</th>\n",
       "      <th>review_scores_checkin</th>\n",
       "      <th>review_scores_communication</th>\n",
       "      <th>review_scores_location</th>\n",
       "      <th>review_scores_value</th>\n",
       "      <th>license</th>\n",
       "      <th>instant_bookable</th>\n",
       "      <th>calculated_host_listings_count</th>\n",
       "      <th>calculated_host_listings_count_entire_homes</th>\n",
       "      <th>calculated_host_listings_count_private_rooms</th>\n",
       "      <th>calculated_host_listings_count_shared_rooms</th>\n",
       "      <th>reviews_per_month</th>\n",
       "    </tr>\n",
       "  </thead>\n",
       "  <tbody>\n",
       "    <tr>\n",
       "      <th>0</th>\n",
       "      <td>2577</td>\n",
       "      <td>https://www.airbnb.com/rooms/2577</td>\n",
       "      <td>20210410122610</td>\n",
       "      <td>2021-04-14</td>\n",
       "      <td>Loft for 4 by Canal Saint Martin</td>\n",
       "      <td>100 m2 loft (1100 sq feet) with high ceiling, ...</td>\n",
       "      <td>NaN</td>\n",
       "      <td>https://a0.muscache.com/pictures/09da057c-0120...</td>\n",
       "      <td>2827</td>\n",
       "      <td>https://www.airbnb.com/users/show/2827</td>\n",
       "      <td>Karine</td>\n",
       "      <td>2008-09-09</td>\n",
       "      <td>Casablanca, Grand Casablanca, Morocco</td>\n",
       "      <td>Arrivée à Casablanca il y a 4 ans, je suis amo...</td>\n",
       "      <td>within a day</td>\n",
       "      <td>50%</td>\n",
       "      <td>67%</td>\n",
       "      <td>f</td>\n",
       "      <td>https://a0.muscache.com/im/pictures/user/17fe6...</td>\n",
       "      <td>https://a0.muscache.com/im/pictures/user/17fe6...</td>\n",
       "      <td>République</td>\n",
       "      <td>2.0</td>\n",
       "      <td>2.0</td>\n",
       "      <td>['email', 'phone', 'reviews', 'jumio', 'govern...</td>\n",
       "      <td>t</td>\n",
       "      <td>t</td>\n",
       "      <td>NaN</td>\n",
       "      <td>Entrepôt</td>\n",
       "      <td>NaN</td>\n",
       "      <td>48.86957</td>\n",
       "      <td>2.36127</td>\n",
       "      <td>Entire loft</td>\n",
       "      <td>Entire home/apt</td>\n",
       "      <td>4</td>\n",
       "      <td>NaN</td>\n",
       "      <td>2 baths</td>\n",
       "      <td>2.0</td>\n",
       "      <td>2.0</td>\n",
       "      <td>[\"Essentials\", \"Kitchen\", \"Heating\", \"Host gre...</td>\n",
       "      <td>$125.00</td>\n",
       "      <td>3</td>\n",
       "      <td>1125</td>\n",
       "      <td>3.0</td>\n",
       "      <td>3.0</td>\n",
       "      <td>1125.0</td>\n",
       "      <td>1125.0</td>\n",
       "      <td>3.0</td>\n",
       "      <td>1125.0</td>\n",
       "      <td>NaN</td>\n",
       "      <td>t</td>\n",
       "      <td>0</td>\n",
       "      <td>0</td>\n",
       "      <td>12</td>\n",
       "      <td>286</td>\n",
       "      <td>2021-04-14</td>\n",
       "      <td>1</td>\n",
       "      <td>0</td>\n",
       "      <td>0</td>\n",
       "      <td>2019-01-02</td>\n",
       "      <td>2019-01-02</td>\n",
       "      <td>100.0</td>\n",
       "      <td>10.0</td>\n",
       "      <td>10.0</td>\n",
       "      <td>10.0</td>\n",
       "      <td>10.0</td>\n",
       "      <td>10.0</td>\n",
       "      <td>10.0</td>\n",
       "      <td>NaN</td>\n",
       "      <td>f</td>\n",
       "      <td>1</td>\n",
       "      <td>1</td>\n",
       "      <td>0</td>\n",
       "      <td>0</td>\n",
       "      <td>0.04</td>\n",
       "    </tr>\n",
       "    <tr>\n",
       "      <th>1</th>\n",
       "      <td>3109</td>\n",
       "      <td>https://www.airbnb.com/rooms/3109</td>\n",
       "      <td>20210410122610</td>\n",
       "      <td>2021-04-13</td>\n",
       "      <td>zen and calm</td>\n",
       "      <td>&lt;b&gt;The space&lt;/b&gt;&lt;br /&gt;I bedroom appartment in ...</td>\n",
       "      <td>Good restaurants&lt;br /&gt;very close the Montparna...</td>\n",
       "      <td>https://a0.muscache.com/pictures/baeae9e2-cd53...</td>\n",
       "      <td>3631</td>\n",
       "      <td>https://www.airbnb.com/users/show/3631</td>\n",
       "      <td>Anne</td>\n",
       "      <td>2008-10-14</td>\n",
       "      <td>Paris, Île-de-France, France</td>\n",
       "      <td>NaN</td>\n",
       "      <td>within a day</td>\n",
       "      <td>80%</td>\n",
       "      <td>0%</td>\n",
       "      <td>f</td>\n",
       "      <td>https://a0.muscache.com/im/users/3631/profile_...</td>\n",
       "      <td>https://a0.muscache.com/im/users/3631/profile_...</td>\n",
       "      <td>Alésia</td>\n",
       "      <td>1.0</td>\n",
       "      <td>1.0</td>\n",
       "      <td>['email', 'phone', 'facebook', 'reviews']</td>\n",
       "      <td>t</td>\n",
       "      <td>f</td>\n",
       "      <td>Paris, Île-de-France, France</td>\n",
       "      <td>Observatoire</td>\n",
       "      <td>NaN</td>\n",
       "      <td>48.83191</td>\n",
       "      <td>2.31870</td>\n",
       "      <td>Entire apartment</td>\n",
       "      <td>Entire home/apt</td>\n",
       "      <td>2</td>\n",
       "      <td>NaN</td>\n",
       "      <td>1 bath</td>\n",
       "      <td>NaN</td>\n",
       "      <td>1.0</td>\n",
       "      <td>[\"Smoke alarm\", \"Dishes and silverware\", \"Hair...</td>\n",
       "      <td>$60.00</td>\n",
       "      <td>2</td>\n",
       "      <td>30</td>\n",
       "      <td>2.0</td>\n",
       "      <td>2.0</td>\n",
       "      <td>30.0</td>\n",
       "      <td>30.0</td>\n",
       "      <td>2.0</td>\n",
       "      <td>30.0</td>\n",
       "      <td>NaN</td>\n",
       "      <td>t</td>\n",
       "      <td>30</td>\n",
       "      <td>60</td>\n",
       "      <td>90</td>\n",
       "      <td>365</td>\n",
       "      <td>2021-04-13</td>\n",
       "      <td>9</td>\n",
       "      <td>0</td>\n",
       "      <td>0</td>\n",
       "      <td>2016-12-27</td>\n",
       "      <td>2019-10-24</td>\n",
       "      <td>100.0</td>\n",
       "      <td>10.0</td>\n",
       "      <td>10.0</td>\n",
       "      <td>10.0</td>\n",
       "      <td>10.0</td>\n",
       "      <td>10.0</td>\n",
       "      <td>10.0</td>\n",
       "      <td>NaN</td>\n",
       "      <td>f</td>\n",
       "      <td>1</td>\n",
       "      <td>1</td>\n",
       "      <td>0</td>\n",
       "      <td>0</td>\n",
       "      <td>0.17</td>\n",
       "    </tr>\n",
       "    <tr>\n",
       "      <th>2</th>\n",
       "      <td>5396</td>\n",
       "      <td>https://www.airbnb.com/rooms/5396</td>\n",
       "      <td>20210410122610</td>\n",
       "      <td>2021-04-16</td>\n",
       "      <td>Explore the heart of old Paris</td>\n",
       "      <td>Cozy, well-appointed and graciously designed s...</td>\n",
       "      <td>You are within walking distance to the Louvre,...</td>\n",
       "      <td>https://a0.muscache.com/pictures/52413/f9bf76f...</td>\n",
       "      <td>7903</td>\n",
       "      <td>https://www.airbnb.com/users/show/7903</td>\n",
       "      <td>Borzou</td>\n",
       "      <td>2009-02-14</td>\n",
       "      <td>Istanbul, İstanbul, Turkey</td>\n",
       "      <td>We are both journalists based in the Middle Ea...</td>\n",
       "      <td>within an hour</td>\n",
       "      <td>100%</td>\n",
       "      <td>92%</td>\n",
       "      <td>f</td>\n",
       "      <td>https://a0.muscache.com/im/users/7903/profile_...</td>\n",
       "      <td>https://a0.muscache.com/im/users/7903/profile_...</td>\n",
       "      <td>Saint-Paul - Ile Saint-Louis</td>\n",
       "      <td>1.0</td>\n",
       "      <td>1.0</td>\n",
       "      <td>['email', 'phone', 'facebook', 'google', 'revi...</td>\n",
       "      <td>t</td>\n",
       "      <td>t</td>\n",
       "      <td>Paris, Ile-de-France, France</td>\n",
       "      <td>Hôtel-de-Ville</td>\n",
       "      <td>NaN</td>\n",
       "      <td>48.85247</td>\n",
       "      <td>2.35835</td>\n",
       "      <td>Entire apartment</td>\n",
       "      <td>Entire home/apt</td>\n",
       "      <td>2</td>\n",
       "      <td>NaN</td>\n",
       "      <td>1 bath</td>\n",
       "      <td>NaN</td>\n",
       "      <td>1.0</td>\n",
       "      <td>[\"Essentials\", \"TV with standard cable\", \"Dish...</td>\n",
       "      <td>$47.00</td>\n",
       "      <td>1</td>\n",
       "      <td>1125</td>\n",
       "      <td>1.0</td>\n",
       "      <td>1.0</td>\n",
       "      <td>1125.0</td>\n",
       "      <td>1125.0</td>\n",
       "      <td>1.0</td>\n",
       "      <td>1125.0</td>\n",
       "      <td>NaN</td>\n",
       "      <td>t</td>\n",
       "      <td>18</td>\n",
       "      <td>47</td>\n",
       "      <td>58</td>\n",
       "      <td>58</td>\n",
       "      <td>2021-04-16</td>\n",
       "      <td>237</td>\n",
       "      <td>17</td>\n",
       "      <td>3</td>\n",
       "      <td>2009-06-30</td>\n",
       "      <td>2021-04-12</td>\n",
       "      <td>90.0</td>\n",
       "      <td>9.0</td>\n",
       "      <td>9.0</td>\n",
       "      <td>10.0</td>\n",
       "      <td>10.0</td>\n",
       "      <td>10.0</td>\n",
       "      <td>9.0</td>\n",
       "      <td>7510402838018</td>\n",
       "      <td>f</td>\n",
       "      <td>1</td>\n",
       "      <td>1</td>\n",
       "      <td>0</td>\n",
       "      <td>0</td>\n",
       "      <td>1.65</td>\n",
       "    </tr>\n",
       "  </tbody>\n",
       "</table>\n",
       "</div>"
      ],
      "text/plain": [
       "     id                        listing_url       scrape_id last_scraped  \\\n",
       "0  2577  https://www.airbnb.com/rooms/2577  20210410122610   2021-04-14   \n",
       "1  3109  https://www.airbnb.com/rooms/3109  20210410122610   2021-04-13   \n",
       "2  5396  https://www.airbnb.com/rooms/5396  20210410122610   2021-04-16   \n",
       "\n",
       "                               name  \\\n",
       "0  Loft for 4 by Canal Saint Martin   \n",
       "1                      zen and calm   \n",
       "2    Explore the heart of old Paris   \n",
       "\n",
       "                                         description  \\\n",
       "0  100 m2 loft (1100 sq feet) with high ceiling, ...   \n",
       "1  <b>The space</b><br />I bedroom appartment in ...   \n",
       "2  Cozy, well-appointed and graciously designed s...   \n",
       "\n",
       "                               neighborhood_overview  \\\n",
       "0                                                NaN   \n",
       "1  Good restaurants<br />very close the Montparna...   \n",
       "2  You are within walking distance to the Louvre,...   \n",
       "\n",
       "                                         picture_url  host_id  \\\n",
       "0  https://a0.muscache.com/pictures/09da057c-0120...     2827   \n",
       "1  https://a0.muscache.com/pictures/baeae9e2-cd53...     3631   \n",
       "2  https://a0.muscache.com/pictures/52413/f9bf76f...     7903   \n",
       "\n",
       "                                 host_url host_name  host_since  \\\n",
       "0  https://www.airbnb.com/users/show/2827    Karine  2008-09-09   \n",
       "1  https://www.airbnb.com/users/show/3631      Anne  2008-10-14   \n",
       "2  https://www.airbnb.com/users/show/7903    Borzou  2009-02-14   \n",
       "\n",
       "                           host_location  \\\n",
       "0  Casablanca, Grand Casablanca, Morocco   \n",
       "1           Paris, Île-de-France, France   \n",
       "2             Istanbul, İstanbul, Turkey   \n",
       "\n",
       "                                          host_about host_response_time  \\\n",
       "0  Arrivée à Casablanca il y a 4 ans, je suis amo...       within a day   \n",
       "1                                                NaN       within a day   \n",
       "2  We are both journalists based in the Middle Ea...     within an hour   \n",
       "\n",
       "  host_response_rate host_acceptance_rate host_is_superhost  \\\n",
       "0                50%                  67%                 f   \n",
       "1                80%                   0%                 f   \n",
       "2               100%                  92%                 f   \n",
       "\n",
       "                                  host_thumbnail_url  \\\n",
       "0  https://a0.muscache.com/im/pictures/user/17fe6...   \n",
       "1  https://a0.muscache.com/im/users/3631/profile_...   \n",
       "2  https://a0.muscache.com/im/users/7903/profile_...   \n",
       "\n",
       "                                    host_picture_url  \\\n",
       "0  https://a0.muscache.com/im/pictures/user/17fe6...   \n",
       "1  https://a0.muscache.com/im/users/3631/profile_...   \n",
       "2  https://a0.muscache.com/im/users/7903/profile_...   \n",
       "\n",
       "             host_neighbourhood  host_listings_count  \\\n",
       "0                    République                  2.0   \n",
       "1                        Alésia                  1.0   \n",
       "2  Saint-Paul - Ile Saint-Louis                  1.0   \n",
       "\n",
       "   host_total_listings_count  \\\n",
       "0                        2.0   \n",
       "1                        1.0   \n",
       "2                        1.0   \n",
       "\n",
       "                                  host_verifications host_has_profile_pic  \\\n",
       "0  ['email', 'phone', 'reviews', 'jumio', 'govern...                    t   \n",
       "1          ['email', 'phone', 'facebook', 'reviews']                    t   \n",
       "2  ['email', 'phone', 'facebook', 'google', 'revi...                    t   \n",
       "\n",
       "  host_identity_verified                 neighbourhood neighbourhood_cleansed  \\\n",
       "0                      t                           NaN               Entrepôt   \n",
       "1                      f  Paris, Île-de-France, France           Observatoire   \n",
       "2                      t  Paris, Ile-de-France, France         Hôtel-de-Ville   \n",
       "\n",
       "   neighbourhood_group_cleansed  latitude  longitude     property_type  \\\n",
       "0                           NaN  48.86957    2.36127       Entire loft   \n",
       "1                           NaN  48.83191    2.31870  Entire apartment   \n",
       "2                           NaN  48.85247    2.35835  Entire apartment   \n",
       "\n",
       "         room_type  accommodates  bathrooms bathrooms_text  bedrooms  beds  \\\n",
       "0  Entire home/apt             4        NaN        2 baths       2.0   2.0   \n",
       "1  Entire home/apt             2        NaN         1 bath       NaN   1.0   \n",
       "2  Entire home/apt             2        NaN         1 bath       NaN   1.0   \n",
       "\n",
       "                                           amenities    price  minimum_nights  \\\n",
       "0  [\"Essentials\", \"Kitchen\", \"Heating\", \"Host gre...  $125.00               3   \n",
       "1  [\"Smoke alarm\", \"Dishes and silverware\", \"Hair...   $60.00               2   \n",
       "2  [\"Essentials\", \"TV with standard cable\", \"Dish...   $47.00               1   \n",
       "\n",
       "   maximum_nights  minimum_minimum_nights  maximum_minimum_nights  \\\n",
       "0            1125                     3.0                     3.0   \n",
       "1              30                     2.0                     2.0   \n",
       "2            1125                     1.0                     1.0   \n",
       "\n",
       "   minimum_maximum_nights  maximum_maximum_nights  minimum_nights_avg_ntm  \\\n",
       "0                  1125.0                  1125.0                     3.0   \n",
       "1                    30.0                    30.0                     2.0   \n",
       "2                  1125.0                  1125.0                     1.0   \n",
       "\n",
       "   maximum_nights_avg_ntm  calendar_updated has_availability  availability_30  \\\n",
       "0                  1125.0               NaN                t                0   \n",
       "1                    30.0               NaN                t               30   \n",
       "2                  1125.0               NaN                t               18   \n",
       "\n",
       "   availability_60  availability_90  availability_365 calendar_last_scraped  \\\n",
       "0                0               12               286            2021-04-14   \n",
       "1               60               90               365            2021-04-13   \n",
       "2               47               58                58            2021-04-16   \n",
       "\n",
       "   number_of_reviews  number_of_reviews_ltm  number_of_reviews_l30d  \\\n",
       "0                  1                      0                       0   \n",
       "1                  9                      0                       0   \n",
       "2                237                     17                       3   \n",
       "\n",
       "  first_review last_review  review_scores_rating  review_scores_accuracy  \\\n",
       "0   2019-01-02  2019-01-02                 100.0                    10.0   \n",
       "1   2016-12-27  2019-10-24                 100.0                    10.0   \n",
       "2   2009-06-30  2021-04-12                  90.0                     9.0   \n",
       "\n",
       "   review_scores_cleanliness  review_scores_checkin  \\\n",
       "0                       10.0                   10.0   \n",
       "1                       10.0                   10.0   \n",
       "2                        9.0                   10.0   \n",
       "\n",
       "   review_scores_communication  review_scores_location  review_scores_value  \\\n",
       "0                         10.0                    10.0                 10.0   \n",
       "1                         10.0                    10.0                 10.0   \n",
       "2                         10.0                    10.0                  9.0   \n",
       "\n",
       "         license instant_bookable  calculated_host_listings_count  \\\n",
       "0            NaN                f                               1   \n",
       "1            NaN                f                               1   \n",
       "2  7510402838018                f                               1   \n",
       "\n",
       "   calculated_host_listings_count_entire_homes  \\\n",
       "0                                            1   \n",
       "1                                            1   \n",
       "2                                            1   \n",
       "\n",
       "   calculated_host_listings_count_private_rooms  \\\n",
       "0                                             0   \n",
       "1                                             0   \n",
       "2                                             0   \n",
       "\n",
       "   calculated_host_listings_count_shared_rooms  reviews_per_month  \n",
       "0                                            0               0.04  \n",
       "1                                            0               0.17  \n",
       "2                                            0               1.65  "
      ]
     },
     "execution_count": 7,
     "metadata": {},
     "output_type": "execute_result"
    }
   ],
   "source": [
    "pd.options.display.max_columns = 74\n",
    "listings_d.head(3)"
   ]
  },
  {
   "cell_type": "code",
   "execution_count": 8,
   "metadata": {},
   "outputs": [
    {
     "data": {
      "text/plain": [
       "\"Up to 5/6 people, this apartment is ideal for a family. At the foot of the building you will find all necessary shops<br />(Monoprix, pharmacy, bakery, cheese, grocery etc. ..)<br /> many restaurants and a recognized market.<br />Many lines underground:<br />5 minutes walk from the Metro:12 and 6.<br />Less than 10 minutes walk from the Metro 10, 8  and 13)<br />20' from the Eiffel Tower and Les Invalides<br /><br /><b>The space</b><br />Ideally located in the heart of the 15th arrondissement of Paris, in the neighborhood Sèvre-Lecourbe/Volontaires. The apartment offers quality services and has been completely renovated. Calm and clear, it is located on the first floor courtyard and well isolated from street noise. It features a fully equipped kitchen with American bar, a lounge with a convertible sofa bed, a bathroom with tub and toilet, and finally the two bedrooms each with a double bed  and many closets.<br /><br />You will appreciate and enjoy your stay in Paris in our location wi\""
      ]
     },
     "execution_count": 8,
     "metadata": {},
     "output_type": "execute_result"
    }
   ],
   "source": [
    "listings_d.description[1550]"
   ]
  },
  {
   "cell_type": "code",
   "execution_count": 9,
   "metadata": {},
   "outputs": [],
   "source": [
    "descriptions = listings_d[[\"description\"]]\n",
    "descriptions = descriptions[descriptions[\"description\"].notnull()]\n",
    "descriptions[\"description\"] = descriptions[\"description\"].apply(str)"
   ]
  },
  {
   "cell_type": "code",
   "execution_count": 10,
   "metadata": {},
   "outputs": [],
   "source": [
    "descriptions[\"description\"] = descriptions[\"description\"].apply(str.lower)"
   ]
  },
  {
   "cell_type": "code",
   "execution_count": 11,
   "metadata": {},
   "outputs": [],
   "source": [
    "#descriptions.to_pickle(\"./descriptions_fr.pkl\")"
   ]
  },
  {
   "cell_type": "markdown",
   "metadata": {},
   "source": [
    "### Checkpoint"
   ]
  },
  {
   "cell_type": "code",
   "execution_count": 12,
   "metadata": {},
   "outputs": [],
   "source": [
    "descriptions = pd.read_pickle(\"./descriptions_fr.pkl\")"
   ]
  },
  {
   "cell_type": "code",
   "execution_count": 13,
   "metadata": {},
   "outputs": [
    {
     "data": {
      "text/html": [
       "<div>\n",
       "<style scoped>\n",
       "    .dataframe tbody tr th:only-of-type {\n",
       "        vertical-align: middle;\n",
       "    }\n",
       "\n",
       "    .dataframe tbody tr th {\n",
       "        vertical-align: top;\n",
       "    }\n",
       "\n",
       "    .dataframe thead th {\n",
       "        text-align: right;\n",
       "    }\n",
       "</style>\n",
       "<table border=\"1\" class=\"dataframe\">\n",
       "  <thead>\n",
       "    <tr style=\"text-align: right;\">\n",
       "      <th></th>\n",
       "      <th>description</th>\n",
       "      <th>langue</th>\n",
       "    </tr>\n",
       "  </thead>\n",
       "  <tbody>\n",
       "    <tr>\n",
       "      <th>0</th>\n",
       "      <td>100 m2 loft (1100 sq feet) with high ceiling, ...</td>\n",
       "      <td>False</td>\n",
       "    </tr>\n",
       "    <tr>\n",
       "      <th>1</th>\n",
       "      <td>&lt;b&gt;the space&lt;/b&gt;&lt;br /&gt;i bedroom appartment in ...</td>\n",
       "      <td>False</td>\n",
       "    </tr>\n",
       "    <tr>\n",
       "      <th>2</th>\n",
       "      <td>cozy, well-appointed and graciously designed s...</td>\n",
       "      <td>False</td>\n",
       "    </tr>\n",
       "    <tr>\n",
       "      <th>3</th>\n",
       "      <td>very convenient, with the best location !&lt;br /...</td>\n",
       "      <td>False</td>\n",
       "    </tr>\n",
       "    <tr>\n",
       "      <th>4</th>\n",
       "      <td>very large &amp; nice apartment all for you! &lt;br /...</td>\n",
       "      <td>False</td>\n",
       "    </tr>\n",
       "  </tbody>\n",
       "</table>\n",
       "</div>"
      ],
      "text/plain": [
       "                                         description  langue\n",
       "0  100 m2 loft (1100 sq feet) with high ceiling, ...   False\n",
       "1  <b>the space</b><br />i bedroom appartment in ...   False\n",
       "2  cozy, well-appointed and graciously designed s...   False\n",
       "3  very convenient, with the best location !<br /...   False\n",
       "4  very large & nice apartment all for you! <br /...   False"
      ]
     },
     "execution_count": 13,
     "metadata": {},
     "output_type": "execute_result"
    }
   ],
   "source": [
    "descriptions.head()"
   ]
  },
  {
   "cell_type": "code",
   "execution_count": 14,
   "metadata": {},
   "outputs": [],
   "source": [
    "def norm_tags(chaine):\n",
    "    chaine = chaine + '</b>' #<--- ajout de balise car les descriptions sont tranquées (existence de la balise de début <b> mais absence de </b>)\n",
    "    space = re.compile('<b>t.*?</b>')\n",
    "    access = re.compile('<b>g.*?</b>')\n",
    "    misc = re.compile('<b>o.*?</b>')\n",
    "    license = re.compile('<b>l.*?</b>')\n",
    "    transfo_list=[space, access, misc, license]\n",
    "    replaced = [\"<b>space</b>\",'<b>access</b>','<b>misc</b>','<b>licence</b>']\n",
    "    for i in range(4):\n",
    "        chaine = re.sub(transfo_list[i], replaced[i], chaine)\n",
    "    return chaine"
   ]
  },
  {
   "cell_type": "code",
   "execution_count": 15,
   "metadata": {},
   "outputs": [],
   "source": [
    "def remove_noise(liste):\n",
    "    try:\n",
    "        liste.remove('<b></b>')\n",
    "    except:\n",
    "        pass\n",
    "    return liste"
   ]
  },
  {
   "cell_type": "code",
   "execution_count": 16,
   "metadata": {},
   "outputs": [
    {
     "data": {
      "text/plain": [
       "['<b>the space</b>',\n",
       " '<b>guest access</b>',\n",
       " '<b>other things to note</b>',\n",
       " '<b>license number</b>']"
      ]
     },
     "execution_count": 16,
     "metadata": {},
     "output_type": "execute_result"
    }
   ],
   "source": [
    "soup = BeautifulSoup(descriptions[\"description\"][2100])\n",
    "[str(elt) for elt in soup.findAll(\"b\")]"
   ]
  },
  {
   "cell_type": "code",
   "execution_count": 17,
   "metadata": {},
   "outputs": [
    {
     "name": "stderr",
     "output_type": "stream",
     "text": [
      "/opt/conda/lib/python3.7/site-packages/bs4/__init__.py:314: UserWarning: \"b'.'\" looks like a filename, not markup. You should probably open this file and pass the filehandle into Beautiful Soup.\n",
      "  ' Beautiful Soup.' % markup)\n"
     ]
    }
   ],
   "source": [
    "descriptions['BfSoup'] = descriptions[\"description\"].apply(lambda x: [str(elt) for elt in BeautifulSoup(x).findAll(\"b\")])"
   ]
  },
  {
   "cell_type": "code",
   "execution_count": 18,
   "metadata": {},
   "outputs": [
    {
     "data": {
      "text/html": [
       "<div>\n",
       "<style scoped>\n",
       "    .dataframe tbody tr th:only-of-type {\n",
       "        vertical-align: middle;\n",
       "    }\n",
       "\n",
       "    .dataframe tbody tr th {\n",
       "        vertical-align: top;\n",
       "    }\n",
       "\n",
       "    .dataframe thead th {\n",
       "        text-align: right;\n",
       "    }\n",
       "</style>\n",
       "<table border=\"1\" class=\"dataframe\">\n",
       "  <thead>\n",
       "    <tr style=\"text-align: right;\">\n",
       "      <th></th>\n",
       "      <th>description</th>\n",
       "      <th>langue</th>\n",
       "      <th>BfSoup</th>\n",
       "    </tr>\n",
       "  </thead>\n",
       "  <tbody>\n",
       "    <tr>\n",
       "      <th>0</th>\n",
       "      <td>100 m2 loft (1100 sq feet) with high ceiling, ...</td>\n",
       "      <td>False</td>\n",
       "      <td>[&lt;b&gt;the space&lt;/b&gt;]</td>\n",
       "    </tr>\n",
       "    <tr>\n",
       "      <th>1</th>\n",
       "      <td>&lt;b&gt;the space&lt;/b&gt;&lt;br /&gt;i bedroom appartment in ...</td>\n",
       "      <td>False</td>\n",
       "      <td>[&lt;b&gt;the space&lt;/b&gt;]</td>\n",
       "    </tr>\n",
       "    <tr>\n",
       "      <th>2</th>\n",
       "      <td>cozy, well-appointed and graciously designed s...</td>\n",
       "      <td>False</td>\n",
       "      <td>[&lt;b&gt;the space&lt;/b&gt;, &lt;b&gt;guest access&lt;/b&gt;]</td>\n",
       "    </tr>\n",
       "    <tr>\n",
       "      <th>3</th>\n",
       "      <td>very convenient, with the best location !&lt;br /...</td>\n",
       "      <td>False</td>\n",
       "      <td>[&lt;b&gt;the space&lt;/b&gt;]</td>\n",
       "    </tr>\n",
       "    <tr>\n",
       "      <th>4</th>\n",
       "      <td>very large &amp; nice apartment all for you! &lt;br /...</td>\n",
       "      <td>False</td>\n",
       "      <td>[&lt;b&gt;the space&lt;/b&gt;]</td>\n",
       "    </tr>\n",
       "  </tbody>\n",
       "</table>\n",
       "</div>"
      ],
      "text/plain": [
       "                                         description  langue  \\\n",
       "0  100 m2 loft (1100 sq feet) with high ceiling, ...   False   \n",
       "1  <b>the space</b><br />i bedroom appartment in ...   False   \n",
       "2  cozy, well-appointed and graciously designed s...   False   \n",
       "3  very convenient, with the best location !<br /...   False   \n",
       "4  very large & nice apartment all for you! <br /...   False   \n",
       "\n",
       "                                    BfSoup  \n",
       "0                       [<b>the space</b>]  \n",
       "1                       [<b>the space</b>]  \n",
       "2  [<b>the space</b>, <b>guest access</b>]  \n",
       "3                       [<b>the space</b>]  \n",
       "4                       [<b>the space</b>]  "
      ]
     },
     "execution_count": 18,
     "metadata": {},
     "output_type": "execute_result"
    }
   ],
   "source": [
    "descriptions.head()"
   ]
  },
  {
   "cell_type": "code",
   "execution_count": 19,
   "metadata": {},
   "outputs": [],
   "source": [
    "descriptions[\"description\"] = descriptions[\"description\"].apply(norm_tags)"
   ]
  },
  {
   "cell_type": "code",
   "execution_count": 20,
   "metadata": {},
   "outputs": [],
   "source": [
    "descriptions['BfSoup'] = descriptions[\"description\"].apply(lambda x: [str(elt) for elt in BeautifulSoup(x).findAll(\"b\")])"
   ]
  },
  {
   "cell_type": "code",
   "execution_count": 21,
   "metadata": {},
   "outputs": [
    {
     "data": {
      "text/html": [
       "<div>\n",
       "<style scoped>\n",
       "    .dataframe tbody tr th:only-of-type {\n",
       "        vertical-align: middle;\n",
       "    }\n",
       "\n",
       "    .dataframe tbody tr th {\n",
       "        vertical-align: top;\n",
       "    }\n",
       "\n",
       "    .dataframe thead th {\n",
       "        text-align: right;\n",
       "    }\n",
       "</style>\n",
       "<table border=\"1\" class=\"dataframe\">\n",
       "  <thead>\n",
       "    <tr style=\"text-align: right;\">\n",
       "      <th></th>\n",
       "      <th>description</th>\n",
       "      <th>langue</th>\n",
       "      <th>BfSoup</th>\n",
       "    </tr>\n",
       "  </thead>\n",
       "  <tbody>\n",
       "    <tr>\n",
       "      <th>0</th>\n",
       "      <td>100 m2 loft (1100 sq feet) with high ceiling, ...</td>\n",
       "      <td>False</td>\n",
       "      <td>[&lt;b&gt;space&lt;/b&gt;]</td>\n",
       "    </tr>\n",
       "    <tr>\n",
       "      <th>1</th>\n",
       "      <td>&lt;b&gt;space&lt;/b&gt;&lt;br /&gt;i bedroom appartment in pari...</td>\n",
       "      <td>False</td>\n",
       "      <td>[&lt;b&gt;space&lt;/b&gt;]</td>\n",
       "    </tr>\n",
       "    <tr>\n",
       "      <th>2</th>\n",
       "      <td>cozy, well-appointed and graciously designed s...</td>\n",
       "      <td>False</td>\n",
       "      <td>[&lt;b&gt;space&lt;/b&gt;, &lt;b&gt;access&lt;/b&gt;]</td>\n",
       "    </tr>\n",
       "    <tr>\n",
       "      <th>3</th>\n",
       "      <td>very convenient, with the best location !&lt;br /...</td>\n",
       "      <td>False</td>\n",
       "      <td>[&lt;b&gt;space&lt;/b&gt;]</td>\n",
       "    </tr>\n",
       "    <tr>\n",
       "      <th>4</th>\n",
       "      <td>very large &amp; nice apartment all for you! &lt;br /...</td>\n",
       "      <td>False</td>\n",
       "      <td>[&lt;b&gt;space&lt;/b&gt;]</td>\n",
       "    </tr>\n",
       "  </tbody>\n",
       "</table>\n",
       "</div>"
      ],
      "text/plain": [
       "                                         description  langue  \\\n",
       "0  100 m2 loft (1100 sq feet) with high ceiling, ...   False   \n",
       "1  <b>space</b><br />i bedroom appartment in pari...   False   \n",
       "2  cozy, well-appointed and graciously designed s...   False   \n",
       "3  very convenient, with the best location !<br /...   False   \n",
       "4  very large & nice apartment all for you! <br /...   False   \n",
       "\n",
       "                          BfSoup  \n",
       "0                 [<b>space</b>]  \n",
       "1                 [<b>space</b>]  \n",
       "2  [<b>space</b>, <b>access</b>]  \n",
       "3                 [<b>space</b>]  \n",
       "4                 [<b>space</b>]  "
      ]
     },
     "execution_count": 21,
     "metadata": {},
     "output_type": "execute_result"
    }
   ],
   "source": [
    "descriptions.head()"
   ]
  },
  {
   "cell_type": "code",
   "execution_count": 22,
   "metadata": {},
   "outputs": [],
   "source": [
    "descriptions['BfSoup'] = descriptions[\"BfSoup\"].apply(lambda x: str(x))"
   ]
  },
  {
   "cell_type": "code",
   "execution_count": 23,
   "metadata": {},
   "outputs": [
    {
     "data": {
      "text/html": [
       "<div>\n",
       "<style scoped>\n",
       "    .dataframe tbody tr th:only-of-type {\n",
       "        vertical-align: middle;\n",
       "    }\n",
       "\n",
       "    .dataframe tbody tr th {\n",
       "        vertical-align: top;\n",
       "    }\n",
       "\n",
       "    .dataframe thead th {\n",
       "        text-align: right;\n",
       "    }\n",
       "</style>\n",
       "<table border=\"1\" class=\"dataframe\">\n",
       "  <thead>\n",
       "    <tr style=\"text-align: right;\">\n",
       "      <th></th>\n",
       "      <th>description</th>\n",
       "      <th>langue</th>\n",
       "      <th>BfSoup</th>\n",
       "    </tr>\n",
       "  </thead>\n",
       "  <tbody>\n",
       "    <tr>\n",
       "      <th>0</th>\n",
       "      <td>100 m2 loft (1100 sq feet) with high ceiling, ...</td>\n",
       "      <td>False</td>\n",
       "      <td>['&lt;b&gt;space&lt;/b&gt;']</td>\n",
       "    </tr>\n",
       "    <tr>\n",
       "      <th>1</th>\n",
       "      <td>&lt;b&gt;space&lt;/b&gt;&lt;br /&gt;i bedroom appartment in pari...</td>\n",
       "      <td>False</td>\n",
       "      <td>['&lt;b&gt;space&lt;/b&gt;']</td>\n",
       "    </tr>\n",
       "    <tr>\n",
       "      <th>2</th>\n",
       "      <td>cozy, well-appointed and graciously designed s...</td>\n",
       "      <td>False</td>\n",
       "      <td>['&lt;b&gt;space&lt;/b&gt;', '&lt;b&gt;access&lt;/b&gt;']</td>\n",
       "    </tr>\n",
       "    <tr>\n",
       "      <th>3</th>\n",
       "      <td>very convenient, with the best location !&lt;br /...</td>\n",
       "      <td>False</td>\n",
       "      <td>['&lt;b&gt;space&lt;/b&gt;']</td>\n",
       "    </tr>\n",
       "    <tr>\n",
       "      <th>4</th>\n",
       "      <td>very large &amp; nice apartment all for you! &lt;br /...</td>\n",
       "      <td>False</td>\n",
       "      <td>['&lt;b&gt;space&lt;/b&gt;']</td>\n",
       "    </tr>\n",
       "    <tr>\n",
       "      <th>...</th>\n",
       "      <td>...</td>\n",
       "      <td>...</td>\n",
       "      <td>...</td>\n",
       "    </tr>\n",
       "    <tr>\n",
       "      <th>63085</th>\n",
       "      <td>studio entièrement refait à neuf idéalement si...</td>\n",
       "      <td>True</td>\n",
       "      <td>['&lt;b&gt;space&lt;/b&gt;', '&lt;b&gt;licence&lt;/b&gt;']</td>\n",
       "    </tr>\n",
       "    <tr>\n",
       "      <th>63086</th>\n",
       "      <td>superbe appartement ambiance \"bohème-chic\" en ...</td>\n",
       "      <td>True</td>\n",
       "      <td>['&lt;b&gt;licence&lt;/b&gt;']</td>\n",
       "    </tr>\n",
       "    <tr>\n",
       "      <th>63087</th>\n",
       "      <td>&lt;b&gt;licence&lt;/b&gt;&lt;br /&gt;7510404886302&lt;/b&gt;</td>\n",
       "      <td>False</td>\n",
       "      <td>['&lt;b&gt;licence&lt;/b&gt;']</td>\n",
       "    </tr>\n",
       "    <tr>\n",
       "      <th>63088</th>\n",
       "      <td>charmant appartement au xvième arrondissement ...</td>\n",
       "      <td>True</td>\n",
       "      <td>['&lt;b&gt;space&lt;/b&gt;', '&lt;b&gt;access&lt;/b&gt;']</td>\n",
       "    </tr>\n",
       "    <tr>\n",
       "      <th>63089</th>\n",
       "      <td>studio proche de la rue daguerre. appartement ...</td>\n",
       "      <td>True</td>\n",
       "      <td>['&lt;b&gt;licence&lt;/b&gt;']</td>\n",
       "    </tr>\n",
       "  </tbody>\n",
       "</table>\n",
       "<p>61681 rows × 3 columns</p>\n",
       "</div>"
      ],
      "text/plain": [
       "                                             description  langue  \\\n",
       "0      100 m2 loft (1100 sq feet) with high ceiling, ...   False   \n",
       "1      <b>space</b><br />i bedroom appartment in pari...   False   \n",
       "2      cozy, well-appointed and graciously designed s...   False   \n",
       "3      very convenient, with the best location !<br /...   False   \n",
       "4      very large & nice apartment all for you! <br /...   False   \n",
       "...                                                  ...     ...   \n",
       "63085  studio entièrement refait à neuf idéalement si...    True   \n",
       "63086  superbe appartement ambiance \"bohème-chic\" en ...    True   \n",
       "63087              <b>licence</b><br />7510404886302</b>   False   \n",
       "63088  charmant appartement au xvième arrondissement ...    True   \n",
       "63089  studio proche de la rue daguerre. appartement ...    True   \n",
       "\n",
       "                                   BfSoup  \n",
       "0                        ['<b>space</b>']  \n",
       "1                        ['<b>space</b>']  \n",
       "2       ['<b>space</b>', '<b>access</b>']  \n",
       "3                        ['<b>space</b>']  \n",
       "4                        ['<b>space</b>']  \n",
       "...                                   ...  \n",
       "63085  ['<b>space</b>', '<b>licence</b>']  \n",
       "63086                  ['<b>licence</b>']  \n",
       "63087                  ['<b>licence</b>']  \n",
       "63088   ['<b>space</b>', '<b>access</b>']  \n",
       "63089                  ['<b>licence</b>']  \n",
       "\n",
       "[61681 rows x 3 columns]"
      ]
     },
     "execution_count": 23,
     "metadata": {},
     "output_type": "execute_result"
    }
   ],
   "source": [
    "descriptions"
   ]
  },
  {
   "cell_type": "code",
   "execution_count": 24,
   "metadata": {},
   "outputs": [],
   "source": [
    "descriptions['BfSoup'] = descriptions[\"BfSoup\"].apply(lambda x: remove_noise(x))"
   ]
  },
  {
   "cell_type": "code",
   "execution_count": 25,
   "metadata": {},
   "outputs": [],
   "source": [
    "def order_tags(chaine, tag):\n",
    "    tag_all = '<b>'+tag+'</b>'\n",
    "    soup_chain = BeautifulSoup(chaine)\n",
    "    soup = [str(elt) for elt in soup_chain.findAll(\"b\")]\n",
    "    if tag_all in chaine:\n",
    "        if(soup == [] and tag == 'space'):\n",
    "            return chaine\n",
    "    \n",
    "        chaine = chaine.split(tag_all)\n",
    "        chaine[1] = chaine[1].split(\"<b>\")[0]\n",
    "        if(tag != 'space'):\n",
    "            return chaine[1]\n",
    "        if(tag == 'space'):\n",
    "            return chaine[0]+' '+chaine[1] \n",
    "    else:\n",
    "        return ''"
   ]
  },
  {
   "cell_type": "code",
   "execution_count": 26,
   "metadata": {},
   "outputs": [
    {
     "data": {
      "text/plain": [
       "'<br />the flat includes :<br /> - a redone bathroom <br />- a kitchenette fully equipped (oven, fridge, hob, kitchen utensil, kettle, washing machine...)<br />- a desk<br />- a comfortable sofa-bed<br />- a storage for your stuffs <br />- wi-fi<br /><br />towels, hairdryer a</b>'"
      ]
     },
     "execution_count": 26,
     "metadata": {},
     "output_type": "execute_result"
    }
   ],
   "source": [
    "order_tags(descriptions[\"description\"][2], 'access')"
   ]
  },
  {
   "cell_type": "code",
   "execution_count": 27,
   "metadata": {},
   "outputs": [],
   "source": [
    "descriptions[\"space\"] = descriptions[\"description\"].apply(lambda x: order_tags(x,'space'))"
   ]
  },
  {
   "cell_type": "code",
   "execution_count": 28,
   "metadata": {},
   "outputs": [
    {
     "data": {
      "text/html": [
       "<div>\n",
       "<style scoped>\n",
       "    .dataframe tbody tr th:only-of-type {\n",
       "        vertical-align: middle;\n",
       "    }\n",
       "\n",
       "    .dataframe tbody tr th {\n",
       "        vertical-align: top;\n",
       "    }\n",
       "\n",
       "    .dataframe thead th {\n",
       "        text-align: right;\n",
       "    }\n",
       "</style>\n",
       "<table border=\"1\" class=\"dataframe\">\n",
       "  <thead>\n",
       "    <tr style=\"text-align: right;\">\n",
       "      <th></th>\n",
       "      <th>description</th>\n",
       "      <th>langue</th>\n",
       "      <th>BfSoup</th>\n",
       "      <th>space</th>\n",
       "    </tr>\n",
       "  </thead>\n",
       "  <tbody>\n",
       "    <tr>\n",
       "      <th>0</th>\n",
       "      <td>100 m2 loft (1100 sq feet) with high ceiling, ...</td>\n",
       "      <td>False</td>\n",
       "      <td>['&lt;b&gt;space&lt;/b&gt;']</td>\n",
       "      <td>100 m2 loft (1100 sq feet) with high ceiling, ...</td>\n",
       "    </tr>\n",
       "    <tr>\n",
       "      <th>1</th>\n",
       "      <td>&lt;b&gt;space&lt;/b&gt;&lt;br /&gt;i bedroom appartment in pari...</td>\n",
       "      <td>False</td>\n",
       "      <td>['&lt;b&gt;space&lt;/b&gt;']</td>\n",
       "      <td>&lt;br /&gt;i bedroom appartment in paris 14&lt;/b&gt;</td>\n",
       "    </tr>\n",
       "    <tr>\n",
       "      <th>2</th>\n",
       "      <td>cozy, well-appointed and graciously designed s...</td>\n",
       "      <td>False</td>\n",
       "      <td>['&lt;b&gt;space&lt;/b&gt;', '&lt;b&gt;access&lt;/b&gt;']</td>\n",
       "      <td>cozy, well-appointed and graciously designed s...</td>\n",
       "    </tr>\n",
       "    <tr>\n",
       "      <th>3</th>\n",
       "      <td>very convenient, with the best location !&lt;br /...</td>\n",
       "      <td>False</td>\n",
       "      <td>['&lt;b&gt;space&lt;/b&gt;']</td>\n",
       "      <td>very convenient, with the best location !&lt;br /...</td>\n",
       "    </tr>\n",
       "    <tr>\n",
       "      <th>4</th>\n",
       "      <td>very large &amp; nice apartment all for you! &lt;br /...</td>\n",
       "      <td>False</td>\n",
       "      <td>['&lt;b&gt;space&lt;/b&gt;']</td>\n",
       "      <td>very large &amp; nice apartment all for you! &lt;br /...</td>\n",
       "    </tr>\n",
       "  </tbody>\n",
       "</table>\n",
       "</div>"
      ],
      "text/plain": [
       "                                         description  langue  \\\n",
       "0  100 m2 loft (1100 sq feet) with high ceiling, ...   False   \n",
       "1  <b>space</b><br />i bedroom appartment in pari...   False   \n",
       "2  cozy, well-appointed and graciously designed s...   False   \n",
       "3  very convenient, with the best location !<br /...   False   \n",
       "4  very large & nice apartment all for you! <br /...   False   \n",
       "\n",
       "                              BfSoup  \\\n",
       "0                   ['<b>space</b>']   \n",
       "1                   ['<b>space</b>']   \n",
       "2  ['<b>space</b>', '<b>access</b>']   \n",
       "3                   ['<b>space</b>']   \n",
       "4                   ['<b>space</b>']   \n",
       "\n",
       "                                               space  \n",
       "0  100 m2 loft (1100 sq feet) with high ceiling, ...  \n",
       "1         <br />i bedroom appartment in paris 14</b>  \n",
       "2  cozy, well-appointed and graciously designed s...  \n",
       "3  very convenient, with the best location !<br /...  \n",
       "4  very large & nice apartment all for you! <br /...  "
      ]
     },
     "execution_count": 28,
     "metadata": {},
     "output_type": "execute_result"
    }
   ],
   "source": [
    "descriptions.head()"
   ]
  },
  {
   "cell_type": "code",
   "execution_count": 29,
   "metadata": {},
   "outputs": [],
   "source": [
    "def del_tags(chaine):\n",
    "    p = re.compile(\"<.*?>\")\n",
    "    return re.sub(p,'',chaine)"
   ]
  },
  {
   "cell_type": "code",
   "execution_count": 30,
   "metadata": {},
   "outputs": [],
   "source": [
    "descriptions[\"space\"] = descriptions[\"description\"].apply(lambda x: del_tags(x))"
   ]
  },
  {
   "cell_type": "code",
   "execution_count": 31,
   "metadata": {},
   "outputs": [
    {
     "data": {
      "text/html": [
       "<div>\n",
       "<style scoped>\n",
       "    .dataframe tbody tr th:only-of-type {\n",
       "        vertical-align: middle;\n",
       "    }\n",
       "\n",
       "    .dataframe tbody tr th {\n",
       "        vertical-align: top;\n",
       "    }\n",
       "\n",
       "    .dataframe thead th {\n",
       "        text-align: right;\n",
       "    }\n",
       "</style>\n",
       "<table border=\"1\" class=\"dataframe\">\n",
       "  <thead>\n",
       "    <tr style=\"text-align: right;\">\n",
       "      <th></th>\n",
       "      <th>description</th>\n",
       "      <th>langue</th>\n",
       "      <th>BfSoup</th>\n",
       "      <th>space</th>\n",
       "    </tr>\n",
       "  </thead>\n",
       "  <tbody>\n",
       "    <tr>\n",
       "      <th>0</th>\n",
       "      <td>100 m2 loft (1100 sq feet) with high ceiling, ...</td>\n",
       "      <td>False</td>\n",
       "      <td>['&lt;b&gt;space&lt;/b&gt;']</td>\n",
       "      <td>100 m2 loft (1100 sq feet) with high ceiling, ...</td>\n",
       "    </tr>\n",
       "    <tr>\n",
       "      <th>1</th>\n",
       "      <td>&lt;b&gt;space&lt;/b&gt;&lt;br /&gt;i bedroom appartment in pari...</td>\n",
       "      <td>False</td>\n",
       "      <td>['&lt;b&gt;space&lt;/b&gt;']</td>\n",
       "      <td>spacei bedroom appartment in paris 14</td>\n",
       "    </tr>\n",
       "    <tr>\n",
       "      <th>2</th>\n",
       "      <td>cozy, well-appointed and graciously designed s...</td>\n",
       "      <td>False</td>\n",
       "      <td>['&lt;b&gt;space&lt;/b&gt;', '&lt;b&gt;access&lt;/b&gt;']</td>\n",
       "      <td>cozy, well-appointed and graciously designed s...</td>\n",
       "    </tr>\n",
       "    <tr>\n",
       "      <th>3</th>\n",
       "      <td>very convenient, with the best location !&lt;br /...</td>\n",
       "      <td>False</td>\n",
       "      <td>['&lt;b&gt;space&lt;/b&gt;']</td>\n",
       "      <td>very convenient, with the best location !space...</td>\n",
       "    </tr>\n",
       "    <tr>\n",
       "      <th>4</th>\n",
       "      <td>very large &amp; nice apartment all for you! &lt;br /...</td>\n",
       "      <td>False</td>\n",
       "      <td>['&lt;b&gt;space&lt;/b&gt;']</td>\n",
       "      <td>very large &amp; nice apartment all for you! - sun...</td>\n",
       "    </tr>\n",
       "  </tbody>\n",
       "</table>\n",
       "</div>"
      ],
      "text/plain": [
       "                                         description  langue  \\\n",
       "0  100 m2 loft (1100 sq feet) with high ceiling, ...   False   \n",
       "1  <b>space</b><br />i bedroom appartment in pari...   False   \n",
       "2  cozy, well-appointed and graciously designed s...   False   \n",
       "3  very convenient, with the best location !<br /...   False   \n",
       "4  very large & nice apartment all for you! <br /...   False   \n",
       "\n",
       "                              BfSoup  \\\n",
       "0                   ['<b>space</b>']   \n",
       "1                   ['<b>space</b>']   \n",
       "2  ['<b>space</b>', '<b>access</b>']   \n",
       "3                   ['<b>space</b>']   \n",
       "4                   ['<b>space</b>']   \n",
       "\n",
       "                                               space  \n",
       "0  100 m2 loft (1100 sq feet) with high ceiling, ...  \n",
       "1              spacei bedroom appartment in paris 14  \n",
       "2  cozy, well-appointed and graciously designed s...  \n",
       "3  very convenient, with the best location !space...  \n",
       "4  very large & nice apartment all for you! - sun...  "
      ]
     },
     "execution_count": 31,
     "metadata": {},
     "output_type": "execute_result"
    }
   ],
   "source": [
    "descriptions.head()"
   ]
  },
  {
   "cell_type": "code",
   "execution_count": 32,
   "metadata": {},
   "outputs": [],
   "source": [
    "nlp = spacy.load(\"fr_core_news_sm\")"
   ]
  },
  {
   "cell_type": "code",
   "execution_count": 33,
   "metadata": {},
   "outputs": [],
   "source": [
    "def keep_fr(chaine):\n",
    "    doc = nlp(chaine)\n",
    "    sentences = [str(elt) for elt in doc.sents]\n",
    "    chaine_fr = ''\n",
    "    for i in range(len(sentences)):\n",
    "        if(cld3.get_language(sentences[i])[0] == 'fr'):\n",
    "            chaine_fr = chaine_fr+sentences[i]\n",
    "    return chaine_fr"
   ]
  },
  {
   "cell_type": "code",
   "execution_count": 34,
   "metadata": {},
   "outputs": [
    {
     "data": {
      "text/plain": [
       "'100 m2 loft (1100 sq feet) with high ceiling, open modern kitchen, cable tv, wifi, sleeping space up to 5 people, republique area, 5 minutes from the st martin canal, marais area, 10 min from chatelet and the louvre.spacethe district has any service or shop you may desire at a walking distance, many restaurants and clubs as well. i will be pleased to suggest our best addresses and give you directions to have a very enjoyable journey. we have 1 separated bedroom and one mezzanine for the second bed. one bathroom is \"en suite\" to the main bedroom. welcome to our beautiful loft!karine'"
      ]
     },
     "execution_count": 34,
     "metadata": {},
     "output_type": "execute_result"
    }
   ],
   "source": [
    "descriptions[\"space\"][0]"
   ]
  },
  {
   "cell_type": "code",
   "execution_count": 35,
   "metadata": {},
   "outputs": [
    {
     "data": {
      "text/plain": [
       "''"
      ]
     },
     "execution_count": 35,
     "metadata": {},
     "output_type": "execute_result"
    }
   ],
   "source": [
    "keep_fr(descriptions[\"space\"][0])"
   ]
  },
  {
   "cell_type": "code",
   "execution_count": 36,
   "metadata": {},
   "outputs": [
    {
     "data": {
      "text/plain": [
       "(61681, 4)"
      ]
     },
     "execution_count": 36,
     "metadata": {},
     "output_type": "execute_result"
    }
   ],
   "source": [
    "descriptions.shape"
   ]
  },
  {
   "cell_type": "code",
   "execution_count": 37,
   "metadata": {},
   "outputs": [],
   "source": [
    "descriptions[\"space\"] = descriptions[\"space\"].apply(lambda x: keep_fr(x))"
   ]
  },
  {
   "cell_type": "code",
   "execution_count": 38,
   "metadata": {},
   "outputs": [],
   "source": [
    "descriptions = descriptions[descriptions.space != '']"
   ]
  },
  {
   "cell_type": "code",
   "execution_count": 39,
   "metadata": {},
   "outputs": [
    {
     "data": {
      "text/plain": [
       "(35296, 4)"
      ]
     },
     "execution_count": 39,
     "metadata": {},
     "output_type": "execute_result"
    }
   ],
   "source": [
    "descriptions.shape"
   ]
  },
  {
   "cell_type": "code",
   "execution_count": 41,
   "metadata": {},
   "outputs": [
    {
     "data": {
      "text/html": [
       "<div>\n",
       "<style scoped>\n",
       "    .dataframe tbody tr th:only-of-type {\n",
       "        vertical-align: middle;\n",
       "    }\n",
       "\n",
       "    .dataframe tbody tr th {\n",
       "        vertical-align: top;\n",
       "    }\n",
       "\n",
       "    .dataframe thead th {\n",
       "        text-align: right;\n",
       "    }\n",
       "</style>\n",
       "<table border=\"1\" class=\"dataframe\">\n",
       "  <thead>\n",
       "    <tr style=\"text-align: right;\">\n",
       "      <th></th>\n",
       "      <th>description</th>\n",
       "      <th>langue</th>\n",
       "      <th>BfSoup</th>\n",
       "      <th>space</th>\n",
       "    </tr>\n",
       "  </thead>\n",
       "  <tbody>\n",
       "    <tr>\n",
       "      <th>6</th>\n",
       "      <td>je suis une dame retraitée, qui propose un agr...</td>\n",
       "      <td>True</td>\n",
       "      <td>['&lt;b&gt;space&lt;/b&gt;']</td>\n",
       "      <td>je suis une dame retraitée, qui propose un agr...</td>\n",
       "    </tr>\n",
       "    <tr>\n",
       "      <th>10</th>\n",
       "      <td>numéro d'enregistrement ville de paris 7511100...</td>\n",
       "      <td>False</td>\n",
       "      <td>['&lt;b&gt;space&lt;/b&gt;']</td>\n",
       "      <td>numéro d'enregistrementville de paris751110053...</td>\n",
       "    </tr>\n",
       "    <tr>\n",
       "      <th>12</th>\n",
       "      <td>mon appartement est situé dans une très jolie ...</td>\n",
       "      <td>True</td>\n",
       "      <td>['&lt;b&gt;space&lt;/b&gt;', '&lt;b&gt;access&lt;/b&gt;', '&lt;b&gt;misc&lt;/b&gt;...</td>\n",
       "      <td>mon appartement est situé dans une très jolie ...</td>\n",
       "    </tr>\n",
       "    <tr>\n",
       "      <th>14</th>\n",
       "      <td>&lt;b&gt;space&lt;/b&gt;&lt;br /&gt;chambre très claire, calme, ...</td>\n",
       "      <td>True</td>\n",
       "      <td>['&lt;b&gt;space&lt;/b&gt;']</td>\n",
       "      <td>spacechambre très claire, calme, sur le jardin...</td>\n",
       "    </tr>\n",
       "    <tr>\n",
       "      <th>22</th>\n",
       "      <td>loft across from the parc de la vilette&lt;br /&gt;3...</td>\n",
       "      <td>False</td>\n",
       "      <td>['&lt;b&gt;space&lt;/b&gt;', '&lt;b&gt;access&lt;/b&gt;', '&lt;b&gt;licence&lt;...</td>\n",
       "      <td>loft across from the parc de la vilette3</td>\n",
       "    </tr>\n",
       "    <tr>\n",
       "      <th>...</th>\n",
       "      <td>...</td>\n",
       "      <td>...</td>\n",
       "      <td>...</td>\n",
       "      <td>...</td>\n",
       "    </tr>\n",
       "    <tr>\n",
       "      <th>63081</th>\n",
       "      <td>modern &amp; newly refurbished apartment of 50sqm ...</td>\n",
       "      <td>False</td>\n",
       "      <td>['&lt;b&gt;space&lt;/b&gt;', '&lt;b&gt;access&lt;/b&gt;', '&lt;b&gt;misc&lt;/b&gt;']</td>\n",
       "      <td>is at 5-7 rue du faubourg poissonnière, 75009....</td>\n",
       "    </tr>\n",
       "    <tr>\n",
       "      <th>63085</th>\n",
       "      <td>studio entièrement refait à neuf idéalement si...</td>\n",
       "      <td>True</td>\n",
       "      <td>['&lt;b&gt;space&lt;/b&gt;', '&lt;b&gt;licence&lt;/b&gt;']</td>\n",
       "      <td>studio entièrement refait à neuf idéalement si...</td>\n",
       "    </tr>\n",
       "    <tr>\n",
       "      <th>63086</th>\n",
       "      <td>superbe appartement ambiance \"bohème-chic\" en ...</td>\n",
       "      <td>True</td>\n",
       "      <td>['&lt;b&gt;licence&lt;/b&gt;']</td>\n",
       "      <td>appartement confortable, idéal pour passer que...</td>\n",
       "    </tr>\n",
       "    <tr>\n",
       "      <th>63088</th>\n",
       "      <td>charmant appartement au xvième arrondissement ...</td>\n",
       "      <td>True</td>\n",
       "      <td>['&lt;b&gt;space&lt;/b&gt;', '&lt;b&gt;access&lt;/b&gt;']</td>\n",
       "      <td>charmant appartement au xvième arrondissement ...</td>\n",
       "    </tr>\n",
       "    <tr>\n",
       "      <th>63089</th>\n",
       "      <td>studio proche de la rue daguerre. appartement ...</td>\n",
       "      <td>True</td>\n",
       "      <td>['&lt;b&gt;licence&lt;/b&gt;']</td>\n",
       "      <td>studio proche de la rue daguerre.appartement a...</td>\n",
       "    </tr>\n",
       "  </tbody>\n",
       "</table>\n",
       "<p>35296 rows × 4 columns</p>\n",
       "</div>"
      ],
      "text/plain": [
       "                                             description  langue  \\\n",
       "6      je suis une dame retraitée, qui propose un agr...    True   \n",
       "10     numéro d'enregistrement ville de paris 7511100...   False   \n",
       "12     mon appartement est situé dans une très jolie ...    True   \n",
       "14     <b>space</b><br />chambre très claire, calme, ...    True   \n",
       "22     loft across from the parc de la vilette<br />3...   False   \n",
       "...                                                  ...     ...   \n",
       "63081  modern & newly refurbished apartment of 50sqm ...   False   \n",
       "63085  studio entièrement refait à neuf idéalement si...    True   \n",
       "63086  superbe appartement ambiance \"bohème-chic\" en ...    True   \n",
       "63088  charmant appartement au xvième arrondissement ...    True   \n",
       "63089  studio proche de la rue daguerre. appartement ...    True   \n",
       "\n",
       "                                                  BfSoup  \\\n",
       "6                                       ['<b>space</b>']   \n",
       "10                                      ['<b>space</b>']   \n",
       "12     ['<b>space</b>', '<b>access</b>', '<b>misc</b>...   \n",
       "14                                      ['<b>space</b>']   \n",
       "22     ['<b>space</b>', '<b>access</b>', '<b>licence<...   \n",
       "...                                                  ...   \n",
       "63081   ['<b>space</b>', '<b>access</b>', '<b>misc</b>']   \n",
       "63085                 ['<b>space</b>', '<b>licence</b>']   \n",
       "63086                                 ['<b>licence</b>']   \n",
       "63088                  ['<b>space</b>', '<b>access</b>']   \n",
       "63089                                 ['<b>licence</b>']   \n",
       "\n",
       "                                                   space  \n",
       "6      je suis une dame retraitée, qui propose un agr...  \n",
       "10     numéro d'enregistrementville de paris751110053...  \n",
       "12     mon appartement est situé dans une très jolie ...  \n",
       "14     spacechambre très claire, calme, sur le jardin...  \n",
       "22              loft across from the parc de la vilette3  \n",
       "...                                                  ...  \n",
       "63081  is at 5-7 rue du faubourg poissonnière, 75009....  \n",
       "63085  studio entièrement refait à neuf idéalement si...  \n",
       "63086  appartement confortable, idéal pour passer que...  \n",
       "63088  charmant appartement au xvième arrondissement ...  \n",
       "63089  studio proche de la rue daguerre.appartement a...  \n",
       "\n",
       "[35296 rows x 4 columns]"
      ]
     },
     "execution_count": 41,
     "metadata": {},
     "output_type": "execute_result"
    }
   ],
   "source": [
    "descriptions"
   ]
  },
  {
   "cell_type": "code",
   "execution_count": 40,
   "metadata": {},
   "outputs": [],
   "source": [
    "descriptions.to_pickle(\"./descriptions_clean_fr2.pkl\")"
   ]
  },
  {
   "cell_type": "code",
   "execution_count": 3,
   "metadata": {},
   "outputs": [],
   "source": [
    "descriptions = pd.read_pickle(\"./descriptions_clean_fr2.pkl\")"
   ]
  },
  {
   "cell_type": "markdown",
   "metadata": {},
   "source": [
    "### Modèle LSTM"
   ]
  },
  {
   "cell_type": "code",
   "execution_count": 4,
   "metadata": {},
   "outputs": [],
   "source": [
    "corpus = list(descriptions.space)"
   ]
  },
  {
   "cell_type": "code",
   "execution_count": 5,
   "metadata": {},
   "outputs": [
    {
     "data": {
      "text/plain": [
       "35296"
      ]
     },
     "execution_count": 5,
     "metadata": {},
     "output_type": "execute_result"
    }
   ],
   "source": [
    "len(corpus)"
   ]
  },
  {
   "cell_type": "code",
   "execution_count": 6,
   "metadata": {},
   "outputs": [],
   "source": [
    "corpus = list(descriptions.space)[:1000]"
   ]
  },
  {
   "cell_type": "code",
   "execution_count": 7,
   "metadata": {},
   "outputs": [],
   "source": [
    "tokenizer = Tokenizer()"
   ]
  },
  {
   "cell_type": "code",
   "execution_count": 8,
   "metadata": {},
   "outputs": [],
   "source": [
    "def gen_seq_from_tokens(corpus):\n",
    "    tokenizer.fit_on_texts(corpus)\n",
    "    max_words = len(tokenizer.word_index) + 1\n",
    "    input_sequences = []\n",
    "    for line in corpus:\n",
    "        token_list = tokenizer.texts_to_sequences([line])[0]\n",
    "        for i in range(1, len(token_list)):\n",
    "            n_gram_sequence = token_list[:i+1]\n",
    "            input_sequences.append(n_gram_sequence)\n",
    "    return input_sequences, max_words"
   ]
  },
  {
   "cell_type": "code",
   "execution_count": 9,
   "metadata": {},
   "outputs": [],
   "source": [
    "inp_sequences, total_words = gen_seq_from_tokens(corpus)"
   ]
  },
  {
   "cell_type": "code",
   "execution_count": 10,
   "metadata": {},
   "outputs": [
    {
     "data": {
      "text/plain": [
       "61442"
      ]
     },
     "execution_count": 10,
     "metadata": {},
     "output_type": "execute_result"
    }
   ],
   "source": [
    "len(inp_sequences)"
   ]
  },
  {
   "cell_type": "code",
   "execution_count": 11,
   "metadata": {},
   "outputs": [],
   "source": [
    "def generate_padded_sequences(input_sequences):\n",
    "    max_sequence_len = max([len(x) for x in input_sequences])\n",
    "    input_sequences = np.array(pad_sequences(input_sequences, maxlen=max_sequence_len, padding='pre'))\n",
    "    \n",
    "    predictors, label = input_sequences[:,:-1],input_sequences[:,-1]\n",
    "    label = ku.to_categorical(label, num_classes=total_words)\n",
    "    return predictors, label, max_sequence_len\n"
   ]
  },
  {
   "cell_type": "code",
   "execution_count": 12,
   "metadata": {},
   "outputs": [],
   "source": [
    "predictors, label, max_sequence_len = generate_padded_sequences(inp_sequences)"
   ]
  },
  {
   "cell_type": "code",
   "execution_count": 13,
   "metadata": {},
   "outputs": [
    {
     "data": {
      "text/plain": [
       "6273"
      ]
     },
     "execution_count": 13,
     "metadata": {},
     "output_type": "execute_result"
    }
   ],
   "source": [
    "total_words"
   ]
  },
  {
   "cell_type": "code",
   "execution_count": 14,
   "metadata": {},
   "outputs": [],
   "source": [
    "def create_model(max_sequence_len, total_words):\n",
    "    input_len = max_sequence_len - 1\n",
    "    model = Sequential()\n",
    "    \n",
    "    # Add Input Embedding Layer\n",
    "    model.add(Embedding(total_words, 10, input_length=input_len))\n",
    "    \n",
    "    # Add Hidden Layer 1 - LSTM Layer\n",
    "    model.add(LSTM(64))\n",
    "    #model.add(Dropout(0.1))\n",
    "    \n",
    "    # Add Output Layer\n",
    "    model.add(Dense(total_words, activation='softmax'))\n",
    "\n",
    "    model.compile(loss='categorical_crossentropy', optimizer='adam')\n",
    "    \n",
    "    return model"
   ]
  },
  {
   "cell_type": "code",
   "execution_count": 15,
   "metadata": {},
   "outputs": [
    {
     "name": "stdout",
     "output_type": "stream",
     "text": [
      "Model: \"sequential\"\n",
      "_________________________________________________________________\n",
      "Layer (type)                 Output Shape              Param #   \n",
      "=================================================================\n",
      "embedding (Embedding)        (None, 173, 10)           62730     \n",
      "_________________________________________________________________\n",
      "lstm (LSTM)                  (None, 64)                19200     \n",
      "_________________________________________________________________\n",
      "dense (Dense)                (None, 6273)              407745    \n",
      "=================================================================\n",
      "Total params: 489,675\n",
      "Trainable params: 489,675\n",
      "Non-trainable params: 0\n",
      "_________________________________________________________________\n"
     ]
    }
   ],
   "source": [
    "model = create_model(max_sequence_len, total_words)\n",
    "model.summary()"
   ]
  },
  {
   "cell_type": "code",
   "execution_count": 16,
   "metadata": {},
   "outputs": [],
   "source": [
    "early_stopping = EarlyStopping()"
   ]
  },
  {
   "cell_type": "code",
   "execution_count": 17,
   "metadata": {},
   "outputs": [],
   "source": [
    "#model.fit(predictors, label, batch_size=0, epochs=100, verbose=0, callbacks=[early_stopping])"
   ]
  },
  {
   "cell_type": "code",
   "execution_count": 18,
   "metadata": {},
   "outputs": [],
   "source": [
    "#model.save_weights('./checkpoints_dir/checkpoints/pop_1k_epoch_100')"
   ]
  },
  {
   "cell_type": "code",
   "execution_count": 23,
   "metadata": {},
   "outputs": [
    {
     "name": "stdout",
     "output_type": "stream",
     "text": [
      "WARNING:tensorflow:Inconsistent references when loading the checkpoint into this object graph. Either the Trackable object references in the Python program have changed in an incompatible way, or the checkpoint was generated in an incompatible program.\n",
      "\n",
      "Two checkpoint references resolved to different objects (<tensorflow.python.keras.layers.embeddings.Embedding object at 0x7f2d90635c90> and <tensorflow.python.keras.layers.recurrent_v2.LSTM object at 0x7f2d914bb350>).\n",
      "WARNING:tensorflow:Inconsistent references when loading the checkpoint into this object graph. Either the Trackable object references in the Python program have changed in an incompatible way, or the checkpoint was generated in an incompatible program.\n",
      "\n",
      "Two checkpoint references resolved to different objects (<tensorflow.python.keras.layers.recurrent_v2.LSTM object at 0x7f2d914bb350> and <tensorflow.python.keras.layers.core.Dense object at 0x7f2d8e201790>).\n"
     ]
    },
    {
     "data": {
      "text/plain": [
       "<tensorflow.python.training.tracking.util.CheckpointLoadStatus at 0x7f2d910eb550>"
      ]
     },
     "execution_count": 23,
     "metadata": {},
     "output_type": "execute_result"
    }
   ],
   "source": [
    "#model.load_weights('./checkpoints/pop_1k_epoch_25')\n",
    "model.load_weights('./checkpoints_dir/checkpoints/pop_1k_epoch_100')"
   ]
  },
  {
   "cell_type": "code",
   "execution_count": 27,
   "metadata": {},
   "outputs": [],
   "source": [
    "#tf.keras.models.save_model(model, \"my_model.hp5\", save_format=\"h5\")"
   ]
  },
  {
   "cell_type": "code",
   "execution_count": 29,
   "metadata": {
    "collapsed": true,
    "jupyter": {
     "outputs_hidden": true
    }
   },
   "outputs": [
    {
     "ename": "AttributeError",
     "evalue": "'str' object has no attribute 'decode'",
     "output_type": "error",
     "traceback": [
      "\u001b[0;31m---------------------------------------------------------------------------\u001b[0m",
      "\u001b[0;31mAttributeError\u001b[0m                            Traceback (most recent call last)",
      "\u001b[0;32m<ipython-input-29-f0bc5bde40eb>\u001b[0m in \u001b[0;36m<module>\u001b[0;34m\u001b[0m\n\u001b[0;32m----> 1\u001b[0;31m \u001b[0mmodel1\u001b[0m \u001b[0;34m=\u001b[0m \u001b[0mtf\u001b[0m\u001b[0;34m.\u001b[0m\u001b[0mkeras\u001b[0m\u001b[0;34m.\u001b[0m\u001b[0mmodels\u001b[0m\u001b[0;34m.\u001b[0m\u001b[0mload_model\u001b[0m\u001b[0;34m(\u001b[0m\u001b[0;34m\"my_model.hp5\"\u001b[0m\u001b[0;34m)\u001b[0m\u001b[0;34m\u001b[0m\u001b[0;34m\u001b[0m\u001b[0m\n\u001b[0m",
      "\u001b[0;32m/opt/conda/lib/python3.7/site-packages/tensorflow_core/python/keras/saving/save.py\u001b[0m in \u001b[0;36mload_model\u001b[0;34m(filepath, custom_objects, compile)\u001b[0m\n\u001b[1;32m    144\u001b[0m   if (h5py is not None and (\n\u001b[1;32m    145\u001b[0m       isinstance(filepath, h5py.File) or h5py.is_hdf5(filepath))):\n\u001b[0;32m--> 146\u001b[0;31m     \u001b[0;32mreturn\u001b[0m \u001b[0mhdf5_format\u001b[0m\u001b[0;34m.\u001b[0m\u001b[0mload_model_from_hdf5\u001b[0m\u001b[0;34m(\u001b[0m\u001b[0mfilepath\u001b[0m\u001b[0;34m,\u001b[0m \u001b[0mcustom_objects\u001b[0m\u001b[0;34m,\u001b[0m \u001b[0mcompile\u001b[0m\u001b[0;34m)\u001b[0m\u001b[0;34m\u001b[0m\u001b[0;34m\u001b[0m\u001b[0m\n\u001b[0m\u001b[1;32m    147\u001b[0m \u001b[0;34m\u001b[0m\u001b[0m\n\u001b[1;32m    148\u001b[0m   \u001b[0;32mif\u001b[0m \u001b[0misinstance\u001b[0m\u001b[0;34m(\u001b[0m\u001b[0mfilepath\u001b[0m\u001b[0;34m,\u001b[0m \u001b[0msix\u001b[0m\u001b[0;34m.\u001b[0m\u001b[0mstring_types\u001b[0m\u001b[0;34m)\u001b[0m\u001b[0;34m:\u001b[0m\u001b[0;34m\u001b[0m\u001b[0;34m\u001b[0m\u001b[0m\n",
      "\u001b[0;32m/opt/conda/lib/python3.7/site-packages/tensorflow_core/python/keras/saving/hdf5_format.py\u001b[0m in \u001b[0;36mload_model_from_hdf5\u001b[0;34m(filepath, custom_objects, compile)\u001b[0m\n\u001b[1;32m    164\u001b[0m     \u001b[0;32mif\u001b[0m \u001b[0mmodel_config\u001b[0m \u001b[0;32mis\u001b[0m \u001b[0;32mNone\u001b[0m\u001b[0;34m:\u001b[0m\u001b[0;34m\u001b[0m\u001b[0;34m\u001b[0m\u001b[0m\n\u001b[1;32m    165\u001b[0m       \u001b[0;32mraise\u001b[0m \u001b[0mValueError\u001b[0m\u001b[0;34m(\u001b[0m\u001b[0;34m'No model found in config file.'\u001b[0m\u001b[0;34m)\u001b[0m\u001b[0;34m\u001b[0m\u001b[0;34m\u001b[0m\u001b[0m\n\u001b[0;32m--> 166\u001b[0;31m     \u001b[0mmodel_config\u001b[0m \u001b[0;34m=\u001b[0m \u001b[0mjson\u001b[0m\u001b[0;34m.\u001b[0m\u001b[0mloads\u001b[0m\u001b[0;34m(\u001b[0m\u001b[0mmodel_config\u001b[0m\u001b[0;34m.\u001b[0m\u001b[0mdecode\u001b[0m\u001b[0;34m(\u001b[0m\u001b[0;34m'utf-8'\u001b[0m\u001b[0;34m)\u001b[0m\u001b[0;34m)\u001b[0m\u001b[0;34m\u001b[0m\u001b[0;34m\u001b[0m\u001b[0m\n\u001b[0m\u001b[1;32m    167\u001b[0m     model = model_config_lib.model_from_config(model_config,\n\u001b[1;32m    168\u001b[0m                                                custom_objects=custom_objects)\n",
      "\u001b[0;31mAttributeError\u001b[0m: 'str' object has no attribute 'decode'"
     ]
    }
   ],
   "source": [
    "#model1 = tf.keras.models.load_model(\"my_model.hp5\")"
   ]
  },
  {
   "cell_type": "code",
   "execution_count": 24,
   "metadata": {},
   "outputs": [
    {
     "name": "stdout",
     "output_type": "stream",
     "text": [
      "Model: \"sequential\"\n",
      "_________________________________________________________________\n",
      "Layer (type)                 Output Shape              Param #   \n",
      "=================================================================\n",
      "embedding (Embedding)        (None, 173, 10)           62730     \n",
      "_________________________________________________________________\n",
      "lstm (LSTM)                  (None, 64)                19200     \n",
      "_________________________________________________________________\n",
      "dense (Dense)                (None, 6273)              407745    \n",
      "=================================================================\n",
      "Total params: 489,675\n",
      "Trainable params: 489,675\n",
      "Non-trainable params: 0\n",
      "_________________________________________________________________\n"
     ]
    }
   ],
   "source": [
    "model.summary()"
   ]
  },
  {
   "cell_type": "code",
   "execution_count": 17,
   "metadata": {},
   "outputs": [],
   "source": [
    "def generate_text(seed_text, next_words, model, max_sequence_len):\n",
    "    for _ in range(next_words):\n",
    "        token_list = tokenizer.texts_to_sequences([seed_text])[0]\n",
    "        token_list = pad_sequences([token_list], maxlen=max_sequence_len-1, padding='pre')\n",
    "        predicted = model.predict_classes(token_list, verbose=0)\n",
    "        \n",
    "        output_word = \"\"\n",
    "        for word,index in tokenizer.word_index.items():\n",
    "            if index == predicted:\n",
    "                output_word = word\n",
    "                break\n",
    "        seed_text += \" \"+output_word\n",
    "    return seed_text.title()"
   ]
  },
  {
   "cell_type": "code",
   "execution_count": 2,
   "metadata": {},
   "outputs": [
    {
     "ename": "NameError",
     "evalue": "name 'model' is not defined",
     "output_type": "error",
     "traceback": [
      "\u001b[0;31m---------------------------------------------------------------------------\u001b[0m",
      "\u001b[0;31mNameError\u001b[0m                                 Traceback (most recent call last)",
      "\u001b[0;32m<ipython-input-2-2f5963e38782>\u001b[0m in \u001b[0;36m<module>\u001b[0;34m\u001b[0m\n\u001b[0;32m----> 1\u001b[0;31m \u001b[0mgenerate_text\u001b[0m\u001b[0;34m(\u001b[0m\u001b[0;34m\"chambre\"\u001b[0m\u001b[0;34m,\u001b[0m \u001b[0;36m30\u001b[0m\u001b[0;34m,\u001b[0m\u001b[0mmodel\u001b[0m\u001b[0;34m,\u001b[0m \u001b[0mmax_sequence_len\u001b[0m\u001b[0;34m)\u001b[0m\u001b[0;34m\u001b[0m\u001b[0;34m\u001b[0m\u001b[0m\n\u001b[0m",
      "\u001b[0;31mNameError\u001b[0m: name 'model' is not defined"
     ]
    }
   ],
   "source": [
    "generate_text(\"chambre\", 30,model, max_sequence_len)"
   ]
  },
  {
   "cell_type": "markdown",
   "metadata": {},
   "source": [
    "### Modèle 2 25 epochs"
   ]
  },
  {
   "cell_type": "code",
   "execution_count": 73,
   "metadata": {},
   "outputs": [
    {
     "data": {
      "text/plain": [
       "'Chambre De Paris République De Paris Min De La République Et Un Une Salle De La Chambre De La Chambre De La Et Et Un Salle De La Chambre De La'"
      ]
     },
     "execution_count": 73,
     "metadata": {},
     "output_type": "execute_result"
    }
   ],
   "source": [
    "generate_text(\"chambre\", 30,model, max_sequence_len)"
   ]
  },
  {
   "cell_type": "code",
   "execution_count": 33,
   "metadata": {},
   "outputs": [
    {
     "data": {
      "text/plain": [
       "'Chambre De 2 Pièces Au 6Ème Étage Avec Ascenseur Et Très Calme Et Très Lumineux Et Très Calme Et Très Lumineux Et Calme Il Est Très Lumineux Et Calme Il Est'"
      ]
     },
     "execution_count": 33,
     "metadata": {},
     "output_type": "execute_result"
    }
   ],
   "source": [
    "generate_text(\"chambre\", 30,model1, max_sequence_len)"
   ]
  },
  {
   "cell_type": "code",
   "execution_count": 79,
   "metadata": {},
   "outputs": [
    {
     "data": {
      "text/plain": [
       "'Mont Paris Paris Place De Paris Saint Germain De Paris Saint'"
      ]
     },
     "execution_count": 79,
     "metadata": {},
     "output_type": "execute_result"
    }
   ],
   "source": [
    "generate_text(\"mont\", 10,model, max_sequence_len)"
   ]
  },
  {
   "cell_type": "code",
   "execution_count": 77,
   "metadata": {},
   "outputs": [
    {
     "data": {
      "text/plain": [
       "'Appartement The Halles Of Paris Paris The Heart Of Paris Metro'"
      ]
     },
     "execution_count": 77,
     "metadata": {},
     "output_type": "execute_result"
    }
   ],
   "source": [
    "generate_text(\"appartement\", 10,model, max_sequence_len)"
   ]
  },
  {
   "cell_type": "markdown",
   "metadata": {},
   "source": [
    "### Modèle 2 100 epochs"
   ]
  },
  {
   "cell_type": "code",
   "execution_count": 19,
   "metadata": {},
   "outputs": [
    {
     "data": {
      "text/plain": [
       "\"Le Studio Est Situé Au Cœur De Paris Des Années Magasins A Pied De De Maison Pour Un Marché L'Emplacement Chateaubriand Le Seine Et Des Champs Elysée Ou 2 Pièces 50\""
      ]
     },
     "execution_count": 19,
     "metadata": {},
     "output_type": "execute_result"
    }
   ],
   "source": [
    "generate_text(\"le\", 30,model, max_sequence_len)"
   ]
  },
  {
   "cell_type": "code",
   "execution_count": 20,
   "metadata": {},
   "outputs": [
    {
     "data": {
      "text/plain": [
       "'Appartement De 40M2 Avec Pierres Apparentes Peut Accueillir Une Petite Salle De Bain Avec Baignoire Et Ensoleillé Au Premier Étage Avec Ascenseur Vue Sur La Rue De Bretagne Extrêmement Calme Et'"
      ]
     },
     "execution_count": 20,
     "metadata": {},
     "output_type": "execute_result"
    }
   ],
   "source": [
    "generate_text(\"appartement\", 30,model, max_sequence_len)"
   ]
  },
  {
   "cell_type": "code",
   "execution_count": 22,
   "metadata": {},
   "outputs": [
    {
     "data": {
      "text/plain": [
       "\"Paris 11Th Arrondissement Rue De L'Orillon Metro Station Goncourt Or Parmentier Or Republique Ligne 2 Stations Rer 9 Metro Station 5 Station 5 Metro Station Ligne 2 5 Metro Stations Ligne\""
      ]
     },
     "execution_count": 22,
     "metadata": {},
     "output_type": "execute_result"
    }
   ],
   "source": [
    "generate_text(\"paris\", 30,model, max_sequence_len)"
   ]
  },
  {
   "cell_type": "code",
   "execution_count": 23,
   "metadata": {},
   "outputs": [
    {
     "data": {
      "text/plain": [
       "'Appartement Très Calme Et Ensoleillé De 100 M2 Situé Dans Un Quartier Calme Et Animé Accesstout 4 Pièces De 45 M² Et Un Grand Studio Ouvre Sur Le Jardin Et Les Cours Fenêtres'"
      ]
     },
     "execution_count": 23,
     "metadata": {},
     "output_type": "execute_result"
    }
   ],
   "source": [
    "generate_text(\"appartement très calme\", 30,model, max_sequence_len)"
   ]
  }
 ],
 "metadata": {
  "kernelspec": {
   "display_name": "Python 3",
   "language": "python",
   "name": "python3"
  },
  "language_info": {
   "codemirror_mode": {
    "name": "ipython",
    "version": 3
   },
   "file_extension": ".py",
   "mimetype": "text/x-python",
   "name": "python",
   "nbconvert_exporter": "python",
   "pygments_lexer": "ipython3",
   "version": "3.7.6"
  }
 },
 "nbformat": 4,
 "nbformat_minor": 4
}
