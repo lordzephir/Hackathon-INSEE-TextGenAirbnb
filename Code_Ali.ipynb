{
 "cells": [
  {
   "cell_type": "code",
   "execution_count": 1,
   "metadata": {},
   "outputs": [],
   "source": [
    "import urllib.request\n",
    "import os\n",
    "import s3fs"
   ]
  },
  {
   "cell_type": "markdown",
   "metadata": {},
   "source": [
    "On définit ensuite le lieu dans lequel il faudra stocker les données téléchargées, à savoir le serveur MINIO."
   ]
  },
  {
   "cell_type": "code",
   "execution_count": 2,
   "metadata": {},
   "outputs": [],
   "source": [
    "fs = s3fs.S3FileSystem(client_kwargs={'endpoint_url': 'https://minio.lab.sspcloud.fr'}) "
   ]
  },
  {
   "cell_type": "markdown",
   "metadata": {},
   "source": [
    "On précise l'url dans lequel se trouve les données actuellement (trouvable directement en consultant la page d'insideAirBnb)"
   ]
  },
  {
   "cell_type": "code",
   "execution_count": 2,
   "metadata": {},
   "outputs": [],
   "source": [
    "paris_urls = ['http://data.insideairbnb.com/france/ile-de-france/paris/2021-04-10/data/listings.csv.gz',\n",
    "              'http://data.insideairbnb.com/france/ile-de-france/paris/2021-04-10/data/reviews.csv.gz']\n",
    "\n",
    "bordeaux_urls = ['http://data.insideairbnb.com/france/nouvelle-aquitaine/bordeaux/2021-04-18/data/listings.csv.gz',\n",
    "                 'http://data.insideairbnb.com/france/nouvelle-aquitaine/bordeaux/2021-04-18/data/reviews.csv.gz']\n",
    "\n",
    "lyon_urls = ['http://data.insideairbnb.com/france/auvergne-rhone-alpes/lyon/2021-04-18/data/listings.csv.gz',\n",
    "             'http://data.insideairbnb.com/france/auvergne-rhone-alpes/lyon/2021-04-18/data/reviews.csv.gz']"
   ]
  },
  {
   "cell_type": "code",
   "execution_count": 2,
   "metadata": {},
   "outputs": [],
   "source": [
    "import os\n",
    "import pandas as pd\n",
    "import s3fs"
   ]
  },
  {
   "cell_type": "markdown",
   "metadata": {},
   "source": [
    "On définit le lieu dans lequel se trouvent les données (à savoir : Minio) "
   ]
  },
  {
   "cell_type": "code",
   "execution_count": 3,
   "metadata": {},
   "outputs": [],
   "source": [
    "fs = s3fs.S3FileSystem(client_kwargs={'endpoint_url': 'https://minio.lab.sspcloud.fr'}) "
   ]
  },
  {
   "cell_type": "code",
   "execution_count": 4,
   "metadata": {},
   "outputs": [],
   "source": [
    "fs.get('projet-funathon/diffusion/data/paris/2021-04-10/listings.csv.gz', 'listings.csv.gz')\n",
    "listings_d = pd.read_csv('listings.csv.gz',compression='gzip')"
   ]
  },
  {
   "cell_type": "code",
   "execution_count": 5,
   "metadata": {},
   "outputs": [
    {
     "data": {
      "text/plain": [
       "['projet-funathon/diffusion/data/paris/2021-04-10/listings.csv.gz',\n",
       " 'projet-funathon/diffusion/data/paris/2021-04-10/reviews.csv.gz']"
      ]
     },
     "execution_count": 5,
     "metadata": {},
     "output_type": "execute_result"
    }
   ],
   "source": [
    "fs.ls('projet-funathon/diffusion/data/paris/2021-04-10/')"
   ]
  },
  {
   "cell_type": "code",
   "execution_count": 6,
   "metadata": {},
   "outputs": [
    {
     "data": {
      "text/html": [
       "<div>\n",
       "<style scoped>\n",
       "    .dataframe tbody tr th:only-of-type {\n",
       "        vertical-align: middle;\n",
       "    }\n",
       "\n",
       "    .dataframe tbody tr th {\n",
       "        vertical-align: top;\n",
       "    }\n",
       "\n",
       "    .dataframe thead th {\n",
       "        text-align: right;\n",
       "    }\n",
       "</style>\n",
       "<table border=\"1\" class=\"dataframe\">\n",
       "  <thead>\n",
       "    <tr style=\"text-align: right;\">\n",
       "      <th></th>\n",
       "      <th>id</th>\n",
       "      <th>listing_url</th>\n",
       "      <th>scrape_id</th>\n",
       "      <th>last_scraped</th>\n",
       "      <th>name</th>\n",
       "      <th>description</th>\n",
       "      <th>neighborhood_overview</th>\n",
       "      <th>picture_url</th>\n",
       "      <th>host_id</th>\n",
       "      <th>host_url</th>\n",
       "      <th>host_name</th>\n",
       "      <th>host_since</th>\n",
       "      <th>host_location</th>\n",
       "      <th>host_about</th>\n",
       "      <th>host_response_time</th>\n",
       "      <th>host_response_rate</th>\n",
       "      <th>host_acceptance_rate</th>\n",
       "      <th>host_is_superhost</th>\n",
       "      <th>host_thumbnail_url</th>\n",
       "      <th>host_picture_url</th>\n",
       "      <th>host_neighbourhood</th>\n",
       "      <th>host_listings_count</th>\n",
       "      <th>host_total_listings_count</th>\n",
       "      <th>host_verifications</th>\n",
       "      <th>host_has_profile_pic</th>\n",
       "      <th>host_identity_verified</th>\n",
       "      <th>neighbourhood</th>\n",
       "      <th>neighbourhood_cleansed</th>\n",
       "      <th>neighbourhood_group_cleansed</th>\n",
       "      <th>latitude</th>\n",
       "      <th>longitude</th>\n",
       "      <th>property_type</th>\n",
       "      <th>room_type</th>\n",
       "      <th>accommodates</th>\n",
       "      <th>bathrooms</th>\n",
       "      <th>bathrooms_text</th>\n",
       "      <th>bedrooms</th>\n",
       "      <th>beds</th>\n",
       "      <th>amenities</th>\n",
       "      <th>price</th>\n",
       "      <th>minimum_nights</th>\n",
       "      <th>maximum_nights</th>\n",
       "      <th>minimum_minimum_nights</th>\n",
       "      <th>maximum_minimum_nights</th>\n",
       "      <th>minimum_maximum_nights</th>\n",
       "      <th>maximum_maximum_nights</th>\n",
       "      <th>minimum_nights_avg_ntm</th>\n",
       "      <th>maximum_nights_avg_ntm</th>\n",
       "      <th>calendar_updated</th>\n",
       "      <th>has_availability</th>\n",
       "      <th>availability_30</th>\n",
       "      <th>availability_60</th>\n",
       "      <th>availability_90</th>\n",
       "      <th>availability_365</th>\n",
       "      <th>calendar_last_scraped</th>\n",
       "      <th>number_of_reviews</th>\n",
       "      <th>number_of_reviews_ltm</th>\n",
       "      <th>number_of_reviews_l30d</th>\n",
       "      <th>first_review</th>\n",
       "      <th>last_review</th>\n",
       "      <th>review_scores_rating</th>\n",
       "      <th>review_scores_accuracy</th>\n",
       "      <th>review_scores_cleanliness</th>\n",
       "      <th>review_scores_checkin</th>\n",
       "      <th>review_scores_communication</th>\n",
       "      <th>review_scores_location</th>\n",
       "      <th>review_scores_value</th>\n",
       "      <th>license</th>\n",
       "      <th>instant_bookable</th>\n",
       "      <th>calculated_host_listings_count</th>\n",
       "      <th>calculated_host_listings_count_entire_homes</th>\n",
       "      <th>calculated_host_listings_count_private_rooms</th>\n",
       "      <th>calculated_host_listings_count_shared_rooms</th>\n",
       "      <th>reviews_per_month</th>\n",
       "    </tr>\n",
       "  </thead>\n",
       "  <tbody>\n",
       "    <tr>\n",
       "      <th>0</th>\n",
       "      <td>2577</td>\n",
       "      <td>https://www.airbnb.com/rooms/2577</td>\n",
       "      <td>20210410122610</td>\n",
       "      <td>2021-04-14</td>\n",
       "      <td>Loft for 4 by Canal Saint Martin</td>\n",
       "      <td>100 m2 loft (1100 sq feet) with high ceiling, ...</td>\n",
       "      <td>NaN</td>\n",
       "      <td>https://a0.muscache.com/pictures/09da057c-0120...</td>\n",
       "      <td>2827</td>\n",
       "      <td>https://www.airbnb.com/users/show/2827</td>\n",
       "      <td>Karine</td>\n",
       "      <td>2008-09-09</td>\n",
       "      <td>Casablanca, Grand Casablanca, Morocco</td>\n",
       "      <td>Arrivée à Casablanca il y a 4 ans, je suis amo...</td>\n",
       "      <td>within a day</td>\n",
       "      <td>50%</td>\n",
       "      <td>67%</td>\n",
       "      <td>f</td>\n",
       "      <td>https://a0.muscache.com/im/pictures/user/17fe6...</td>\n",
       "      <td>https://a0.muscache.com/im/pictures/user/17fe6...</td>\n",
       "      <td>République</td>\n",
       "      <td>2.0</td>\n",
       "      <td>2.0</td>\n",
       "      <td>['email', 'phone', 'reviews', 'jumio', 'govern...</td>\n",
       "      <td>t</td>\n",
       "      <td>t</td>\n",
       "      <td>NaN</td>\n",
       "      <td>Entrepôt</td>\n",
       "      <td>NaN</td>\n",
       "      <td>48.86957</td>\n",
       "      <td>2.36127</td>\n",
       "      <td>Entire loft</td>\n",
       "      <td>Entire home/apt</td>\n",
       "      <td>4</td>\n",
       "      <td>NaN</td>\n",
       "      <td>2 baths</td>\n",
       "      <td>2.0</td>\n",
       "      <td>2.0</td>\n",
       "      <td>[\"Essentials\", \"Kitchen\", \"Heating\", \"Host gre...</td>\n",
       "      <td>$125.00</td>\n",
       "      <td>3</td>\n",
       "      <td>1125</td>\n",
       "      <td>3.0</td>\n",
       "      <td>3.0</td>\n",
       "      <td>1125.0</td>\n",
       "      <td>1125.0</td>\n",
       "      <td>3.0</td>\n",
       "      <td>1125.0</td>\n",
       "      <td>NaN</td>\n",
       "      <td>t</td>\n",
       "      <td>0</td>\n",
       "      <td>0</td>\n",
       "      <td>12</td>\n",
       "      <td>286</td>\n",
       "      <td>2021-04-14</td>\n",
       "      <td>1</td>\n",
       "      <td>0</td>\n",
       "      <td>0</td>\n",
       "      <td>2019-01-02</td>\n",
       "      <td>2019-01-02</td>\n",
       "      <td>100.0</td>\n",
       "      <td>10.0</td>\n",
       "      <td>10.0</td>\n",
       "      <td>10.0</td>\n",
       "      <td>10.0</td>\n",
       "      <td>10.0</td>\n",
       "      <td>10.0</td>\n",
       "      <td>NaN</td>\n",
       "      <td>f</td>\n",
       "      <td>1</td>\n",
       "      <td>1</td>\n",
       "      <td>0</td>\n",
       "      <td>0</td>\n",
       "      <td>0.04</td>\n",
       "    </tr>\n",
       "    <tr>\n",
       "      <th>1</th>\n",
       "      <td>3109</td>\n",
       "      <td>https://www.airbnb.com/rooms/3109</td>\n",
       "      <td>20210410122610</td>\n",
       "      <td>2021-04-13</td>\n",
       "      <td>zen and calm</td>\n",
       "      <td>&lt;b&gt;The space&lt;/b&gt;&lt;br /&gt;I bedroom appartment in ...</td>\n",
       "      <td>Good restaurants&lt;br /&gt;very close the Montparna...</td>\n",
       "      <td>https://a0.muscache.com/pictures/baeae9e2-cd53...</td>\n",
       "      <td>3631</td>\n",
       "      <td>https://www.airbnb.com/users/show/3631</td>\n",
       "      <td>Anne</td>\n",
       "      <td>2008-10-14</td>\n",
       "      <td>Paris, Île-de-France, France</td>\n",
       "      <td>NaN</td>\n",
       "      <td>within a day</td>\n",
       "      <td>80%</td>\n",
       "      <td>0%</td>\n",
       "      <td>f</td>\n",
       "      <td>https://a0.muscache.com/im/users/3631/profile_...</td>\n",
       "      <td>https://a0.muscache.com/im/users/3631/profile_...</td>\n",
       "      <td>Alésia</td>\n",
       "      <td>1.0</td>\n",
       "      <td>1.0</td>\n",
       "      <td>['email', 'phone', 'facebook', 'reviews']</td>\n",
       "      <td>t</td>\n",
       "      <td>f</td>\n",
       "      <td>Paris, Île-de-France, France</td>\n",
       "      <td>Observatoire</td>\n",
       "      <td>NaN</td>\n",
       "      <td>48.83191</td>\n",
       "      <td>2.31870</td>\n",
       "      <td>Entire apartment</td>\n",
       "      <td>Entire home/apt</td>\n",
       "      <td>2</td>\n",
       "      <td>NaN</td>\n",
       "      <td>1 bath</td>\n",
       "      <td>NaN</td>\n",
       "      <td>1.0</td>\n",
       "      <td>[\"Smoke alarm\", \"Dishes and silverware\", \"Hair...</td>\n",
       "      <td>$60.00</td>\n",
       "      <td>2</td>\n",
       "      <td>30</td>\n",
       "      <td>2.0</td>\n",
       "      <td>2.0</td>\n",
       "      <td>30.0</td>\n",
       "      <td>30.0</td>\n",
       "      <td>2.0</td>\n",
       "      <td>30.0</td>\n",
       "      <td>NaN</td>\n",
       "      <td>t</td>\n",
       "      <td>30</td>\n",
       "      <td>60</td>\n",
       "      <td>90</td>\n",
       "      <td>365</td>\n",
       "      <td>2021-04-13</td>\n",
       "      <td>9</td>\n",
       "      <td>0</td>\n",
       "      <td>0</td>\n",
       "      <td>2016-12-27</td>\n",
       "      <td>2019-10-24</td>\n",
       "      <td>100.0</td>\n",
       "      <td>10.0</td>\n",
       "      <td>10.0</td>\n",
       "      <td>10.0</td>\n",
       "      <td>10.0</td>\n",
       "      <td>10.0</td>\n",
       "      <td>10.0</td>\n",
       "      <td>NaN</td>\n",
       "      <td>f</td>\n",
       "      <td>1</td>\n",
       "      <td>1</td>\n",
       "      <td>0</td>\n",
       "      <td>0</td>\n",
       "      <td>0.17</td>\n",
       "    </tr>\n",
       "    <tr>\n",
       "      <th>2</th>\n",
       "      <td>5396</td>\n",
       "      <td>https://www.airbnb.com/rooms/5396</td>\n",
       "      <td>20210410122610</td>\n",
       "      <td>2021-04-16</td>\n",
       "      <td>Explore the heart of old Paris</td>\n",
       "      <td>Cozy, well-appointed and graciously designed s...</td>\n",
       "      <td>You are within walking distance to the Louvre,...</td>\n",
       "      <td>https://a0.muscache.com/pictures/52413/f9bf76f...</td>\n",
       "      <td>7903</td>\n",
       "      <td>https://www.airbnb.com/users/show/7903</td>\n",
       "      <td>Borzou</td>\n",
       "      <td>2009-02-14</td>\n",
       "      <td>Istanbul, İstanbul, Turkey</td>\n",
       "      <td>We are both journalists based in the Middle Ea...</td>\n",
       "      <td>within an hour</td>\n",
       "      <td>100%</td>\n",
       "      <td>92%</td>\n",
       "      <td>f</td>\n",
       "      <td>https://a0.muscache.com/im/users/7903/profile_...</td>\n",
       "      <td>https://a0.muscache.com/im/users/7903/profile_...</td>\n",
       "      <td>Saint-Paul - Ile Saint-Louis</td>\n",
       "      <td>1.0</td>\n",
       "      <td>1.0</td>\n",
       "      <td>['email', 'phone', 'facebook', 'google', 'revi...</td>\n",
       "      <td>t</td>\n",
       "      <td>t</td>\n",
       "      <td>Paris, Ile-de-France, France</td>\n",
       "      <td>Hôtel-de-Ville</td>\n",
       "      <td>NaN</td>\n",
       "      <td>48.85247</td>\n",
       "      <td>2.35835</td>\n",
       "      <td>Entire apartment</td>\n",
       "      <td>Entire home/apt</td>\n",
       "      <td>2</td>\n",
       "      <td>NaN</td>\n",
       "      <td>1 bath</td>\n",
       "      <td>NaN</td>\n",
       "      <td>1.0</td>\n",
       "      <td>[\"Essentials\", \"TV with standard cable\", \"Dish...</td>\n",
       "      <td>$47.00</td>\n",
       "      <td>1</td>\n",
       "      <td>1125</td>\n",
       "      <td>1.0</td>\n",
       "      <td>1.0</td>\n",
       "      <td>1125.0</td>\n",
       "      <td>1125.0</td>\n",
       "      <td>1.0</td>\n",
       "      <td>1125.0</td>\n",
       "      <td>NaN</td>\n",
       "      <td>t</td>\n",
       "      <td>18</td>\n",
       "      <td>47</td>\n",
       "      <td>58</td>\n",
       "      <td>58</td>\n",
       "      <td>2021-04-16</td>\n",
       "      <td>237</td>\n",
       "      <td>17</td>\n",
       "      <td>3</td>\n",
       "      <td>2009-06-30</td>\n",
       "      <td>2021-04-12</td>\n",
       "      <td>90.0</td>\n",
       "      <td>9.0</td>\n",
       "      <td>9.0</td>\n",
       "      <td>10.0</td>\n",
       "      <td>10.0</td>\n",
       "      <td>10.0</td>\n",
       "      <td>9.0</td>\n",
       "      <td>7510402838018</td>\n",
       "      <td>f</td>\n",
       "      <td>1</td>\n",
       "      <td>1</td>\n",
       "      <td>0</td>\n",
       "      <td>0</td>\n",
       "      <td>1.65</td>\n",
       "    </tr>\n",
       "  </tbody>\n",
       "</table>\n",
       "</div>"
      ],
      "text/plain": [
       "     id                        listing_url       scrape_id last_scraped  \\\n",
       "0  2577  https://www.airbnb.com/rooms/2577  20210410122610   2021-04-14   \n",
       "1  3109  https://www.airbnb.com/rooms/3109  20210410122610   2021-04-13   \n",
       "2  5396  https://www.airbnb.com/rooms/5396  20210410122610   2021-04-16   \n",
       "\n",
       "                               name  \\\n",
       "0  Loft for 4 by Canal Saint Martin   \n",
       "1                      zen and calm   \n",
       "2    Explore the heart of old Paris   \n",
       "\n",
       "                                         description  \\\n",
       "0  100 m2 loft (1100 sq feet) with high ceiling, ...   \n",
       "1  <b>The space</b><br />I bedroom appartment in ...   \n",
       "2  Cozy, well-appointed and graciously designed s...   \n",
       "\n",
       "                               neighborhood_overview  \\\n",
       "0                                                NaN   \n",
       "1  Good restaurants<br />very close the Montparna...   \n",
       "2  You are within walking distance to the Louvre,...   \n",
       "\n",
       "                                         picture_url  host_id  \\\n",
       "0  https://a0.muscache.com/pictures/09da057c-0120...     2827   \n",
       "1  https://a0.muscache.com/pictures/baeae9e2-cd53...     3631   \n",
       "2  https://a0.muscache.com/pictures/52413/f9bf76f...     7903   \n",
       "\n",
       "                                 host_url host_name  host_since  \\\n",
       "0  https://www.airbnb.com/users/show/2827    Karine  2008-09-09   \n",
       "1  https://www.airbnb.com/users/show/3631      Anne  2008-10-14   \n",
       "2  https://www.airbnb.com/users/show/7903    Borzou  2009-02-14   \n",
       "\n",
       "                           host_location  \\\n",
       "0  Casablanca, Grand Casablanca, Morocco   \n",
       "1           Paris, Île-de-France, France   \n",
       "2             Istanbul, İstanbul, Turkey   \n",
       "\n",
       "                                          host_about host_response_time  \\\n",
       "0  Arrivée à Casablanca il y a 4 ans, je suis amo...       within a day   \n",
       "1                                                NaN       within a day   \n",
       "2  We are both journalists based in the Middle Ea...     within an hour   \n",
       "\n",
       "  host_response_rate host_acceptance_rate host_is_superhost  \\\n",
       "0                50%                  67%                 f   \n",
       "1                80%                   0%                 f   \n",
       "2               100%                  92%                 f   \n",
       "\n",
       "                                  host_thumbnail_url  \\\n",
       "0  https://a0.muscache.com/im/pictures/user/17fe6...   \n",
       "1  https://a0.muscache.com/im/users/3631/profile_...   \n",
       "2  https://a0.muscache.com/im/users/7903/profile_...   \n",
       "\n",
       "                                    host_picture_url  \\\n",
       "0  https://a0.muscache.com/im/pictures/user/17fe6...   \n",
       "1  https://a0.muscache.com/im/users/3631/profile_...   \n",
       "2  https://a0.muscache.com/im/users/7903/profile_...   \n",
       "\n",
       "             host_neighbourhood  host_listings_count  \\\n",
       "0                    République                  2.0   \n",
       "1                        Alésia                  1.0   \n",
       "2  Saint-Paul - Ile Saint-Louis                  1.0   \n",
       "\n",
       "   host_total_listings_count  \\\n",
       "0                        2.0   \n",
       "1                        1.0   \n",
       "2                        1.0   \n",
       "\n",
       "                                  host_verifications host_has_profile_pic  \\\n",
       "0  ['email', 'phone', 'reviews', 'jumio', 'govern...                    t   \n",
       "1          ['email', 'phone', 'facebook', 'reviews']                    t   \n",
       "2  ['email', 'phone', 'facebook', 'google', 'revi...                    t   \n",
       "\n",
       "  host_identity_verified                 neighbourhood neighbourhood_cleansed  \\\n",
       "0                      t                           NaN               Entrepôt   \n",
       "1                      f  Paris, Île-de-France, France           Observatoire   \n",
       "2                      t  Paris, Ile-de-France, France         Hôtel-de-Ville   \n",
       "\n",
       "   neighbourhood_group_cleansed  latitude  longitude     property_type  \\\n",
       "0                           NaN  48.86957    2.36127       Entire loft   \n",
       "1                           NaN  48.83191    2.31870  Entire apartment   \n",
       "2                           NaN  48.85247    2.35835  Entire apartment   \n",
       "\n",
       "         room_type  accommodates  bathrooms bathrooms_text  bedrooms  beds  \\\n",
       "0  Entire home/apt             4        NaN        2 baths       2.0   2.0   \n",
       "1  Entire home/apt             2        NaN         1 bath       NaN   1.0   \n",
       "2  Entire home/apt             2        NaN         1 bath       NaN   1.0   \n",
       "\n",
       "                                           amenities    price  minimum_nights  \\\n",
       "0  [\"Essentials\", \"Kitchen\", \"Heating\", \"Host gre...  $125.00               3   \n",
       "1  [\"Smoke alarm\", \"Dishes and silverware\", \"Hair...   $60.00               2   \n",
       "2  [\"Essentials\", \"TV with standard cable\", \"Dish...   $47.00               1   \n",
       "\n",
       "   maximum_nights  minimum_minimum_nights  maximum_minimum_nights  \\\n",
       "0            1125                     3.0                     3.0   \n",
       "1              30                     2.0                     2.0   \n",
       "2            1125                     1.0                     1.0   \n",
       "\n",
       "   minimum_maximum_nights  maximum_maximum_nights  minimum_nights_avg_ntm  \\\n",
       "0                  1125.0                  1125.0                     3.0   \n",
       "1                    30.0                    30.0                     2.0   \n",
       "2                  1125.0                  1125.0                     1.0   \n",
       "\n",
       "   maximum_nights_avg_ntm  calendar_updated has_availability  availability_30  \\\n",
       "0                  1125.0               NaN                t                0   \n",
       "1                    30.0               NaN                t               30   \n",
       "2                  1125.0               NaN                t               18   \n",
       "\n",
       "   availability_60  availability_90  availability_365 calendar_last_scraped  \\\n",
       "0                0               12               286            2021-04-14   \n",
       "1               60               90               365            2021-04-13   \n",
       "2               47               58                58            2021-04-16   \n",
       "\n",
       "   number_of_reviews  number_of_reviews_ltm  number_of_reviews_l30d  \\\n",
       "0                  1                      0                       0   \n",
       "1                  9                      0                       0   \n",
       "2                237                     17                       3   \n",
       "\n",
       "  first_review last_review  review_scores_rating  review_scores_accuracy  \\\n",
       "0   2019-01-02  2019-01-02                 100.0                    10.0   \n",
       "1   2016-12-27  2019-10-24                 100.0                    10.0   \n",
       "2   2009-06-30  2021-04-12                  90.0                     9.0   \n",
       "\n",
       "   review_scores_cleanliness  review_scores_checkin  \\\n",
       "0                       10.0                   10.0   \n",
       "1                       10.0                   10.0   \n",
       "2                        9.0                   10.0   \n",
       "\n",
       "   review_scores_communication  review_scores_location  review_scores_value  \\\n",
       "0                         10.0                    10.0                 10.0   \n",
       "1                         10.0                    10.0                 10.0   \n",
       "2                         10.0                    10.0                  9.0   \n",
       "\n",
       "         license instant_bookable  calculated_host_listings_count  \\\n",
       "0            NaN                f                               1   \n",
       "1            NaN                f                               1   \n",
       "2  7510402838018                f                               1   \n",
       "\n",
       "   calculated_host_listings_count_entire_homes  \\\n",
       "0                                            1   \n",
       "1                                            1   \n",
       "2                                            1   \n",
       "\n",
       "   calculated_host_listings_count_private_rooms  \\\n",
       "0                                             0   \n",
       "1                                             0   \n",
       "2                                             0   \n",
       "\n",
       "   calculated_host_listings_count_shared_rooms  reviews_per_month  \n",
       "0                                            0               0.04  \n",
       "1                                            0               0.17  \n",
       "2                                            0               1.65  "
      ]
     },
     "execution_count": 6,
     "metadata": {},
     "output_type": "execute_result"
    }
   ],
   "source": [
    "pd.options.display.max_columns = 74\n",
    "listings_d.head(3)"
   ]
  },
  {
   "cell_type": "code",
   "execution_count": 44,
   "metadata": {},
   "outputs": [
    {
     "data": {
      "text/plain": [
       "\"Up to 5/6 people, this apartment is ideal for a family. At the foot of the building you will find all necessary shops<br />(Monoprix, pharmacy, bakery, cheese, grocery etc. ..)<br /> many restaurants and a recognized market.<br />Many lines underground:<br />5 minutes walk from the Metro:12 and 6.<br />Less than 10 minutes walk from the Metro 10, 8  and 13)<br />20' from the Eiffel Tower and Les Invalides<br /><br /><b>The space</b><br />Ideally located in the heart of the 15th arrondissement of Paris, in the neighborhood Sèvre-Lecourbe/Volontaires. The apartment offers quality services and has been completely renovated. Calm and clear, it is located on the first floor courtyard and well isolated from street noise. It features a fully equipped kitchen with American bar, a lounge with a convertible sofa bed, a bathroom with tub and toilet, and finally the two bedrooms each with a double bed  and many closets.<br /><br />You will appreciate and enjoy your stay in Paris in our location wi\""
      ]
     },
     "execution_count": 44,
     "metadata": {},
     "output_type": "execute_result"
    }
   ],
   "source": [
    "listings_d.description[1550]"
   ]
  },
  {
   "cell_type": "code",
   "execution_count": 7,
   "metadata": {},
   "outputs": [],
   "source": [
    "descriptions = listings_d[[\"description\"]]"
   ]
  },
  {
   "cell_type": "code",
   "execution_count": 28,
   "metadata": {},
   "outputs": [],
   "source": [
    "from langdetect import detect\n",
    "import re"
   ]
  },
  {
   "cell_type": "code",
   "execution_count": 42,
   "metadata": {},
   "outputs": [],
   "source": [
    "lang = detect(listings_d.description[1550])"
   ]
  },
  {
   "cell_type": "code",
   "execution_count": 43,
   "metadata": {},
   "outputs": [
    {
     "data": {
      "text/plain": [
       "'en'"
      ]
     },
     "execution_count": 43,
     "metadata": {},
     "output_type": "execute_result"
    }
   ],
   "source": [
    "df[df[\"langage\"] == \"fr\"].head(5)"
   ]
  },
  {
   "cell_type": "code",
   "execution_count": null,
   "metadata": {},
   "outputs": [],
   "source": []
  },
  {
   "cell_type": "code",
   "execution_count": 9,
   "metadata": {},
   "outputs": [
    {
     "data": {
      "text/plain": [
       "(1409, 1)"
      ]
     },
     "execution_count": 9,
     "metadata": {},
     "output_type": "execute_result"
    }
   ],
   "source": [
    "null_desc = descriptions[descriptions[\"description\"].isnull()]\n",
    "null_desc.shape"
   ]
  },
  {
   "cell_type": "code",
   "execution_count": 10,
   "metadata": {},
   "outputs": [],
   "source": [
    "descriptions = descriptions[descriptions[\"description\"].notnull()]"
   ]
  },
  {
   "cell_type": "code",
   "execution_count": null,
   "metadata": {},
   "outputs": [],
   "source": []
  },
  {
   "cell_type": "code",
   "execution_count": 62,
   "metadata": {},
   "outputs": [],
   "source": [
    "descriptions[\"description\"] = descriptions[\"description\"].apply(str)"
   ]
  },
  {
   "cell_type": "code",
   "execution_count": 64,
   "metadata": {},
   "outputs": [],
   "source": [
    "def detect_en(text):\n",
    "    try:\n",
    "        return detect(text) == 'en'\n",
    "    except:\n",
    "        return False"
   ]
  },
  {
   "cell_type": "code",
   "execution_count": 65,
   "metadata": {},
   "outputs": [],
   "source": [
    "descriptions[\"langue\"] = descriptions['description'].apply(detect_en)"
   ]
  },
  {
   "cell_type": "code",
   "execution_count": 69,
   "metadata": {},
   "outputs": [
    {
     "data": {
      "text/plain": [
       "(31686, 2)"
      ]
     },
     "execution_count": 69,
     "metadata": {},
     "output_type": "execute_result"
    }
   ],
   "source": [
    "descriptions[descriptions[\"langue\"] == True].shape"
   ]
  },
  {
   "cell_type": "code",
   "execution_count": 68,
   "metadata": {},
   "outputs": [
    {
     "data": {
      "text/plain": [
       "True"
      ]
     },
     "execution_count": 68,
     "metadata": {},
     "output_type": "execute_result"
    }
   ],
   "source": [
    "descriptions[\"langue\"][4]"
   ]
  },
  {
   "cell_type": "code",
   "execution_count": 13,
   "metadata": {},
   "outputs": [],
   "source": [
    "def detect_fr(text):\n",
    "    try:\n",
    "        return detect(text) == 'fr'\n",
    "    except:\n",
    "        return False"
   ]
  },
  {
   "cell_type": "code",
   "execution_count": 14,
   "metadata": {},
   "outputs": [
    {
     "data": {
      "text/plain": [
       "(29546, 2)"
      ]
     },
     "execution_count": 14,
     "metadata": {},
     "output_type": "execute_result"
    }
   ],
   "source": [
    "descriptions[\"langue\"] = descriptions['description'].apply(detect_fr)\n",
    "descriptions[descriptions[\"langue\"] == True].shape"
   ]
  },
  {
   "cell_type": "code",
   "execution_count": 21,
   "metadata": {},
   "outputs": [
    {
     "data": {
      "text/html": [
       "<div>\n",
       "<style scoped>\n",
       "    .dataframe tbody tr th:only-of-type {\n",
       "        vertical-align: middle;\n",
       "    }\n",
       "\n",
       "    .dataframe tbody tr th {\n",
       "        vertical-align: top;\n",
       "    }\n",
       "\n",
       "    .dataframe thead th {\n",
       "        text-align: right;\n",
       "    }\n",
       "</style>\n",
       "<table border=\"1\" class=\"dataframe\">\n",
       "  <thead>\n",
       "    <tr style=\"text-align: right;\">\n",
       "      <th></th>\n",
       "      <th>description</th>\n",
       "      <th>langue</th>\n",
       "    </tr>\n",
       "  </thead>\n",
       "  <tbody>\n",
       "    <tr>\n",
       "      <th>0</th>\n",
       "      <td>100 m2 loft (1100 sq feet) with high ceiling, ...</td>\n",
       "      <td>False</td>\n",
       "    </tr>\n",
       "    <tr>\n",
       "      <th>1</th>\n",
       "      <td>&lt;b&gt;the space&lt;/b&gt;&lt;br /&gt;i bedroom appartment in ...</td>\n",
       "      <td>False</td>\n",
       "    </tr>\n",
       "    <tr>\n",
       "      <th>2</th>\n",
       "      <td>cozy, well-appointed and graciously designed s...</td>\n",
       "      <td>False</td>\n",
       "    </tr>\n",
       "    <tr>\n",
       "      <th>3</th>\n",
       "      <td>very convenient, with the best location !&lt;br /...</td>\n",
       "      <td>False</td>\n",
       "    </tr>\n",
       "    <tr>\n",
       "      <th>4</th>\n",
       "      <td>very large &amp; nice apartment all for you! &lt;br /...</td>\n",
       "      <td>False</td>\n",
       "    </tr>\n",
       "  </tbody>\n",
       "</table>\n",
       "</div>"
      ],
      "text/plain": [
       "                                         description  langue\n",
       "0  100 m2 loft (1100 sq feet) with high ceiling, ...   False\n",
       "1  <b>the space</b><br />i bedroom appartment in ...   False\n",
       "2  cozy, well-appointed and graciously designed s...   False\n",
       "3  very convenient, with the best location !<br /...   False\n",
       "4  very large & nice apartment all for you! <br /...   False"
      ]
     },
     "execution_count": 21,
     "metadata": {},
     "output_type": "execute_result"
    }
   ],
   "source": [
    "descriptions.head(5)"
   ]
  },
  {
   "cell_type": "code",
   "execution_count": 19,
   "metadata": {},
   "outputs": [],
   "source": [
    "descriptions[\"description\"] = descriptions[\"description\"].apply(str.lower)"
   ]
  },
  {
   "cell_type": "code",
   "execution_count": 22,
   "metadata": {},
   "outputs": [],
   "source": [
    "descriptions.to_pickle(\"./descriptions_fr.pkl\")"
   ]
  },
  {
   "cell_type": "markdown",
   "metadata": {},
   "source": [
    "# Import fichier descriptions du fichier pkl"
   ]
  },
  {
   "cell_type": "code",
   "execution_count": 23,
   "metadata": {},
   "outputs": [],
   "source": [
    "descriptions = pd.read_pickle(\"./descriptions_fr.pkl\")"
   ]
  },
  {
   "cell_type": "code",
   "execution_count": 25,
   "metadata": {},
   "outputs": [],
   "source": [
    "descriptions = descriptions[descriptions[\"langue\"] == True] "
   ]
  },
  {
   "cell_type": "code",
   "execution_count": 34,
   "metadata": {},
   "outputs": [],
   "source": [
    "descriptions = descriptions.reset_index()"
   ]
  },
  {
   "cell_type": "code",
   "execution_count": 35,
   "metadata": {
    "collapsed": true,
    "jupyter": {
     "outputs_hidden": true
    }
   },
   "outputs": [
    {
     "data": {
      "text/html": [
       "<div>\n",
       "<style scoped>\n",
       "    .dataframe tbody tr th:only-of-type {\n",
       "        vertical-align: middle;\n",
       "    }\n",
       "\n",
       "    .dataframe tbody tr th {\n",
       "        vertical-align: top;\n",
       "    }\n",
       "\n",
       "    .dataframe thead th {\n",
       "        text-align: right;\n",
       "    }\n",
       "</style>\n",
       "<table border=\"1\" class=\"dataframe\">\n",
       "  <thead>\n",
       "    <tr style=\"text-align: right;\">\n",
       "      <th></th>\n",
       "      <th>description</th>\n",
       "      <th>langue</th>\n",
       "    </tr>\n",
       "  </thead>\n",
       "  <tbody>\n",
       "    <tr>\n",
       "      <th>0</th>\n",
       "      <td>je suis une dame retraitée, qui propose un agr...</td>\n",
       "      <td>True</td>\n",
       "    </tr>\n",
       "    <tr>\n",
       "      <th>1</th>\n",
       "      <td>mon appartement est situé dans une très jolie ...</td>\n",
       "      <td>True</td>\n",
       "    </tr>\n",
       "    <tr>\n",
       "      <th>2</th>\n",
       "      <td>&lt;b&gt;the space&lt;/b&gt;&lt;br /&gt;chambre très claire, cal...</td>\n",
       "      <td>True</td>\n",
       "    </tr>\n",
       "    <tr>\n",
       "      <th>3</th>\n",
       "      <td>mon studio est refait à neuf, il a le charme d...</td>\n",
       "      <td>True</td>\n",
       "    </tr>\n",
       "    <tr>\n",
       "      <th>4</th>\n",
       "      <td>&lt;b&gt;the space&lt;/b&gt;&lt;br /&gt;loft duplex en open spac...</td>\n",
       "      <td>True</td>\n",
       "    </tr>\n",
       "    <tr>\n",
       "      <th>...</th>\n",
       "      <td>...</td>\n",
       "      <td>...</td>\n",
       "    </tr>\n",
       "    <tr>\n",
       "      <th>29541</th>\n",
       "      <td>bonjour! studio idéalement placé à 5 minutes d...</td>\n",
       "      <td>True</td>\n",
       "    </tr>\n",
       "    <tr>\n",
       "      <th>29542</th>\n",
       "      <td>studio entièrement refait à neuf idéalement si...</td>\n",
       "      <td>True</td>\n",
       "    </tr>\n",
       "    <tr>\n",
       "      <th>29543</th>\n",
       "      <td>superbe appartement ambiance \"bohème-chic\" en ...</td>\n",
       "      <td>True</td>\n",
       "    </tr>\n",
       "    <tr>\n",
       "      <th>29544</th>\n",
       "      <td>charmant appartement au xvième arrondissement ...</td>\n",
       "      <td>True</td>\n",
       "    </tr>\n",
       "    <tr>\n",
       "      <th>29545</th>\n",
       "      <td>studio proche de la rue daguerre. appartement ...</td>\n",
       "      <td>True</td>\n",
       "    </tr>\n",
       "  </tbody>\n",
       "</table>\n",
       "<p>29546 rows × 2 columns</p>\n",
       "</div>"
      ],
      "text/plain": [
       "                                             description  langue\n",
       "0      je suis une dame retraitée, qui propose un agr...    True\n",
       "1      mon appartement est situé dans une très jolie ...    True\n",
       "2      <b>the space</b><br />chambre très claire, cal...    True\n",
       "3      mon studio est refait à neuf, il a le charme d...    True\n",
       "4      <b>the space</b><br />loft duplex en open spac...    True\n",
       "...                                                  ...     ...\n",
       "29541  bonjour! studio idéalement placé à 5 minutes d...    True\n",
       "29542  studio entièrement refait à neuf idéalement si...    True\n",
       "29543  superbe appartement ambiance \"bohème-chic\" en ...    True\n",
       "29544  charmant appartement au xvième arrondissement ...    True\n",
       "29545  studio proche de la rue daguerre. appartement ...    True\n",
       "\n",
       "[29546 rows x 2 columns]"
      ]
     },
     "execution_count": 35,
     "metadata": {},
     "output_type": "execute_result"
    }
   ],
   "source": [
    "descriptions.drop(columns=[\"index\"], axis=1)"
   ]
  },
  {
   "cell_type": "code",
   "execution_count": 79,
   "metadata": {},
   "outputs": [
    {
     "data": {
      "text/plain": [
       "'/home/jovyan/work/2021-06-funathon/Aides Générales'"
      ]
     },
     "execution_count": 79,
     "metadata": {},
     "output_type": "execute_result"
    }
   ],
   "source": [
    "os.getcwd()"
   ]
  },
  {
   "cell_type": "code",
   "execution_count": 217,
   "metadata": {},
   "outputs": [
    {
     "data": {
      "text/plain": [
       "'je suis une dame retraitée, qui propose un agréable petit appartement situé entre bastille et  république.<br />vous pourrez facilement découvrir des marchés, les lieux touristiques, le canal couvert de la bastille au parc de la villette..<br />mon quartier est proche du marais , de la place des vosges avec ses jardins pour détente ainsi que de nombreux restaurants<br /><br /><b>the space</b><br />make your stay in paris a perfect experience. our spacious, very french flat is located in the pleasant 11th arrondissement just near the marais between republique and bastille. just 5 minutes from the picasso museum, the area has a delightful market, delightful cafés and restaurants. the metro is at your doorstep and it is a pleasant stroll through the marais down to the river seine. <br /><br />the apartment (30 square meters) is provided with a computer for email access, a well-equiped kitchen, a double bed (55 inches), and authentic french furnishings.<br /><br />you will also enjoy the n'"
      ]
     },
     "execution_count": 217,
     "metadata": {},
     "output_type": "execute_result"
    }
   ],
   "source": [
    "\n",
    "descriptions[\"description\"][210]"
   ]
  },
  {
   "cell_type": "code",
   "execution_count": 213,
   "metadata": {},
   "outputs": [],
   "source": [
    "import re\n",
    "space = re.compile('<b>t.*?</b>')\n"
   ]
  },
  {
   "cell_type": "code",
   "execution_count": 231,
   "metadata": {},
   "outputs": [],
   "source": [
    "def norm_tags_obs(chaine):\n",
    "    space = re.compile('<b>t.*?</b>')\n",
    "    access = re.compile('<b>g.*?</b>')\n",
    "    misc = re.compile('<b>o.*?</b>')\n",
    "    license = re.compile('<b>l.*?</b>')\n",
    "    transfo_list=[space, access, misc, license]\n",
    "    replaced = [\"<b>space</b>\",'<b>access</b>','<b>misc</b>',\"<b>license</b>\"]\n",
    "    for i in range(4):\n",
    "        chaine = re.sub(transfo_list[i], replaced[i], chaine)\n",
    "    chaine = re.sub()\n",
    "    return chaine"
   ]
  },
  {
   "cell_type": "code",
   "execution_count": 270,
   "metadata": {},
   "outputs": [],
   "source": [
    "def norm_tags(chaine):\n",
    "    chaine = chaine + '</b>'\n",
    "    space = re.compile('<b>t.*?</b>')\n",
    "    access = re.compile('<b>g.*?</b>')\n",
    "    misc = re.compile('<b>o.*?</b>')\n",
    "    license = re.compile('<b>l.*?</b>')\n",
    "    transfo_list=[space, access, misc, license]\n",
    "    replaced = [\"<b>space</b>\",'<b>access</b>','<b>misc</b>','<b>licence</b>']\n",
    "    for i in range(4):\n",
    "        chaine = re.sub(transfo_list[i], replaced[i], chaine)\n",
    "    return chaine"
   ]
  },
  {
   "cell_type": "code",
   "execution_count": 271,
   "metadata": {},
   "outputs": [],
   "source": [
    "name = '<b>access</b><br />métro belleville, pyrénées, buttes-chaumont<br /><br />station de bus 26 : atlas'"
   ]
  },
  {
   "cell_type": "code",
   "execution_count": null,
   "metadata": {},
   "outputs": [],
   "source": []
  },
  {
   "cell_type": "code",
   "execution_count": 272,
   "metadata": {},
   "outputs": [
    {
     "data": {
      "text/plain": [
       "'appartement ensoleillé, dans un quartier agréable, au pied du parc des buttes-chaumont.<br />pour les mélomanes, un piano, la hifi sonos multi-room.<br />pour les cinéphiles, un vidéoprojecteur haute qualité dvd blu-ray, netflix...)<br />pour les sportif.ives, un vélo elliptique.<br />pour le travail, de larges tables, le wifi<br />pour les familles, une cuisine toute équipée.<br /><br /><b>space</b><br />appartement de 65 m2<br />belle hauteur sous plafond, poutres apparentes, très ensoleillé.<br />piano.<br />vidéo-projecteur.<br />hi-fi sonos multi-room.<br />vélo elliptique.<br />cuisine toute équipée.<br /><br />. métro : buttes-chaumont, belleville, pyrénées<br />( 15 minutes pour rejoindre le centre de paris )<br />. bus 26 : station atlas<br />. station vélib à proximité<br /><br /><b>access</b><br />métro belleville, pyrénées, buttes-chaumont<br /><br />station de bus 26 : atlas</b>'"
      ]
     },
     "execution_count": 272,
     "metadata": {},
     "output_type": "execute_result"
    }
   ],
   "source": [
    "norm_tags(descriptions[\"description\"][210])"
   ]
  },
  {
   "cell_type": "code",
   "execution_count": 216,
   "metadata": {},
   "outputs": [
    {
     "data": {
      "text/plain": [
       "'appartement ensoleillé, dans un quartier agréable, au pied du parc des buttes-chaumont.<br />pour les mélomanes, un piano, la hifi sonos multi-room.<br />pour les cinéphiles, un vidéoprojecteur haute qualité dvd blu-ray, netflix...)<br />pour les sportif.ives, un vélo elliptique.<br />pour le travail, de larges tables, le wifi<br />pour les familles, une cuisine toute équipée.<br /><br /><b>space</b><br />appartement de 65 m2<br />belle hauteur sous plafond, poutres apparentes, très ensoleillé.<br />piano.<br />vidéo-projecteur.<br />hi-fi sonos multi-room.<br />vélo elliptique.<br />cuisine toute équipée.<br /><br />. métro : buttes-chaumont, belleville, pyrénées<br />( 15 minutes pour rejoindre le centre de paris )<br />. bus 26 : station atlas<br />. station vélib à proximité<br /><br /><b>guest access</b><br />métro belleville, pyrénées, buttes-chaumont<br /><br />station de bus 26 : atlas'"
      ]
     },
     "execution_count": 216,
     "metadata": {},
     "output_type": "execute_result"
    }
   ],
   "source": [
    "re.sub(space,'<b>space</b>',descriptions[\"description\"][210])"
   ]
  },
  {
   "cell_type": "code",
   "execution_count": 42,
   "metadata": {},
   "outputs": [],
   "source": []
  },
  {
   "cell_type": "code",
   "execution_count": 233,
   "metadata": {},
   "outputs": [
    {
     "data": {
      "text/plain": [
       "['<b>the space</b>', '<b>guest access</b>']"
      ]
     },
     "execution_count": 233,
     "metadata": {},
     "output_type": "execute_result"
    }
   ],
   "source": [
    "soup = BeautifulSoup(descriptions[\"description\"][210])\n",
    "[str(elt) for elt in soup.findAll(\"b\")]"
   ]
  },
  {
   "cell_type": "code",
   "execution_count": 186,
   "metadata": {},
   "outputs": [
    {
     "data": {
      "text/plain": [
       "['<b>the space</b>', '<b>guest access</b>']"
      ]
     },
     "execution_count": 186,
     "metadata": {},
     "output_type": "execute_result"
    }
   ],
   "source": [
    "[str(elt) for elt in BeautifulSoup(descriptions[\"description\"][210]).findAll(\"b\")]"
   ]
  },
  {
   "cell_type": "code",
   "execution_count": 126,
   "metadata": {},
   "outputs": [
    {
     "data": {
      "text/plain": [
       "bs4.BeautifulSoup"
      ]
     },
     "execution_count": 126,
     "metadata": {},
     "output_type": "execute_result"
    }
   ],
   "source": [
    "type(soup)"
   ]
  },
  {
   "cell_type": "code",
   "execution_count": 170,
   "metadata": {},
   "outputs": [
    {
     "data": {
      "text/plain": [
       "'appartement ensoleillé, dans un quartier agréable, au pied du parc des buttes-chaumont.<br/>pour les mélomanes, un piano, la hifi sonos multi-room.<br/>pour les cinéphiles, un vidéoprojecteur haute qualité dvd blu-ray, netflix...)<br/>pour les sportif.ives, un vélo elliptique.<br/>pour le travail, de larges tables, le wifi<br/>pour les familles, une cuisine toute équipée.<br/><br/><b>the space</b><br/>appartement de 65 m2<br/>belle hauteur sous plafond, poutres apparentes, très ensoleillé.<br/>piano.<br/>vidéo-projecteur.<br/>hi-fi sonos multi-room.<br/>vélo elliptique.<br/>cuisine toute équipée.<br/><br/>. métro : buttes-chaumont, belleville, pyrénées<br/>( 15 minutes pour rejoindre le centre de paris )<br/>. bus 26 : station atlas<br/>. station vélib à proximité<br/><br/><b>guest access</b><br/>métro belleville, pyrénées, buttes-chaumont<br/><br/>station de bus 26 : atlas'"
      ]
     },
     "execution_count": 170,
     "metadata": {},
     "output_type": "execute_result"
    }
   ],
   "source": [
    "str(soup)"
   ]
  },
  {
   "cell_type": "code",
   "execution_count": 102,
   "metadata": {},
   "outputs": [
    {
     "data": {
      "text/plain": [
       "[<b>the space</b>, <b>guest access</b>, 3]"
      ]
     },
     "execution_count": 102,
     "metadata": {},
     "output_type": "execute_result"
    }
   ],
   "source": [
    "soup.findAll(\"b\")+[3]"
   ]
  },
  {
   "cell_type": "code",
   "execution_count": 59,
   "metadata": {},
   "outputs": [
    {
     "name": "stdout",
     "output_type": "stream",
     "text": [
      "[<b>the space</b>, <b>guest access</b>, <b>other things to note</b>, <b>license number</b>]\n"
     ]
    }
   ],
   "source": [
    "print(soup.findAll(\"b\"))"
   ]
  },
  {
   "cell_type": "code",
   "execution_count": null,
   "metadata": {},
   "outputs": [],
   "source": [
    "set_list = []"
   ]
  },
  {
   "cell_type": "code",
   "execution_count": 177,
   "metadata": {},
   "outputs": [],
   "source": [
    "#descriptions = descriptions.drop(columns=['BfSoup'])"
   ]
  },
  {
   "cell_type": "code",
   "execution_count": 269,
   "metadata": {},
   "outputs": [
    {
     "data": {
      "text/plain": [
       "\"petit hôtel fraîchement rénové avec une ambiance familiale. l'équipe est à votre disposition 24 heures sur 24. très bien situé pour visiter les principaux monuments et pour vivre comme un parisien. air conditionné, wifi, salle de fitness, pièce de repassage.<br /><br /><b>space</b><br />un étage entier de l'hotel privatisé soit 6 chambres dont 4 chambres double avec grand lit pouvant accueillir 1 à 2 personnes et 2 chambres twin avec 2 lits séparées avec une literie haut de gamme, air conditionné individuel, double vitrage, salle de bain complète privative, grande télévision (satellite), chambre non-fumeur, plateau de courtoisie, wifi gratuit. lit bébé sur demande 0 à 2 ans (gratuit). lit supplémentaire enfant 3 à 12 ans sur demande (20 euros par nuit).  petit-déjeuner buffet complet servi en salle (petit-déjeuner continental servi en chambre sans supplément) 12 euros par adulte et 7 euros pour les enfants jusqu'à 12 ans. supplément animal 20 euros par nuit.<br /><br /><b>other thi\""
      ]
     },
     "execution_count": 269,
     "metadata": {},
     "output_type": "execute_result"
    }
   ],
   "source": [
    "descriptions[\"description\"][25697]"
   ]
  },
  {
   "cell_type": "code",
   "execution_count": 210,
   "metadata": {},
   "outputs": [
    {
     "data": {
      "text/html": [
       "<div>\n",
       "<style scoped>\n",
       "    .dataframe tbody tr th:only-of-type {\n",
       "        vertical-align: middle;\n",
       "    }\n",
       "\n",
       "    .dataframe tbody tr th {\n",
       "        vertical-align: top;\n",
       "    }\n",
       "\n",
       "    .dataframe thead th {\n",
       "        text-align: right;\n",
       "    }\n",
       "</style>\n",
       "<table border=\"1\" class=\"dataframe\">\n",
       "  <thead>\n",
       "    <tr style=\"text-align: right;\">\n",
       "      <th></th>\n",
       "      <th>description</th>\n",
       "      <th>langue</th>\n",
       "      <th>BfSoup</th>\n",
       "    </tr>\n",
       "  </thead>\n",
       "  <tbody>\n",
       "    <tr>\n",
       "      <th>99</th>\n",
       "      <td>c'est un appartement au calme dans un quartier...</td>\n",
       "      <td>True</td>\n",
       "      <td>[]</td>\n",
       "    </tr>\n",
       "    <tr>\n",
       "      <th>266</th>\n",
       "      <td>idéalement situé au coeur de paris, mon appart...</td>\n",
       "      <td>True</td>\n",
       "      <td>[]</td>\n",
       "    </tr>\n",
       "    <tr>\n",
       "      <th>268</th>\n",
       "      <td>appartement 31m², 3ème étage, situé quartier d...</td>\n",
       "      <td>True</td>\n",
       "      <td>[]</td>\n",
       "    </tr>\n",
       "    <tr>\n",
       "      <th>317</th>\n",
       "      <td>situé dans le quartier indien de paris, notre ...</td>\n",
       "      <td>True</td>\n",
       "      <td>[]</td>\n",
       "    </tr>\n",
       "    <tr>\n",
       "      <th>320</th>\n",
       "      <td>studio de charme à proximité des champs-elysée...</td>\n",
       "      <td>True</td>\n",
       "      <td>[]</td>\n",
       "    </tr>\n",
       "    <tr>\n",
       "      <th>...</th>\n",
       "      <td>...</td>\n",
       "      <td>...</td>\n",
       "      <td>...</td>\n",
       "    </tr>\n",
       "    <tr>\n",
       "      <th>29534</th>\n",
       "      <td>bienvenue à l’hôtel istria situé dans une rue ...</td>\n",
       "      <td>True</td>\n",
       "      <td>[]</td>\n",
       "    </tr>\n",
       "    <tr>\n",
       "      <th>29535</th>\n",
       "      <td>a deux pas de la place d’italie dans le 13e ar...</td>\n",
       "      <td>True</td>\n",
       "      <td>[]</td>\n",
       "    </tr>\n",
       "    <tr>\n",
       "      <th>29537</th>\n",
       "      <td>a deux pas de la place d’italie dans le 13e ar...</td>\n",
       "      <td>True</td>\n",
       "      <td>[]</td>\n",
       "    </tr>\n",
       "    <tr>\n",
       "      <th>29538</th>\n",
       "      <td>a deux pas de la place d’italie dans le 13e ar...</td>\n",
       "      <td>True</td>\n",
       "      <td>[]</td>\n",
       "    </tr>\n",
       "    <tr>\n",
       "      <th>29539</th>\n",
       "      <td>période roland-garros. appartement en très bon...</td>\n",
       "      <td>True</td>\n",
       "      <td>[]</td>\n",
       "    </tr>\n",
       "  </tbody>\n",
       "</table>\n",
       "<p>9364 rows × 3 columns</p>\n",
       "</div>"
      ],
      "text/plain": [
       "                                             description  langue BfSoup\n",
       "99     c'est un appartement au calme dans un quartier...    True     []\n",
       "266    idéalement situé au coeur de paris, mon appart...    True     []\n",
       "268    appartement 31m², 3ème étage, situé quartier d...    True     []\n",
       "317    situé dans le quartier indien de paris, notre ...    True     []\n",
       "320    studio de charme à proximité des champs-elysée...    True     []\n",
       "...                                                  ...     ...    ...\n",
       "29534  bienvenue à l’hôtel istria situé dans une rue ...    True     []\n",
       "29535  a deux pas de la place d’italie dans le 13e ar...    True     []\n",
       "29537  a deux pas de la place d’italie dans le 13e ar...    True     []\n",
       "29538  a deux pas de la place d’italie dans le 13e ar...    True     []\n",
       "29539  période roland-garros. appartement en très bon...    True     []\n",
       "\n",
       "[9364 rows x 3 columns]"
      ]
     },
     "execution_count": 210,
     "metadata": {},
     "output_type": "execute_result"
    }
   ],
   "source": [
    "descriptions[descriptions[\"BfSoup\"] == '[]']"
   ]
  },
  {
   "cell_type": "code",
   "execution_count": 306,
   "metadata": {},
   "outputs": [
    {
     "data": {
      "text/html": [
       "<div>\n",
       "<style scoped>\n",
       "    .dataframe tbody tr th:only-of-type {\n",
       "        vertical-align: middle;\n",
       "    }\n",
       "\n",
       "    .dataframe tbody tr th {\n",
       "        vertical-align: top;\n",
       "    }\n",
       "\n",
       "    .dataframe thead th {\n",
       "        text-align: right;\n",
       "    }\n",
       "</style>\n",
       "<table border=\"1\" class=\"dataframe\">\n",
       "  <thead>\n",
       "    <tr style=\"text-align: right;\">\n",
       "      <th></th>\n",
       "      <th>description</th>\n",
       "      <th>langue</th>\n",
       "      <th>BfSoup</th>\n",
       "    </tr>\n",
       "  </thead>\n",
       "  <tbody>\n",
       "    <tr>\n",
       "      <th>0</th>\n",
       "      <td>je suis une dame retraitée, qui propose un agr...</td>\n",
       "      <td>True</td>\n",
       "      <td>['&lt;b&gt;space&lt;/b&gt;']</td>\n",
       "    </tr>\n",
       "    <tr>\n",
       "      <th>1</th>\n",
       "      <td>mon appartement est situé dans une très jolie ...</td>\n",
       "      <td>True</td>\n",
       "      <td>['&lt;b&gt;space&lt;/b&gt;', '&lt;b&gt;access&lt;/b&gt;', '&lt;b&gt;misc&lt;/b&gt;']</td>\n",
       "    </tr>\n",
       "    <tr>\n",
       "      <th>2</th>\n",
       "      <td>&lt;b&gt;space&lt;/b&gt;&lt;br /&gt;chambre très claire, calme, ...</td>\n",
       "      <td>True</td>\n",
       "      <td>['&lt;b&gt;space&lt;/b&gt;']</td>\n",
       "    </tr>\n",
       "    <tr>\n",
       "      <th>3</th>\n",
       "      <td>mon studio est refait à neuf, il a le charme d...</td>\n",
       "      <td>True</td>\n",
       "      <td>['&lt;b&gt;space&lt;/b&gt;']</td>\n",
       "    </tr>\n",
       "    <tr>\n",
       "      <th>4</th>\n",
       "      <td>&lt;b&gt;space&lt;/b&gt;&lt;br /&gt;loft duplex en open space, a...</td>\n",
       "      <td>True</td>\n",
       "      <td>['&lt;b&gt;space&lt;/b&gt;']</td>\n",
       "    </tr>\n",
       "  </tbody>\n",
       "</table>\n",
       "</div>"
      ],
      "text/plain": [
       "                                         description  langue  \\\n",
       "0  je suis une dame retraitée, qui propose un agr...    True   \n",
       "1  mon appartement est situé dans une très jolie ...    True   \n",
       "2  <b>space</b><br />chambre très claire, calme, ...    True   \n",
       "3  mon studio est refait à neuf, il a le charme d...    True   \n",
       "4  <b>space</b><br />loft duplex en open space, a...    True   \n",
       "\n",
       "                                             BfSoup  \n",
       "0                                  ['<b>space</b>']  \n",
       "1  ['<b>space</b>', '<b>access</b>', '<b>misc</b>']  \n",
       "2                                  ['<b>space</b>']  \n",
       "3                                  ['<b>space</b>']  \n",
       "4                                  ['<b>space</b>']  "
      ]
     },
     "execution_count": 306,
     "metadata": {},
     "output_type": "execute_result"
    }
   ],
   "source": [
    "descriptions.head()"
   ]
  },
  {
   "cell_type": "code",
   "execution_count": 319,
   "metadata": {},
   "outputs": [],
   "source": [
    "descriptions[\"description\"] = descriptions[\"description\"].apply(norm_tags)"
   ]
  },
  {
   "cell_type": "code",
   "execution_count": 320,
   "metadata": {},
   "outputs": [],
   "source": [
    "descriptions['BfSoup'] = descriptions[\"description\"].apply(lambda x: [str(elt) for elt in BeautifulSoup(x).findAll(\"b\")])"
   ]
  },
  {
   "cell_type": "code",
   "execution_count": 305,
   "metadata": {},
   "outputs": [],
   "source": [
    "#descriptions['BfSoup'] = descriptions[\"BfSoup\"].apply(lambda x: str(x))"
   ]
  },
  {
   "cell_type": "code",
   "execution_count": 321,
   "metadata": {},
   "outputs": [],
   "source": [
    "descriptions['BfSoup'] = descriptions[\"BfSoup\"].apply(lambda x: remove_noise(x))"
   ]
  },
  {
   "cell_type": "code",
   "execution_count": 322,
   "metadata": {},
   "outputs": [
    {
     "data": {
      "text/plain": [
       "['<b>space</b>']"
      ]
     },
     "execution_count": 322,
     "metadata": {},
     "output_type": "execute_result"
    }
   ],
   "source": [
    "descriptions[\"BfSoup\"][25697]"
   ]
  },
  {
   "cell_type": "code",
   "execution_count": 313,
   "metadata": {},
   "outputs": [],
   "source": [
    "l = descriptions[\"BfSoup\"][25697]"
   ]
  },
  {
   "cell_type": "code",
   "execution_count": 315,
   "metadata": {},
   "outputs": [],
   "source": [
    "l.remove('<b>space</b>')"
   ]
  },
  {
   "cell_type": "code",
   "execution_count": 316,
   "metadata": {},
   "outputs": [
    {
     "data": {
      "text/plain": [
       "[]"
      ]
     },
     "execution_count": 316,
     "metadata": {},
     "output_type": "execute_result"
    }
   ],
   "source": [
    "l"
   ]
  },
  {
   "cell_type": "code",
   "execution_count": 290,
   "metadata": {},
   "outputs": [
    {
     "data": {
      "text/plain": [
       "['b']"
      ]
     },
     "execution_count": 290,
     "metadata": {},
     "output_type": "execute_result"
    }
   ],
   "source": [
    "liste = [\"a\",\"b\"]\n",
    "liste.remove(\"a\")\n",
    "liste"
   ]
  },
  {
   "cell_type": "code",
   "execution_count": 318,
   "metadata": {},
   "outputs": [],
   "source": [
    "def remove_noise(liste):\n",
    "    try:\n",
    "        liste.remove('<b></b>')\n",
    "    except:\n",
    "        pass\n",
    "    return liste"
   ]
  },
  {
   "cell_type": "code",
   "execution_count": 325,
   "metadata": {},
   "outputs": [
    {
     "data": {
      "text/html": [
       "<div>\n",
       "<style scoped>\n",
       "    .dataframe tbody tr th:only-of-type {\n",
       "        vertical-align: middle;\n",
       "    }\n",
       "\n",
       "    .dataframe tbody tr th {\n",
       "        vertical-align: top;\n",
       "    }\n",
       "\n",
       "    .dataframe thead th {\n",
       "        text-align: right;\n",
       "    }\n",
       "</style>\n",
       "<table border=\"1\" class=\"dataframe\">\n",
       "  <thead>\n",
       "    <tr style=\"text-align: right;\">\n",
       "      <th></th>\n",
       "      <th>description</th>\n",
       "      <th>langue</th>\n",
       "      <th>BfSoup</th>\n",
       "    </tr>\n",
       "  </thead>\n",
       "  <tbody>\n",
       "    <tr>\n",
       "      <th>0</th>\n",
       "      <td>je suis une dame retraitée, qui propose un agr...</td>\n",
       "      <td>True</td>\n",
       "      <td>[&lt;b&gt;space&lt;/b&gt;]</td>\n",
       "    </tr>\n",
       "    <tr>\n",
       "      <th>1</th>\n",
       "      <td>mon appartement est situé dans une très jolie ...</td>\n",
       "      <td>True</td>\n",
       "      <td>[&lt;b&gt;space&lt;/b&gt;, &lt;b&gt;access&lt;/b&gt;, &lt;b&gt;misc&lt;/b&gt;]</td>\n",
       "    </tr>\n",
       "    <tr>\n",
       "      <th>2</th>\n",
       "      <td>&lt;b&gt;space&lt;/b&gt;&lt;br /&gt;chambre très claire, calme, ...</td>\n",
       "      <td>True</td>\n",
       "      <td>[&lt;b&gt;space&lt;/b&gt;]</td>\n",
       "    </tr>\n",
       "    <tr>\n",
       "      <th>3</th>\n",
       "      <td>mon studio est refait à neuf, il a le charme d...</td>\n",
       "      <td>True</td>\n",
       "      <td>[&lt;b&gt;space&lt;/b&gt;]</td>\n",
       "    </tr>\n",
       "    <tr>\n",
       "      <th>4</th>\n",
       "      <td>&lt;b&gt;space&lt;/b&gt;&lt;br /&gt;loft duplex en open space, a...</td>\n",
       "      <td>True</td>\n",
       "      <td>[&lt;b&gt;space&lt;/b&gt;]</td>\n",
       "    </tr>\n",
       "    <tr>\n",
       "      <th>...</th>\n",
       "      <td>...</td>\n",
       "      <td>...</td>\n",
       "      <td>...</td>\n",
       "    </tr>\n",
       "    <tr>\n",
       "      <th>29541</th>\n",
       "      <td>bonjour! studio idéalement placé à 5 minutes d...</td>\n",
       "      <td>True</td>\n",
       "      <td>[]</td>\n",
       "    </tr>\n",
       "    <tr>\n",
       "      <th>29542</th>\n",
       "      <td>studio entièrement refait à neuf idéalement si...</td>\n",
       "      <td>True</td>\n",
       "      <td>[&lt;b&gt;space&lt;/b&gt;]</td>\n",
       "    </tr>\n",
       "    <tr>\n",
       "      <th>29543</th>\n",
       "      <td>superbe appartement ambiance \"bohème-chic\" en ...</td>\n",
       "      <td>True</td>\n",
       "      <td>[]</td>\n",
       "    </tr>\n",
       "    <tr>\n",
       "      <th>29544</th>\n",
       "      <td>charmant appartement au xvième arrondissement ...</td>\n",
       "      <td>True</td>\n",
       "      <td>[&lt;b&gt;space&lt;/b&gt;, &lt;b&gt;access&lt;/b&gt;]</td>\n",
       "    </tr>\n",
       "    <tr>\n",
       "      <th>29545</th>\n",
       "      <td>studio proche de la rue daguerre. appartement ...</td>\n",
       "      <td>True</td>\n",
       "      <td>[]</td>\n",
       "    </tr>\n",
       "  </tbody>\n",
       "</table>\n",
       "<p>29546 rows × 3 columns</p>\n",
       "</div>"
      ],
      "text/plain": [
       "                                             description  langue  \\\n",
       "0      je suis une dame retraitée, qui propose un agr...    True   \n",
       "1      mon appartement est situé dans une très jolie ...    True   \n",
       "2      <b>space</b><br />chambre très claire, calme, ...    True   \n",
       "3      mon studio est refait à neuf, il a le charme d...    True   \n",
       "4      <b>space</b><br />loft duplex en open space, a...    True   \n",
       "...                                                  ...     ...   \n",
       "29541  bonjour! studio idéalement placé à 5 minutes d...    True   \n",
       "29542  studio entièrement refait à neuf idéalement si...    True   \n",
       "29543  superbe appartement ambiance \"bohème-chic\" en ...    True   \n",
       "29544  charmant appartement au xvième arrondissement ...    True   \n",
       "29545  studio proche de la rue daguerre. appartement ...    True   \n",
       "\n",
       "                                           BfSoup  \n",
       "0                                  [<b>space</b>]  \n",
       "1      [<b>space</b>, <b>access</b>, <b>misc</b>]  \n",
       "2                                  [<b>space</b>]  \n",
       "3                                  [<b>space</b>]  \n",
       "4                                  [<b>space</b>]  \n",
       "...                                           ...  \n",
       "29541                                          []  \n",
       "29542                              [<b>space</b>]  \n",
       "29543                                          []  \n",
       "29544               [<b>space</b>, <b>access</b>]  \n",
       "29545                                          []  \n",
       "\n",
       "[29546 rows x 3 columns]"
      ]
     },
     "execution_count": 325,
     "metadata": {},
     "output_type": "execute_result"
    }
   ],
   "source": [
    "descriptions"
   ]
  },
  {
   "cell_type": "code",
   "execution_count": 77,
   "metadata": {
    "collapsed": true,
    "jupyter": {
     "outputs_hidden": true
    }
   },
   "outputs": [
    {
     "ename": "SystemError",
     "evalue": "<built-in function duplicated_object> returned a result with an error set",
     "output_type": "error",
     "traceback": [
      "\u001b[0;31m---------------------------------------------------------------------------\u001b[0m",
      "\u001b[0;31mTypeError\u001b[0m                                 Traceback (most recent call last)",
      "\u001b[0;31mTypeError\u001b[0m: unhashable type: 'list'",
      "\nThe above exception was the direct cause of the following exception:\n",
      "\u001b[0;31mSystemError\u001b[0m                               Traceback (most recent call last)",
      "\u001b[0;32m<ipython-input-77-076495066163>\u001b[0m in \u001b[0;36m<module>\u001b[0;34m\u001b[0m\n\u001b[0;32m----> 1\u001b[0;31m \u001b[0mdesc_test\u001b[0m \u001b[0;34m=\u001b[0m \u001b[0mdescriptions\u001b[0m\u001b[0;34m[\u001b[0m\u001b[0;34m\"BfSoup\"\u001b[0m\u001b[0;34m]\u001b[0m\u001b[0;34m.\u001b[0m\u001b[0mdrop_duplicates\u001b[0m\u001b[0;34m(\u001b[0m\u001b[0;34m)\u001b[0m\u001b[0;34m\u001b[0m\u001b[0;34m\u001b[0m\u001b[0m\n\u001b[0m",
      "\u001b[0;32m/opt/conda/lib/python3.7/site-packages/pandas/core/series.py\u001b[0m in \u001b[0;36mdrop_duplicates\u001b[0;34m(self, keep, inplace)\u001b[0m\n\u001b[1;32m   1892\u001b[0m         \u001b[0mName\u001b[0m\u001b[0;34m:\u001b[0m \u001b[0manimal\u001b[0m\u001b[0;34m,\u001b[0m \u001b[0mdtype\u001b[0m\u001b[0;34m:\u001b[0m \u001b[0mobject\u001b[0m\u001b[0;34m\u001b[0m\u001b[0;34m\u001b[0m\u001b[0m\n\u001b[1;32m   1893\u001b[0m         \"\"\"\n\u001b[0;32m-> 1894\u001b[0;31m         \u001b[0;32mreturn\u001b[0m \u001b[0msuper\u001b[0m\u001b[0;34m(\u001b[0m\u001b[0;34m)\u001b[0m\u001b[0;34m.\u001b[0m\u001b[0mdrop_duplicates\u001b[0m\u001b[0;34m(\u001b[0m\u001b[0mkeep\u001b[0m\u001b[0;34m=\u001b[0m\u001b[0mkeep\u001b[0m\u001b[0;34m,\u001b[0m \u001b[0minplace\u001b[0m\u001b[0;34m=\u001b[0m\u001b[0minplace\u001b[0m\u001b[0;34m)\u001b[0m\u001b[0;34m\u001b[0m\u001b[0;34m\u001b[0m\u001b[0m\n\u001b[0m\u001b[1;32m   1895\u001b[0m \u001b[0;34m\u001b[0m\u001b[0m\n\u001b[1;32m   1896\u001b[0m     \u001b[0;32mdef\u001b[0m \u001b[0mduplicated\u001b[0m\u001b[0;34m(\u001b[0m\u001b[0mself\u001b[0m\u001b[0;34m,\u001b[0m \u001b[0mkeep\u001b[0m\u001b[0;34m=\u001b[0m\u001b[0;34m\"first\"\u001b[0m\u001b[0;34m)\u001b[0m\u001b[0;34m:\u001b[0m\u001b[0;34m\u001b[0m\u001b[0;34m\u001b[0m\u001b[0m\n",
      "\u001b[0;32m/opt/conda/lib/python3.7/site-packages/pandas/core/base.py\u001b[0m in \u001b[0;36mdrop_duplicates\u001b[0;34m(self, keep, inplace)\u001b[0m\n\u001b[1;32m   1484\u001b[0m                 \u001b[0;32mreturn\u001b[0m \u001b[0mself\u001b[0m\u001b[0;34m.\u001b[0m\u001b[0m_shallow_copy\u001b[0m\u001b[0;34m(\u001b[0m\u001b[0;34m)\u001b[0m\u001b[0;34m\u001b[0m\u001b[0;34m\u001b[0m\u001b[0m\n\u001b[1;32m   1485\u001b[0m \u001b[0;34m\u001b[0m\u001b[0m\n\u001b[0;32m-> 1486\u001b[0;31m         \u001b[0mduplicated\u001b[0m \u001b[0;34m=\u001b[0m \u001b[0mself\u001b[0m\u001b[0;34m.\u001b[0m\u001b[0mduplicated\u001b[0m\u001b[0;34m(\u001b[0m\u001b[0mkeep\u001b[0m\u001b[0;34m=\u001b[0m\u001b[0mkeep\u001b[0m\u001b[0;34m)\u001b[0m\u001b[0;34m\u001b[0m\u001b[0;34m\u001b[0m\u001b[0m\n\u001b[0m\u001b[1;32m   1487\u001b[0m         \u001b[0mresult\u001b[0m \u001b[0;34m=\u001b[0m \u001b[0mself\u001b[0m\u001b[0;34m[\u001b[0m\u001b[0mnp\u001b[0m\u001b[0;34m.\u001b[0m\u001b[0mlogical_not\u001b[0m\u001b[0;34m(\u001b[0m\u001b[0mduplicated\u001b[0m\u001b[0;34m)\u001b[0m\u001b[0;34m]\u001b[0m\u001b[0;34m\u001b[0m\u001b[0;34m\u001b[0m\u001b[0m\n\u001b[1;32m   1488\u001b[0m         \u001b[0;32mif\u001b[0m \u001b[0minplace\u001b[0m\u001b[0;34m:\u001b[0m\u001b[0;34m\u001b[0m\u001b[0;34m\u001b[0m\u001b[0m\n",
      "\u001b[0;32m/opt/conda/lib/python3.7/site-packages/pandas/core/series.py\u001b[0m in \u001b[0;36mduplicated\u001b[0;34m(self, keep)\u001b[0m\n\u001b[1;32m   1970\u001b[0m         \u001b[0mdtype\u001b[0m\u001b[0;34m:\u001b[0m \u001b[0mbool\u001b[0m\u001b[0;34m\u001b[0m\u001b[0;34m\u001b[0m\u001b[0m\n\u001b[1;32m   1971\u001b[0m         \"\"\"\n\u001b[0;32m-> 1972\u001b[0;31m         \u001b[0;32mreturn\u001b[0m \u001b[0msuper\u001b[0m\u001b[0;34m(\u001b[0m\u001b[0;34m)\u001b[0m\u001b[0;34m.\u001b[0m\u001b[0mduplicated\u001b[0m\u001b[0;34m(\u001b[0m\u001b[0mkeep\u001b[0m\u001b[0;34m=\u001b[0m\u001b[0mkeep\u001b[0m\u001b[0;34m)\u001b[0m\u001b[0;34m\u001b[0m\u001b[0;34m\u001b[0m\u001b[0m\n\u001b[0m\u001b[1;32m   1973\u001b[0m \u001b[0;34m\u001b[0m\u001b[0m\n\u001b[1;32m   1974\u001b[0m     \u001b[0;32mdef\u001b[0m \u001b[0midxmin\u001b[0m\u001b[0;34m(\u001b[0m\u001b[0mself\u001b[0m\u001b[0;34m,\u001b[0m \u001b[0maxis\u001b[0m\u001b[0;34m=\u001b[0m\u001b[0;36m0\u001b[0m\u001b[0;34m,\u001b[0m \u001b[0mskipna\u001b[0m\u001b[0;34m=\u001b[0m\u001b[0;32mTrue\u001b[0m\u001b[0;34m,\u001b[0m \u001b[0;34m*\u001b[0m\u001b[0margs\u001b[0m\u001b[0;34m,\u001b[0m \u001b[0;34m**\u001b[0m\u001b[0mkwargs\u001b[0m\u001b[0;34m)\u001b[0m\u001b[0;34m:\u001b[0m\u001b[0;34m\u001b[0m\u001b[0;34m\u001b[0m\u001b[0m\n",
      "\u001b[0;32m/opt/conda/lib/python3.7/site-packages/pandas/core/base.py\u001b[0m in \u001b[0;36mduplicated\u001b[0;34m(self, keep)\u001b[0m\n\u001b[1;32m   1498\u001b[0m         \u001b[0;32melse\u001b[0m\u001b[0;34m:\u001b[0m\u001b[0;34m\u001b[0m\u001b[0;34m\u001b[0m\u001b[0m\n\u001b[1;32m   1499\u001b[0m             return self._constructor(\n\u001b[0;32m-> 1500\u001b[0;31m                 \u001b[0mduplicated\u001b[0m\u001b[0;34m(\u001b[0m\u001b[0mself\u001b[0m\u001b[0;34m,\u001b[0m \u001b[0mkeep\u001b[0m\u001b[0;34m=\u001b[0m\u001b[0mkeep\u001b[0m\u001b[0;34m)\u001b[0m\u001b[0;34m,\u001b[0m \u001b[0mindex\u001b[0m\u001b[0;34m=\u001b[0m\u001b[0mself\u001b[0m\u001b[0;34m.\u001b[0m\u001b[0mindex\u001b[0m\u001b[0;34m\u001b[0m\u001b[0;34m\u001b[0m\u001b[0m\n\u001b[0m\u001b[1;32m   1501\u001b[0m             ).__finalize__(self)\n\u001b[1;32m   1502\u001b[0m \u001b[0;34m\u001b[0m\u001b[0m\n",
      "\u001b[0;32m/opt/conda/lib/python3.7/site-packages/pandas/core/algorithms.py\u001b[0m in \u001b[0;36mduplicated\u001b[0;34m(values, keep)\u001b[0m\n\u001b[1;32m    801\u001b[0m     \u001b[0mndtype\u001b[0m \u001b[0;34m=\u001b[0m \u001b[0mvalues\u001b[0m\u001b[0;34m.\u001b[0m\u001b[0mdtype\u001b[0m\u001b[0;34m.\u001b[0m\u001b[0mname\u001b[0m\u001b[0;34m\u001b[0m\u001b[0;34m\u001b[0m\u001b[0m\n\u001b[1;32m    802\u001b[0m     \u001b[0mf\u001b[0m \u001b[0;34m=\u001b[0m \u001b[0mgetattr\u001b[0m\u001b[0;34m(\u001b[0m\u001b[0mhtable\u001b[0m\u001b[0;34m,\u001b[0m \u001b[0;34mf\"duplicated_{ndtype}\"\u001b[0m\u001b[0;34m)\u001b[0m\u001b[0;34m\u001b[0m\u001b[0;34m\u001b[0m\u001b[0m\n\u001b[0;32m--> 803\u001b[0;31m     \u001b[0;32mreturn\u001b[0m \u001b[0mf\u001b[0m\u001b[0;34m(\u001b[0m\u001b[0mvalues\u001b[0m\u001b[0;34m,\u001b[0m \u001b[0mkeep\u001b[0m\u001b[0;34m=\u001b[0m\u001b[0mkeep\u001b[0m\u001b[0;34m)\u001b[0m\u001b[0;34m\u001b[0m\u001b[0;34m\u001b[0m\u001b[0m\n\u001b[0m\u001b[1;32m    804\u001b[0m \u001b[0;34m\u001b[0m\u001b[0m\n\u001b[1;32m    805\u001b[0m \u001b[0;34m\u001b[0m\u001b[0m\n",
      "\u001b[0;31mSystemError\u001b[0m: <built-in function duplicated_object> returned a result with an error set"
     ]
    }
   ],
   "source": [
    "desc_test = descriptions[\"BfSoup\"].drop_duplicates()"
   ]
  },
  {
   "cell_type": "code",
   "execution_count": 283,
   "metadata": {},
   "outputs": [],
   "source": [
    "desc_test = desc_test.reset_index()"
   ]
  },
  {
   "cell_type": "code",
   "execution_count": 286,
   "metadata": {},
   "outputs": [],
   "source": [
    "desc_test = desc_test.drop(columns=['index'])"
   ]
  },
  {
   "cell_type": "code",
   "execution_count": 289,
   "metadata": {},
   "outputs": [
    {
     "data": {
      "text/plain": [
       "\"['<b>space</b>', '<b>access</b>', '<b>misc</b>', '<b></b>']\""
      ]
     },
     "execution_count": 289,
     "metadata": {},
     "output_type": "execute_result"
    }
   ],
   "source": [
    "desc_test[\"BfSoup\"][11]"
   ]
  },
  {
   "cell_type": "code",
   "execution_count": 230,
   "metadata": {},
   "outputs": [
    {
     "data": {
      "text/plain": [
       "\"['<b>the space</b>', '<b>guest access</b>', '<b>other things to note</b>', '<b>license number</b>']\""
      ]
     },
     "execution_count": 230,
     "metadata": {},
     "output_type": "execute_result"
    }
   ],
   "source": [
    "desc_test[\"BfSoup\"][1]"
   ]
  },
  {
   "cell_type": "code",
   "execution_count": null,
   "metadata": {},
   "outputs": [],
   "source": [
    "descriptions[descriptions[\"description\"] "
   ]
  },
  {
   "cell_type": "code",
   "execution_count": 338,
   "metadata": {},
   "outputs": [],
   "source": [
    "def order_tags(chaine, tag):\n",
    "    tag_all = '<b>'+tag+'</b>'\n",
    "    soup_chain = BeautifulSoup(chaine)\n",
    "    soup = [str(elt) for elt in soup_chain.findAll(\"b\")]\n",
    "    if tag_all in chaine:\n",
    "        if(soup == [] and tag == 'space'):\n",
    "            return chaine\n",
    "    \n",
    "        chaine = chaine.split(tag_all)\n",
    "        chaine[1] = chaine[1].split(\"<b>\")[0]\n",
    "        if(tag != 'space'):\n",
    "            return chaine[1]\n",
    "        if(tag == 'space'):\n",
    "            return chaine[0]+' '+chaine[1] \n",
    "    else:\n",
    "        return ''"
   ]
  },
  {
   "cell_type": "code",
   "execution_count": 329,
   "metadata": {},
   "outputs": [
    {
     "data": {
      "text/plain": [
       "'appartement ensoleillé, dans un quartier agréable, au pied du parc des buttes-chaumont.<br />pour les mélomanes, un piano, la hifi sonos multi-room.<br />pour les cinéphiles, un vidéoprojecteur haute qualité dvd blu-ray, netflix...)<br />pour les sportif.ives, un vélo elliptique.<br />pour le travail, de larges tables, le wifi<br />pour les familles, une cuisine toute équipée.<br /><br /><b>space</b><br />appartement de 65 m2<br />belle hauteur sous plafond, poutres apparentes, très ensoleillé.<br />piano.<br />vidéo-projecteur.<br />hi-fi sonos multi-room.<br />vélo elliptique.<br />cuisine toute équipée.<br /><br />. métro : buttes-chaumont, belleville, pyrénées<br />( 15 minutes pour rejoindre le centre de paris )<br />. bus 26 : station atlas<br />. station vélib à proximité<br /><br /><b>access</b><br />métro belleville, pyrénées, buttes-chaumont<br /><br />station de bus 26 : atlas</b></b></b></b></b></b></b>'"
      ]
     },
     "execution_count": 329,
     "metadata": {},
     "output_type": "execute_result"
    }
   ],
   "source": [
    "descriptions[\"description\"][210]"
   ]
  },
  {
   "cell_type": "code",
   "execution_count": 331,
   "metadata": {},
   "outputs": [
    {
     "data": {
      "text/plain": [
       "'<br />métro belleville, pyrénées, buttes-chaumont<br /><br />station de bus 26 : atlas</b></b></b></b></b></b></b>'"
      ]
     },
     "execution_count": 331,
     "metadata": {},
     "output_type": "execute_result"
    }
   ],
   "source": [
    "order_tags(descriptions[\"description\"][210], 'access')"
   ]
  },
  {
   "cell_type": "code",
   "execution_count": 106,
   "metadata": {},
   "outputs": [
    {
     "data": {
      "text/plain": [
       "{'<b>the space</b>': [], '<b>guest access</b>': []}"
      ]
     },
     "execution_count": 106,
     "metadata": {},
     "output_type": "execute_result"
    }
   ],
   "source": [
    "column"
   ]
  },
  {
   "cell_type": "code",
   "execution_count": 88,
   "metadata": {},
   "outputs": [
    {
     "data": {
      "text/plain": [
       "['',\n",
       " 'the space</b><br />appartement de 30 m2 avec salon-cuisine américaine très agréable et lumineux. chambre spacieuse salle de bain avec baignoire. <br />vu sur montmartre, paris 9ème arrondissement <br />très lumineux, refait à neuf entièrement très récemment, belle copropriété, tout confort, chambre: lit avec matelas à mémoire de formes et salle de bain attenante <br />cuisine équipé, télévision lcd, canapé convertible 6ème étage sans ascenseur, à proximité: commerces (marchés), bars, restaurants, musées (le louvre, grévin), théâtres (opéra garnier, théâtre du gymnase, de la ville, du châtelet), grands magasins (galerie lafayette), cinéma... métro à 5 minutes (4 lignes). à 15 minutes à pied de montmartre']"
      ]
     },
     "execution_count": 88,
     "metadata": {},
     "output_type": "execute_result"
    }
   ],
   "source": [
    "descriptions[\"description\"][203].split(\"<b>\")"
   ]
  },
  {
   "cell_type": "code",
   "execution_count": 95,
   "metadata": {},
   "outputs": [
    {
     "data": {
      "text/plain": [
       "index                                                       [12]\n",
       "description    [mon appartement est situé dans une très jolie...\n",
       "langue                                                    [True]\n",
       "dtype: object"
      ]
     },
     "execution_count": 95,
     "metadata": {},
     "output_type": "execute_result"
    }
   ],
   "source": [
    "descriptions.apply(lambda x: str(x[1]).split('the space'))"
   ]
  },
  {
   "cell_type": "code",
   "execution_count": 73,
   "metadata": {},
   "outputs": [],
   "source": [
    "test = descriptions[\"description\"][210]"
   ]
  },
  {
   "cell_type": "code",
   "execution_count": 339,
   "metadata": {},
   "outputs": [],
   "source": [
    "descriptions[\"space\"] = descriptions[\"description\"].apply(lambda x: order_tags(x,'space'))"
   ]
  },
  {
   "cell_type": "code",
   "execution_count": 385,
   "metadata": {},
   "outputs": [],
   "source": [
    "l = descriptions[\"space\"][3]"
   ]
  },
  {
   "cell_type": "code",
   "execution_count": 381,
   "metadata": {},
   "outputs": [],
   "source": [
    "def del_tags(chaine):\n",
    "    p = re.compile(\"<.*?>\")\n",
    "    return re.sub(p,'',chaine)"
   ]
  },
  {
   "cell_type": "code",
   "execution_count": 382,
   "metadata": {},
   "outputs": [],
   "source": [
    "descriptions[\"space\"] = descriptions[\"description\"].apply(lambda x: del_tags(x))"
   ]
  },
  {
   "cell_type": "code",
   "execution_count": 386,
   "metadata": {},
   "outputs": [
    {
     "name": "stdout",
     "output_type": "stream",
     "text": [
      "mon studio est refait à neuf, il a le charme de l'ancien ( poutres, parquet, cheminée, grandes fenêtres...) et il a été refait à neuf ( peinture,...).\n",
      "il est meublé avec du mobilier contemporain.\n",
      "ideal pour un voyage d'affaires.spaceje loue mon studio de 20 m² à paris, équipé de toutes les commodités (internet, téléphone...) et décoré avec du mobilier design.idéal pour une personne, mais possibilité de dormir à deux.\n",
      "il s'agit du quartier chic de paris, proche des invalides et du quartier très animé de saint-germain des près.\n"
     ]
    }
   ],
   "source": [
    "nlp = spacy.load(\"fr_core_news_sm\")\n",
    "doc = nlp(l)\n",
    "for sent in doc.sents:\n",
    "    print(sent.text)"
   ]
  },
  {
   "cell_type": "code",
   "execution_count": 387,
   "metadata": {},
   "outputs": [],
   "source": [
    "sentences = list(doc.sents)"
   ]
  },
  {
   "cell_type": "code",
   "execution_count": 388,
   "metadata": {},
   "outputs": [
    {
     "data": {
      "text/plain": [
       "[mon studio est refait à neuf, il a le charme de l'ancien ( poutres, parquet, cheminée, grandes fenêtres...) et il a été refait à neuf ( peinture,...).,\n",
       " il est meublé avec du mobilier contemporain.,\n",
       " ideal pour un voyage d'affaires.spaceje loue mon studio de 20 m² à paris, équipé de toutes les commodités (internet, téléphone...) et décoré avec du mobilier design.idéal pour une personne, mais possibilité de dormir à deux.,\n",
       " il s'agit du quartier chic de paris, proche des invalides et du quartier très animé de saint-germain des près.]"
      ]
     },
     "execution_count": 388,
     "metadata": {},
     "output_type": "execute_result"
    }
   ],
   "source": [
    "sentences"
   ]
  },
  {
   "cell_type": "code",
   "execution_count": 375,
   "metadata": {},
   "outputs": [],
   "source": [
    "import cld3"
   ]
  },
  {
   "cell_type": "code",
   "execution_count": 383,
   "metadata": {},
   "outputs": [
    {
     "data": {
      "text/plain": [
       "'je suis une dame retraitée, qui propose un agréable petit appartement situé entre bastille et  république.vous pourrez facilement découvrir des marchés, les lieux touristiques, le canal couvert de la bastille au parc de la villette..mon quartier est proche du marais , de la place des vosges avec ses jardins pour détente ainsi que de nombreux restaurantsspacemake your stay in paris a perfect experience. our spacious, very french flat is located in the pleasant 11th arrondissement just near the marais between republique and bastille. just 5 minutes from the picasso museum, the area has a delightful market, delightful cafés and restaurants. the metro is at your doorstep and it is a pleasant stroll through the marais down to the river seine. the apartment (30 square meters) is provided with a computer for email access, a well-equiped kitchen, a double bed (55 inches), and authentic french furnishings.you will also enjoy the n'"
      ]
     },
     "execution_count": 383,
     "metadata": {},
     "output_type": "execute_result"
    }
   ],
   "source": [
    "descriptions[\"space\"][0]"
   ]
  },
  {
   "cell_type": "code",
   "execution_count": 391,
   "metadata": {},
   "outputs": [],
   "source": [
    "def keep_fr(chaine):\n",
    "    doc = nlp(chaine)\n",
    "    sentences = [str(elt) for elt in doc.sents]\n",
    "    chaine_fr = ''\n",
    "    for i in range(len(sentences)):\n",
    "        if(cld3.get_language(sentences[i])[0] == 'fr'):\n",
    "            chaine_fr = chaine_fr+sentences[i]\n",
    "    return chaine_fr"
   ]
  },
  {
   "cell_type": "code",
   "execution_count": 392,
   "metadata": {},
   "outputs": [
    {
     "data": {
      "text/plain": [
       "'je suis une dame retraitée, qui propose un agréable petit appartement situé entre bastille et  république.vous pourrez facilement découvrir des marchés, les lieux touristiques, le canal couvert de la bastille au parc de la villette..mon quartier est proche du marais , de la place des vosges avec ses jardins pour détente ainsi que de nombreux restaurantsspacemake your stay in paris a perfect experience.'"
      ]
     },
     "execution_count": 392,
     "metadata": {},
     "output_type": "execute_result"
    }
   ],
   "source": [
    "keep_fr(descriptions[\"space\"][0])"
   ]
  },
  {
   "cell_type": "code",
   "execution_count": 393,
   "metadata": {},
   "outputs": [],
   "source": [
    "descriptions[\"space\"] = descriptions[\"space\"].apply(lambda x: keep_fr(x))"
   ]
  },
  {
   "cell_type": "code",
   "execution_count": 16,
   "metadata": {
    "collapsed": true,
    "jupyter": {
     "outputs_hidden": true
    }
   },
   "outputs": [
    {
     "ename": "NameError",
     "evalue": "name 'descriptions' is not defined",
     "output_type": "error",
     "traceback": [
      "\u001b[0;31m---------------------------------------------------------------------------\u001b[0m",
      "\u001b[0;31mNameError\u001b[0m                                 Traceback (most recent call last)",
      "\u001b[0;32m<ipython-input-16-a925139d1a35>\u001b[0m in \u001b[0;36m<module>\u001b[0;34m\u001b[0m\n\u001b[0;32m----> 1\u001b[0;31m \u001b[0mdescriptions\u001b[0m\u001b[0;34m.\u001b[0m\u001b[0mto_pickle\u001b[0m\u001b[0;34m(\u001b[0m\u001b[0;34m\"./descriptions_clean_fr.pkl\"\u001b[0m\u001b[0;34m)\u001b[0m\u001b[0;34m\u001b[0m\u001b[0;34m\u001b[0m\u001b[0m\n\u001b[0m",
      "\u001b[0;31mNameError\u001b[0m: name 'descriptions' is not defined"
     ]
    }
   ],
   "source": [
    "descriptions.to_pickle(\"./descriptions_clean_fr.pkl\")"
   ]
  },
  {
   "cell_type": "code",
   "execution_count": 12,
   "metadata": {},
   "outputs": [],
   "source": [
    "import pandas as pd"
   ]
  },
  {
   "cell_type": "code",
   "execution_count": 43,
   "metadata": {},
   "outputs": [],
   "source": [
    "descriptions = pd.read_pickle(\"./descriptions_clean_fr2.pkl\")"
   ]
  },
  {
   "cell_type": "code",
   "execution_count": 14,
   "metadata": {},
   "outputs": [
    {
     "ename": "SyntaxError",
     "evalue": "invalid syntax (<ipython-input-14-292c799d041a>, line 1)",
     "output_type": "error",
     "traceback": [
      "\u001b[0;36m  File \u001b[0;32m\"<ipython-input-14-292c799d041a>\"\u001b[0;36m, line \u001b[0;32m1\u001b[0m\n\u001b[0;31m    descriptions.space = description.space.apply(lambda x: x[])\u001b[0m\n\u001b[0m                                                             ^\u001b[0m\n\u001b[0;31mSyntaxError\u001b[0m\u001b[0;31m:\u001b[0m invalid syntax\n"
     ]
    }
   ],
   "source": [
    "descriptions.space = description.space.apply(lambda x: x[])"
   ]
  },
  {
   "cell_type": "markdown",
   "metadata": {},
   "source": [
    "# Modèle"
   ]
  },
  {
   "cell_type": "code",
   "execution_count": 44,
   "metadata": {},
   "outputs": [],
   "source": [
    "import numpy as np"
   ]
  },
  {
   "cell_type": "code",
   "execution_count": 45,
   "metadata": {},
   "outputs": [],
   "source": [
    "import tensorflow as tf"
   ]
  },
  {
   "cell_type": "code",
   "execution_count": 46,
   "metadata": {},
   "outputs": [],
   "source": [
    "from tensorflow.keras.preprocessing.sequence import pad_sequences\n",
    "from tensorflow.keras.layers import Embedding, LSTM, Dense, Dropout\n",
    "from tensorflow.keras.preprocessing.text import Tokenizer\n",
    "from tensorflow.keras.callbacks import EarlyStopping\n",
    "from tensorflow.keras.models import Sequential\n",
    "import tensorflow.keras.utils as ku "
   ]
  },
  {
   "cell_type": "code",
   "execution_count": 47,
   "metadata": {},
   "outputs": [],
   "source": [
    "corpus = list(descriptions.space)[:100]"
   ]
  },
  {
   "cell_type": "code",
   "execution_count": 48,
   "metadata": {},
   "outputs": [
    {
     "data": {
      "text/plain": [
       "100"
      ]
     },
     "execution_count": 48,
     "metadata": {},
     "output_type": "execute_result"
    }
   ],
   "source": [
    "len(corpus)"
   ]
  },
  {
   "cell_type": "code",
   "execution_count": 49,
   "metadata": {},
   "outputs": [
    {
     "data": {
      "text/plain": [
       "'je suis une dame retraitée, qui propose un agréable petit appartement situé entre bastille et  république.vous pourrez facilement découvrir des marchés, les lieux touristiques, le canal couvert de la bastille au parc de la villette..mon quartier est proche du marais , de la place des vosges avec ses jardins pour détente ainsi que de nombreux restaurantsspacemake your stay in paris a perfect experience.'"
      ]
     },
     "execution_count": 49,
     "metadata": {},
     "output_type": "execute_result"
    }
   ],
   "source": [
    "corpus[0]"
   ]
  },
  {
   "cell_type": "code",
   "execution_count": 50,
   "metadata": {},
   "outputs": [],
   "source": [
    "tokenizer = Tokenizer()"
   ]
  },
  {
   "cell_type": "code",
   "execution_count": 51,
   "metadata": {},
   "outputs": [],
   "source": [
    "def gen_seq_from_tokens(corpus):\n",
    "    tokenizer.fit_on_texts(corpus)\n",
    "    max_words = len(tokenizer.word_index) + 1\n",
    "    input_sequences = []\n",
    "    for line in corpus:\n",
    "        token_list = tokenizer.texts_to_sequences([line])[0]\n",
    "        for i in range(1, len(token_list)):\n",
    "            n_gram_sequence = token_list[:i+1]\n",
    "            input_sequences.append(n_gram_sequence)\n",
    "    return input_sequences, max_words"
   ]
  },
  {
   "cell_type": "code",
   "execution_count": 52,
   "metadata": {},
   "outputs": [],
   "source": [
    "inp_sequences, total_words = gen_seq_from_tokens(corpus)"
   ]
  },
  {
   "cell_type": "code",
   "execution_count": 53,
   "metadata": {},
   "outputs": [
    {
     "data": {
      "text/plain": [
       "3588"
      ]
     },
     "execution_count": 53,
     "metadata": {},
     "output_type": "execute_result"
    }
   ],
   "source": [
    "len(inp_sequences)"
   ]
  },
  {
   "cell_type": "code",
   "execution_count": 54,
   "metadata": {},
   "outputs": [],
   "source": [
    "def generate_padded_sequences(input_sequences):\n",
    "    max_sequence_len = max([len(x) for x in input_sequences])\n",
    "    input_sequences = np.array(pad_sequences(input_sequences, maxlen=max_sequence_len, padding='pre'))\n",
    "    \n",
    "    predictors, label = input_sequences[:,:-1],input_sequences[:,-1]\n",
    "    label = ku.to_categorical(label, num_classes=total_words)\n",
    "    return predictors, label, max_sequence_len\n"
   ]
  },
  {
   "cell_type": "code",
   "execution_count": 55,
   "metadata": {},
   "outputs": [],
   "source": [
    "predictors, label, max_sequence_len = generate_padded_sequences(inp_sequences)"
   ]
  },
  {
   "cell_type": "code",
   "execution_count": 56,
   "metadata": {},
   "outputs": [
    {
     "data": {
      "text/plain": [
       "1229"
      ]
     },
     "execution_count": 56,
     "metadata": {},
     "output_type": "execute_result"
    }
   ],
   "source": [
    "total_words"
   ]
  },
  {
   "cell_type": "code",
   "execution_count": 57,
   "metadata": {},
   "outputs": [],
   "source": [
    "def create_model(max_sequence_len, total_words):\n",
    "    input_len = max_sequence_len - 1\n",
    "    model = Sequential()\n",
    "    \n",
    "    # Add Input Embedding Layer\n",
    "    model.add(Embedding(total_words, 10, input_length=input_len))\n",
    "    \n",
    "    # Add Hidden Layer 1 - LSTM Layer\n",
    "    model.add(LSTM(64))\n",
    "    model.add(Dropout(0.1))\n",
    "    \n",
    "    # Add Output Layer\n",
    "    model.add(Dense(total_words, activation='softmax'))\n",
    "\n",
    "    model.compile(loss='categorical_crossentropy', optimizer='adam')\n",
    "    \n",
    "    return model"
   ]
  },
  {
   "cell_type": "code",
   "execution_count": 58,
   "metadata": {},
   "outputs": [],
   "source": [
    "model = create_model(max_sequence_len, total_words)"
   ]
  },
  {
   "cell_type": "code",
   "execution_count": 59,
   "metadata": {},
   "outputs": [
    {
     "name": "stdout",
     "output_type": "stream",
     "text": [
      "Model: \"sequential_1\"\n",
      "_________________________________________________________________\n",
      "Layer (type)                 Output Shape              Param #   \n",
      "=================================================================\n",
      "embedding_1 (Embedding)      (None, 172, 10)           12290     \n",
      "_________________________________________________________________\n",
      "lstm_1 (LSTM)                (None, 64)                19200     \n",
      "_________________________________________________________________\n",
      "dropout_1 (Dropout)          (None, 64)                0         \n",
      "_________________________________________________________________\n",
      "dense_1 (Dense)              (None, 1229)              79885     \n",
      "=================================================================\n",
      "Total params: 111,375\n",
      "Trainable params: 111,375\n",
      "Non-trainable params: 0\n",
      "_________________________________________________________________\n"
     ]
    }
   ],
   "source": [
    "model.summary()"
   ]
  },
  {
   "cell_type": "code",
   "execution_count": 60,
   "metadata": {},
   "outputs": [],
   "source": [
    "early_stopping = EarlyStopping()"
   ]
  },
  {
   "cell_type": "code",
   "execution_count": null,
   "metadata": {},
   "outputs": [],
   "source": [
    "model.fit(predictors, label, batch_size=0, epochs=50, verbose=0, callbacks=[early_stopping])"
   ]
  },
  {
   "cell_type": "code",
   "execution_count": null,
   "metadata": {},
   "outputs": [],
   "source": [
    "model.save('my_model1')"
   ]
  },
  {
   "cell_type": "code",
   "execution_count": 30,
   "metadata": {},
   "outputs": [],
   "source": [
    "model1 = tf.keras.models.load_model('model1')"
   ]
  },
  {
   "cell_type": "code",
   "execution_count": 31,
   "metadata": {},
   "outputs": [],
   "source": [
    "def generate_text(seed_text, next_words, model, max_sequence_len):\n",
    "    for _ in range(next_words):\n",
    "        token_list = tokenizer.texts_to_sequences([seed_text])[0]\n",
    "        token_list = pad_sequences([token_list], maxlen=max_sequence_len-1, padding='pre')\n",
    "        predicted = model.predict_classes(token_list, verbose=0)\n",
    "        \n",
    "        output_word = \"\"\n",
    "        for word,index in tokenizer.word_index.items():\n",
    "            if index == predicted:\n",
    "                output_word = word\n",
    "                break\n",
    "        seed_text += \" \"+output_word\n",
    "    return seed_text.title()"
   ]
  },
  {
   "cell_type": "code",
   "execution_count": 72,
   "metadata": {},
   "outputs": [
    {
     "data": {
      "text/plain": [
       "'Chambre Appartement Et Situé De Paris Et Et Et Et Et Et Très Calme Et Un Chambre Avec Un Lit Et Un Lit Et Un Lit Et Un Lit Et Un'"
      ]
     },
     "execution_count": 72,
     "metadata": {},
     "output_type": "execute_result"
    }
   ],
   "source": [
    "generate_text(\"chambre\", 30,model, max_sequence_len)"
   ]
  },
  {
   "cell_type": "code",
   "execution_count": 36,
   "metadata": {},
   "outputs": [
    {
     "data": {
      "text/plain": [
       "\"Paris Sens Sens Expérience Reputation Reputation Stalingrad Cadet S'Occupe 100Cm Bicyclette Meublée Mes Fleuries \\x01\\x01Apportez Située 93M2 Prendre Semaines Prendre Séparéesvous\""
      ]
     },
     "execution_count": 36,
     "metadata": {},
     "output_type": "execute_result"
    }
   ],
   "source": [
    "generate_text(\"paris\", 20,model, max_sequence_len)"
   ]
  },
  {
   "cell_type": "code",
   "execution_count": 41,
   "metadata": {},
   "outputs": [
    {
     "data": {
      "text/plain": [
       "'Calme Et Un Lit Avec Un Lit Avec Un Lit Double Avec Un Lit Avec Un Lit Avec Un Lit Avec Un Lit Avec Un Lit Avec Un Lit Avec Un'"
      ]
     },
     "execution_count": 41,
     "metadata": {},
     "output_type": "execute_result"
    }
   ],
   "source": [
    "generate_text(\"calme\", 30,model, max_sequence_len)"
   ]
  },
  {
   "cell_type": "code",
   "execution_count": 42,
   "metadata": {},
   "outputs": [
    {
     "data": {
      "text/plain": [
       "'Mon Appartement Et Un Lit Double Avec Un Lit Avec Un Lit Avec Un Lit Avec Un Lit Avec Un Lit Avec Un Lit Avec Un Lit Avec Un Lit Avec Un'"
      ]
     },
     "execution_count": 42,
     "metadata": {},
     "output_type": "execute_result"
    }
   ],
   "source": [
    "generate_text(\"mon appartement\", 30,model, max_sequence_len)"
   ]
  },
  {
   "cell_type": "code",
   "execution_count": null,
   "metadata": {},
   "outputs": [],
   "source": []
  }
 ],
 "metadata": {
  "kernelspec": {
   "display_name": "Python 3",
   "language": "python",
   "name": "python3"
  },
  "language_info": {
   "codemirror_mode": {
    "name": "ipython",
    "version": 3
   },
   "file_extension": ".py",
   "mimetype": "text/x-python",
   "name": "python",
   "nbconvert_exporter": "python",
   "pygments_lexer": "ipython3",
   "version": "3.7.6"
  }
 },
 "nbformat": 4,
 "nbformat_minor": 4
}
